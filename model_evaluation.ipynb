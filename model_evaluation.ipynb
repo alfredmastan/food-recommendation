{
 "cells": [
  {
   "cell_type": "markdown",
   "id": "fd633618",
   "metadata": {},
   "source": [
    "# Model Evaluation"
   ]
  },
  {
   "cell_type": "code",
   "execution_count": 1,
   "id": "1e68872d",
   "metadata": {},
   "outputs": [],
   "source": [
    "# Import required libraries\n",
    "import numpy as np\n",
    "import pandas as pd\n",
    "import re\n",
    "\n",
    "from gensim.models import Word2Vec\n",
    "from sklearn.metrics.pairwise import cosine_similarity\n",
    "import mlflow\n",
    "\n",
    "import json\n",
    "import requests\n",
    "import boto3\n",
    "\n",
    "import streamlit as st\n",
    "\n",
    "import warnings\n",
    "warnings.filterwarnings(\"ignore\")"
   ]
  },
  {
   "cell_type": "markdown",
   "id": "707c3360",
   "metadata": {},
   "source": [
    "### Logging"
   ]
  },
  {
   "cell_type": "code",
   "execution_count": null,
   "id": "9116ac87",
   "metadata": {},
   "outputs": [
    {
     "name": "stderr",
     "output_type": "stream",
     "text": [
      "Downloading artifacts: 100%|██████████| 1/1 [00:00<00:00, 2900.63it/s] \n",
      "Downloading artifacts: 100%|██████████| 1/1 [00:00<00:00, 1110.19it/s]\n"
     ]
    },
    {
     "name": "stdout",
     "output_type": "stream",
     "text": [
      "🏃 View run masked-goose-28 at: http://127.0.0.1:5000/#/experiments/505961469723674826/runs/d64ee3d5309240a4a2b7c2261d6137ca\n",
      "🧪 View experiment at: http://127.0.0.1:5000/#/experiments/505961469723674826\n"
     ]
    }
   ],
   "source": [
    "model_path = \"word2vec.model\"\n",
    "recipe_path = \"processed_cookbook.pkl\"\n",
    "\n",
    "mlflow.set_tracking_uri(\"http://127.0.0.1:5000\")\n",
    "mlflow.set_experiment(\"word2vec_experiment\")\n",
    "\n",
    "with mlflow.start_run():\n",
    "    # mlflow.log_params(params)\n",
    "\n",
    "    model_info = mlflow.pyfunc.log_model(\n",
    "        name=\"word2vec_model\",\n",
    "        python_model=\"./models/word2vec.py\",\n",
    "        artifacts={\"model_path\": model_path, \"recipe_path\": recipe_path},\n",
    "        pip_requirements=[\"gensim==4.3.3\"]\n",
    "    )\n",
    "    \n",
    "    # Validation \n",
    "    "
   ]
  },
  {
   "cell_type": "markdown",
   "id": "4a827a70",
   "metadata": {},
   "source": [
    "### Validation"
   ]
  },
  {
   "cell_type": "code",
   "execution_count": 4,
   "id": "8280a246",
   "metadata": {},
   "outputs": [
    {
     "name": "stderr",
     "output_type": "stream",
     "text": [
      "Downloading artifacts: 100%|██████████| 7/7 [00:00<00:00, 48.22it/s]\n"
     ]
    }
   ],
   "source": [
    "model = mlflow.pyfunc.load_model(model_info._model_uri)"
   ]
  },
  {
   "cell_type": "code",
   "execution_count": null,
   "id": "29c0f924",
   "metadata": {},
   "outputs": [
    {
     "name": "stderr",
     "output_type": "stream",
     "text": [
      "Downloading artifacts: 100%|██████████| 7/7 [00:00<00:00, 88.29it/s] \n"
     ]
    }
   ],
   "source": [
    "def connect_database():\n",
    "    \"\"\"Connect to the DynamoDB database.\"\"\"\n",
    "    dynamodb = boto3.resource(\"dynamodb\",\n",
    "                            aws_access_key_id=st.secrets.s3.AWS_ACCESS_KEY_ID,\n",
    "                            aws_secret_access_key=st.secrets.s3.AWS_SECRET_ACCESS_KEY,\n",
    "                            region_name=st.secrets.s3.AWS_DEFAULT_REGION)\n",
    "    table = dynamodb.Table(st.secrets.s3.DB_NAME)\n",
    "    return table\n",
    "\n",
    "table = connect_database()\n",
    "\n",
    "user_id = 110833230122006731136 # alfredmastann@gmail.com test user\n",
    "user_item = table.get_item(Key={\"user_id\": int(user_id)})[\"Item\"]\n",
    "\n",
    "liked_idx = list(map(int, user_item[\"liked_idx\"].keys()))\n",
    "disliked_idx = list(map(int, user_item[\"disliked_idx\"].keys()))\n",
    "\n",
    "loaded_model = mlflow.pyfunc.load_model(model_uri=model_info.model_uri)\n",
    "predicted = loaded_model.predict([liked_idx, disliked_idx])"
   ]
  },
  {
   "cell_type": "code",
   "execution_count": 6,
   "id": "40eb962f",
   "metadata": {},
   "outputs": [
    {
     "data": {
      "text/plain": [
       "array([5499,  583, 4381, 5703,  756, 5575, 4930,  735, 3179, 3934])"
      ]
     },
     "execution_count": 6,
     "metadata": {},
     "output_type": "execute_result"
    }
   ],
   "source": [
    "np.asarray(json.loads(predicted))"
   ]
  },
  {
   "cell_type": "code",
   "execution_count": 25,
   "id": "3ae3048a",
   "metadata": {},
   "outputs": [
    {
     "data": {
      "text/plain": [
       "{'6153': '2025-07-22 22:24:01',\n",
       " '4195': '2025-07-22 22:23:28',\n",
       " '5485': '2025-07-22 22:24:00',\n",
       " '6212': '2025-07-22 22:24:17',\n",
       " '6079': '2025-07-22 22:24:44',\n",
       " '6092': '2025-07-22 22:23:59',\n",
       " '3220': '2025-07-22 22:25:03',\n",
       " '6173': '2025-07-22 22:24:33',\n",
       " '5816': '2025-07-22 22:24:49',\n",
       " '499': '2025-07-22 22:23:33',\n",
       " '995': '2025-07-22 22:25:09',\n",
       " '4005': '2025-07-22 22:24:59',\n",
       " '4226': '2025-07-22 22:23:45',\n",
       " '93': '2025-07-22 22:24:03',\n",
       " '5437': '2025-07-22 22:23:48',\n",
       " '5778': '2025-07-22 22:24:06',\n",
       " '6129': '2025-07-22 22:24:29',\n",
       " '617': '2025-07-22 22:24:43',\n",
       " '4701': '2025-07-22 22:24:47',\n",
       " '6163': '2025-07-22 22:24:07',\n",
       " '5791': '2025-07-22 22:23:57',\n",
       " '5593': '2025-07-22 22:24:22',\n",
       " '5794': '2025-07-22 22:23:26',\n",
       " '4485': '2025-07-22 22:24:41',\n",
       " '5993': '2025-07-22 22:24:31',\n",
       " '4102': '2025-07-22 22:25:17',\n",
       " '1792': '2025-07-22 22:23:37',\n",
       " '1076': '2025-07-22 22:24:55',\n",
       " '6081': '2025-07-22 22:25:05',\n",
       " '3194': '2025-07-22 22:24:42',\n",
       " '1008': '2025-07-22 22:23:35',\n",
       " '5508': '2025-07-22 22:23:40',\n",
       " '3406': '2025-07-22 22:24:28',\n",
       " '683': '2025-07-22 22:23:58',\n",
       " '4817': '2025-07-22 22:24:16',\n",
       " '3148': '2025-07-22 22:23:50',\n",
       " '149': '2025-07-22 22:24:50',\n",
       " '5601': '2025-07-22 22:25:12',\n",
       " '4216': '2025-07-22 22:24:30',\n",
       " '5506': '2025-07-22 22:24:37'}"
      ]
     },
     "execution_count": 25,
     "metadata": {},
     "output_type": "execute_result"
    }
   ],
   "source": [
    "user_item[\"liked_idx\"]"
   ]
  },
  {
   "cell_type": "code",
   "execution_count": 8,
   "id": "a4e2a3c6",
   "metadata": {},
   "outputs": [
    {
     "data": {
      "application/vnd.microsoft.datawrangler.viewer.v0+json": {
       "columns": [
        {
         "name": "index",
         "rawType": "int64",
         "type": "integer"
        },
        {
         "name": "recipe_id",
         "rawType": "int64",
         "type": "integer"
        },
        {
         "name": "date",
         "rawType": "datetime64[ns]",
         "type": "datetime"
        }
       ],
       "ref": "8c1f6a19-8928-49d3-abed-6846599bf140",
       "rows": [
        [
         "0",
         "4102",
         "2025-07-22 22:25:17"
        ],
        [
         "1",
         "5601",
         "2025-07-22 22:25:12"
        ],
        [
         "2",
         "995",
         "2025-07-22 22:25:09"
        ],
        [
         "3",
         "6081",
         "2025-07-22 22:25:05"
        ],
        [
         "4",
         "3220",
         "2025-07-22 22:25:03"
        ],
        [
         "5",
         "4005",
         "2025-07-22 22:24:59"
        ],
        [
         "6",
         "1076",
         "2025-07-22 22:24:55"
        ],
        [
         "7",
         "149",
         "2025-07-22 22:24:50"
        ],
        [
         "8",
         "5816",
         "2025-07-22 22:24:49"
        ],
        [
         "9",
         "4701",
         "2025-07-22 22:24:47"
        ],
        [
         "10",
         "6079",
         "2025-07-22 22:24:44"
        ],
        [
         "11",
         "617",
         "2025-07-22 22:24:43"
        ],
        [
         "12",
         "3194",
         "2025-07-22 22:24:42"
        ],
        [
         "13",
         "4485",
         "2025-07-22 22:24:41"
        ],
        [
         "14",
         "5506",
         "2025-07-22 22:24:37"
        ],
        [
         "15",
         "6173",
         "2025-07-22 22:24:33"
        ],
        [
         "16",
         "5993",
         "2025-07-22 22:24:31"
        ],
        [
         "17",
         "4216",
         "2025-07-22 22:24:30"
        ],
        [
         "18",
         "6129",
         "2025-07-22 22:24:29"
        ],
        [
         "19",
         "3406",
         "2025-07-22 22:24:28"
        ],
        [
         "20",
         "5593",
         "2025-07-22 22:24:22"
        ],
        [
         "21",
         "6212",
         "2025-07-22 22:24:17"
        ],
        [
         "22",
         "4817",
         "2025-07-22 22:24:16"
        ],
        [
         "23",
         "6163",
         "2025-07-22 22:24:07"
        ],
        [
         "24",
         "5778",
         "2025-07-22 22:24:06"
        ],
        [
         "25",
         "93",
         "2025-07-22 22:24:03"
        ],
        [
         "26",
         "6153",
         "2025-07-22 22:24:01"
        ],
        [
         "27",
         "5485",
         "2025-07-22 22:24:00"
        ],
        [
         "28",
         "6092",
         "2025-07-22 22:23:59"
        ],
        [
         "29",
         "683",
         "2025-07-22 22:23:58"
        ],
        [
         "30",
         "5791",
         "2025-07-22 22:23:57"
        ],
        [
         "31",
         "3148",
         "2025-07-22 22:23:50"
        ],
        [
         "32",
         "5437",
         "2025-07-22 22:23:48"
        ],
        [
         "33",
         "4226",
         "2025-07-22 22:23:45"
        ],
        [
         "34",
         "5508",
         "2025-07-22 22:23:40"
        ]
       ],
       "shape": {
        "columns": 2,
        "rows": 35
       }
      },
      "text/html": [
       "<div>\n",
       "<style scoped>\n",
       "    .dataframe tbody tr th:only-of-type {\n",
       "        vertical-align: middle;\n",
       "    }\n",
       "\n",
       "    .dataframe tbody tr th {\n",
       "        vertical-align: top;\n",
       "    }\n",
       "\n",
       "    .dataframe thead th {\n",
       "        text-align: right;\n",
       "    }\n",
       "</style>\n",
       "<table border=\"1\" class=\"dataframe\">\n",
       "  <thead>\n",
       "    <tr style=\"text-align: right;\">\n",
       "      <th></th>\n",
       "      <th>recipe_id</th>\n",
       "      <th>date</th>\n",
       "    </tr>\n",
       "  </thead>\n",
       "  <tbody>\n",
       "    <tr>\n",
       "      <th>0</th>\n",
       "      <td>4102</td>\n",
       "      <td>2025-07-22 22:25:17</td>\n",
       "    </tr>\n",
       "    <tr>\n",
       "      <th>1</th>\n",
       "      <td>5601</td>\n",
       "      <td>2025-07-22 22:25:12</td>\n",
       "    </tr>\n",
       "    <tr>\n",
       "      <th>2</th>\n",
       "      <td>995</td>\n",
       "      <td>2025-07-22 22:25:09</td>\n",
       "    </tr>\n",
       "    <tr>\n",
       "      <th>3</th>\n",
       "      <td>6081</td>\n",
       "      <td>2025-07-22 22:25:05</td>\n",
       "    </tr>\n",
       "    <tr>\n",
       "      <th>4</th>\n",
       "      <td>3220</td>\n",
       "      <td>2025-07-22 22:25:03</td>\n",
       "    </tr>\n",
       "    <tr>\n",
       "      <th>5</th>\n",
       "      <td>4005</td>\n",
       "      <td>2025-07-22 22:24:59</td>\n",
       "    </tr>\n",
       "    <tr>\n",
       "      <th>6</th>\n",
       "      <td>1076</td>\n",
       "      <td>2025-07-22 22:24:55</td>\n",
       "    </tr>\n",
       "    <tr>\n",
       "      <th>7</th>\n",
       "      <td>149</td>\n",
       "      <td>2025-07-22 22:24:50</td>\n",
       "    </tr>\n",
       "    <tr>\n",
       "      <th>8</th>\n",
       "      <td>5816</td>\n",
       "      <td>2025-07-22 22:24:49</td>\n",
       "    </tr>\n",
       "    <tr>\n",
       "      <th>9</th>\n",
       "      <td>4701</td>\n",
       "      <td>2025-07-22 22:24:47</td>\n",
       "    </tr>\n",
       "    <tr>\n",
       "      <th>10</th>\n",
       "      <td>6079</td>\n",
       "      <td>2025-07-22 22:24:44</td>\n",
       "    </tr>\n",
       "    <tr>\n",
       "      <th>11</th>\n",
       "      <td>617</td>\n",
       "      <td>2025-07-22 22:24:43</td>\n",
       "    </tr>\n",
       "    <tr>\n",
       "      <th>12</th>\n",
       "      <td>3194</td>\n",
       "      <td>2025-07-22 22:24:42</td>\n",
       "    </tr>\n",
       "    <tr>\n",
       "      <th>13</th>\n",
       "      <td>4485</td>\n",
       "      <td>2025-07-22 22:24:41</td>\n",
       "    </tr>\n",
       "    <tr>\n",
       "      <th>14</th>\n",
       "      <td>5506</td>\n",
       "      <td>2025-07-22 22:24:37</td>\n",
       "    </tr>\n",
       "    <tr>\n",
       "      <th>15</th>\n",
       "      <td>6173</td>\n",
       "      <td>2025-07-22 22:24:33</td>\n",
       "    </tr>\n",
       "    <tr>\n",
       "      <th>16</th>\n",
       "      <td>5993</td>\n",
       "      <td>2025-07-22 22:24:31</td>\n",
       "    </tr>\n",
       "    <tr>\n",
       "      <th>17</th>\n",
       "      <td>4216</td>\n",
       "      <td>2025-07-22 22:24:30</td>\n",
       "    </tr>\n",
       "    <tr>\n",
       "      <th>18</th>\n",
       "      <td>6129</td>\n",
       "      <td>2025-07-22 22:24:29</td>\n",
       "    </tr>\n",
       "    <tr>\n",
       "      <th>19</th>\n",
       "      <td>3406</td>\n",
       "      <td>2025-07-22 22:24:28</td>\n",
       "    </tr>\n",
       "    <tr>\n",
       "      <th>20</th>\n",
       "      <td>5593</td>\n",
       "      <td>2025-07-22 22:24:22</td>\n",
       "    </tr>\n",
       "    <tr>\n",
       "      <th>21</th>\n",
       "      <td>6212</td>\n",
       "      <td>2025-07-22 22:24:17</td>\n",
       "    </tr>\n",
       "    <tr>\n",
       "      <th>22</th>\n",
       "      <td>4817</td>\n",
       "      <td>2025-07-22 22:24:16</td>\n",
       "    </tr>\n",
       "    <tr>\n",
       "      <th>23</th>\n",
       "      <td>6163</td>\n",
       "      <td>2025-07-22 22:24:07</td>\n",
       "    </tr>\n",
       "    <tr>\n",
       "      <th>24</th>\n",
       "      <td>5778</td>\n",
       "      <td>2025-07-22 22:24:06</td>\n",
       "    </tr>\n",
       "    <tr>\n",
       "      <th>25</th>\n",
       "      <td>93</td>\n",
       "      <td>2025-07-22 22:24:03</td>\n",
       "    </tr>\n",
       "    <tr>\n",
       "      <th>26</th>\n",
       "      <td>6153</td>\n",
       "      <td>2025-07-22 22:24:01</td>\n",
       "    </tr>\n",
       "    <tr>\n",
       "      <th>27</th>\n",
       "      <td>5485</td>\n",
       "      <td>2025-07-22 22:24:00</td>\n",
       "    </tr>\n",
       "    <tr>\n",
       "      <th>28</th>\n",
       "      <td>6092</td>\n",
       "      <td>2025-07-22 22:23:59</td>\n",
       "    </tr>\n",
       "    <tr>\n",
       "      <th>29</th>\n",
       "      <td>683</td>\n",
       "      <td>2025-07-22 22:23:58</td>\n",
       "    </tr>\n",
       "    <tr>\n",
       "      <th>30</th>\n",
       "      <td>5791</td>\n",
       "      <td>2025-07-22 22:23:57</td>\n",
       "    </tr>\n",
       "    <tr>\n",
       "      <th>31</th>\n",
       "      <td>3148</td>\n",
       "      <td>2025-07-22 22:23:50</td>\n",
       "    </tr>\n",
       "    <tr>\n",
       "      <th>32</th>\n",
       "      <td>5437</td>\n",
       "      <td>2025-07-22 22:23:48</td>\n",
       "    </tr>\n",
       "    <tr>\n",
       "      <th>33</th>\n",
       "      <td>4226</td>\n",
       "      <td>2025-07-22 22:23:45</td>\n",
       "    </tr>\n",
       "    <tr>\n",
       "      <th>34</th>\n",
       "      <td>5508</td>\n",
       "      <td>2025-07-22 22:23:40</td>\n",
       "    </tr>\n",
       "  </tbody>\n",
       "</table>\n",
       "</div>"
      ],
      "text/plain": [
       "    recipe_id                date\n",
       "0        4102 2025-07-22 22:25:17\n",
       "1        5601 2025-07-22 22:25:12\n",
       "2         995 2025-07-22 22:25:09\n",
       "3        6081 2025-07-22 22:25:05\n",
       "4        3220 2025-07-22 22:25:03\n",
       "5        4005 2025-07-22 22:24:59\n",
       "6        1076 2025-07-22 22:24:55\n",
       "7         149 2025-07-22 22:24:50\n",
       "8        5816 2025-07-22 22:24:49\n",
       "9        4701 2025-07-22 22:24:47\n",
       "10       6079 2025-07-22 22:24:44\n",
       "11        617 2025-07-22 22:24:43\n",
       "12       3194 2025-07-22 22:24:42\n",
       "13       4485 2025-07-22 22:24:41\n",
       "14       5506 2025-07-22 22:24:37\n",
       "15       6173 2025-07-22 22:24:33\n",
       "16       5993 2025-07-22 22:24:31\n",
       "17       4216 2025-07-22 22:24:30\n",
       "18       6129 2025-07-22 22:24:29\n",
       "19       3406 2025-07-22 22:24:28\n",
       "20       5593 2025-07-22 22:24:22\n",
       "21       6212 2025-07-22 22:24:17\n",
       "22       4817 2025-07-22 22:24:16\n",
       "23       6163 2025-07-22 22:24:07\n",
       "24       5778 2025-07-22 22:24:06\n",
       "25         93 2025-07-22 22:24:03\n",
       "26       6153 2025-07-22 22:24:01\n",
       "27       5485 2025-07-22 22:24:00\n",
       "28       6092 2025-07-22 22:23:59\n",
       "29        683 2025-07-22 22:23:58\n",
       "30       5791 2025-07-22 22:23:57\n",
       "31       3148 2025-07-22 22:23:50\n",
       "32       5437 2025-07-22 22:23:48\n",
       "33       4226 2025-07-22 22:23:45\n",
       "34       5508 2025-07-22 22:23:40"
      ]
     },
     "execution_count": 8,
     "metadata": {},
     "output_type": "execute_result"
    }
   ],
   "source": [
    "liked_df = pd.DataFrame().from_dict(user_item[\"liked_idx\"], orient=\"index\").reset_index().rename(columns={\"index\": \"recipe_id\", 0: \"date\"})\n",
    "liked_df[\"date\"] = pd.to_datetime(liked_df[\"date\"])\n",
    "liked_df[\"recipe_id\"] = liked_df[\"recipe_id\"].astype(int)\n",
    "liked_df.sort_values(by=\"date\", ascending=False, inplace=True)\n",
    "liked_df.reset_index(drop=True, inplace=True)\n",
    "like_test = liked_df.iloc[:-5, :]\n",
    "like_test"
   ]
  },
  {
   "cell_type": "code",
   "execution_count": 9,
   "id": "029e2660",
   "metadata": {},
   "outputs": [
    {
     "data": {
      "application/vnd.microsoft.datawrangler.viewer.v0+json": {
       "columns": [
        {
         "name": "index",
         "rawType": "int64",
         "type": "integer"
        },
        {
         "name": "recipe_id",
         "rawType": "int64",
         "type": "integer"
        },
        {
         "name": "date",
         "rawType": "datetime64[ns]",
         "type": "datetime"
        }
       ],
       "ref": "396b2f05-7e09-4825-909c-13605347383c",
       "rows": [
        [
         "0",
         "4006",
         "2025-07-22 22:25:16"
        ],
        [
         "1",
         "6228",
         "2025-07-22 22:25:15"
        ],
        [
         "2",
         "219",
         "2025-07-22 22:25:14"
        ],
        [
         "3",
         "6025",
         "2025-07-22 22:25:13"
        ],
        [
         "4",
         "1053",
         "2025-07-22 22:25:08"
        ],
        [
         "5",
         "5978",
         "2025-07-22 22:25:07"
        ],
        [
         "6",
         "930",
         "2025-07-22 22:25:06"
        ],
        [
         "7",
         "3193",
         "2025-07-22 22:25:02"
        ],
        [
         "8",
         "762",
         "2025-07-22 22:25:01"
        ],
        [
         "9",
         "821",
         "2025-07-22 22:25:00"
        ],
        [
         "10",
         "53",
         "2025-07-22 22:24:57"
        ],
        [
         "11",
         "3421",
         "2025-07-22 22:24:56"
        ],
        [
         "12",
         "3809",
         "2025-07-22 22:24:54"
        ],
        [
         "13",
         "507",
         "2025-07-22 22:24:46"
        ],
        [
         "14",
         "6160",
         "2025-07-22 22:24:45"
        ],
        [
         "15",
         "6266",
         "2025-07-22 22:24:39"
        ],
        [
         "16",
         "529",
         "2025-07-22 22:24:38"
        ],
        [
         "17",
         "5579",
         "2025-07-22 22:24:35"
        ],
        [
         "18",
         "4365",
         "2025-07-22 22:24:32"
        ],
        [
         "19",
         "6053",
         "2025-07-22 22:24:27"
        ],
        [
         "20",
         "5914",
         "2025-07-22 22:24:21"
        ],
        [
         "21",
         "3191",
         "2025-07-22 22:24:20"
        ],
        [
         "22",
         "6179",
         "2025-07-22 22:24:19"
        ],
        [
         "23",
         "733",
         "2025-07-22 22:24:15"
        ],
        [
         "24",
         "5808",
         "2025-07-22 22:24:14"
        ],
        [
         "25",
         "3204",
         "2025-07-22 22:24:12"
        ],
        [
         "26",
         "563",
         "2025-07-22 22:24:11"
        ],
        [
         "27",
         "660",
         "2025-07-22 22:24:10"
        ],
        [
         "28",
         "447",
         "2025-07-22 22:23:56"
        ],
        [
         "29",
         "4756",
         "2025-07-22 22:23:52"
        ],
        [
         "30",
         "56",
         "2025-07-22 22:23:51"
        ],
        [
         "31",
         "1551",
         "2025-07-22 22:23:46"
        ],
        [
         "32",
         "4614",
         "2025-07-22 22:23:44"
        ],
        [
         "33",
         "3398",
         "2025-07-22 22:23:43"
        ],
        [
         "34",
         "3837",
         "2025-07-22 22:23:41"
        ]
       ],
       "shape": {
        "columns": 2,
        "rows": 35
       }
      },
      "text/html": [
       "<div>\n",
       "<style scoped>\n",
       "    .dataframe tbody tr th:only-of-type {\n",
       "        vertical-align: middle;\n",
       "    }\n",
       "\n",
       "    .dataframe tbody tr th {\n",
       "        vertical-align: top;\n",
       "    }\n",
       "\n",
       "    .dataframe thead th {\n",
       "        text-align: right;\n",
       "    }\n",
       "</style>\n",
       "<table border=\"1\" class=\"dataframe\">\n",
       "  <thead>\n",
       "    <tr style=\"text-align: right;\">\n",
       "      <th></th>\n",
       "      <th>recipe_id</th>\n",
       "      <th>date</th>\n",
       "    </tr>\n",
       "  </thead>\n",
       "  <tbody>\n",
       "    <tr>\n",
       "      <th>0</th>\n",
       "      <td>4006</td>\n",
       "      <td>2025-07-22 22:25:16</td>\n",
       "    </tr>\n",
       "    <tr>\n",
       "      <th>1</th>\n",
       "      <td>6228</td>\n",
       "      <td>2025-07-22 22:25:15</td>\n",
       "    </tr>\n",
       "    <tr>\n",
       "      <th>2</th>\n",
       "      <td>219</td>\n",
       "      <td>2025-07-22 22:25:14</td>\n",
       "    </tr>\n",
       "    <tr>\n",
       "      <th>3</th>\n",
       "      <td>6025</td>\n",
       "      <td>2025-07-22 22:25:13</td>\n",
       "    </tr>\n",
       "    <tr>\n",
       "      <th>4</th>\n",
       "      <td>1053</td>\n",
       "      <td>2025-07-22 22:25:08</td>\n",
       "    </tr>\n",
       "    <tr>\n",
       "      <th>5</th>\n",
       "      <td>5978</td>\n",
       "      <td>2025-07-22 22:25:07</td>\n",
       "    </tr>\n",
       "    <tr>\n",
       "      <th>6</th>\n",
       "      <td>930</td>\n",
       "      <td>2025-07-22 22:25:06</td>\n",
       "    </tr>\n",
       "    <tr>\n",
       "      <th>7</th>\n",
       "      <td>3193</td>\n",
       "      <td>2025-07-22 22:25:02</td>\n",
       "    </tr>\n",
       "    <tr>\n",
       "      <th>8</th>\n",
       "      <td>762</td>\n",
       "      <td>2025-07-22 22:25:01</td>\n",
       "    </tr>\n",
       "    <tr>\n",
       "      <th>9</th>\n",
       "      <td>821</td>\n",
       "      <td>2025-07-22 22:25:00</td>\n",
       "    </tr>\n",
       "    <tr>\n",
       "      <th>10</th>\n",
       "      <td>53</td>\n",
       "      <td>2025-07-22 22:24:57</td>\n",
       "    </tr>\n",
       "    <tr>\n",
       "      <th>11</th>\n",
       "      <td>3421</td>\n",
       "      <td>2025-07-22 22:24:56</td>\n",
       "    </tr>\n",
       "    <tr>\n",
       "      <th>12</th>\n",
       "      <td>3809</td>\n",
       "      <td>2025-07-22 22:24:54</td>\n",
       "    </tr>\n",
       "    <tr>\n",
       "      <th>13</th>\n",
       "      <td>507</td>\n",
       "      <td>2025-07-22 22:24:46</td>\n",
       "    </tr>\n",
       "    <tr>\n",
       "      <th>14</th>\n",
       "      <td>6160</td>\n",
       "      <td>2025-07-22 22:24:45</td>\n",
       "    </tr>\n",
       "    <tr>\n",
       "      <th>15</th>\n",
       "      <td>6266</td>\n",
       "      <td>2025-07-22 22:24:39</td>\n",
       "    </tr>\n",
       "    <tr>\n",
       "      <th>16</th>\n",
       "      <td>529</td>\n",
       "      <td>2025-07-22 22:24:38</td>\n",
       "    </tr>\n",
       "    <tr>\n",
       "      <th>17</th>\n",
       "      <td>5579</td>\n",
       "      <td>2025-07-22 22:24:35</td>\n",
       "    </tr>\n",
       "    <tr>\n",
       "      <th>18</th>\n",
       "      <td>4365</td>\n",
       "      <td>2025-07-22 22:24:32</td>\n",
       "    </tr>\n",
       "    <tr>\n",
       "      <th>19</th>\n",
       "      <td>6053</td>\n",
       "      <td>2025-07-22 22:24:27</td>\n",
       "    </tr>\n",
       "    <tr>\n",
       "      <th>20</th>\n",
       "      <td>5914</td>\n",
       "      <td>2025-07-22 22:24:21</td>\n",
       "    </tr>\n",
       "    <tr>\n",
       "      <th>21</th>\n",
       "      <td>3191</td>\n",
       "      <td>2025-07-22 22:24:20</td>\n",
       "    </tr>\n",
       "    <tr>\n",
       "      <th>22</th>\n",
       "      <td>6179</td>\n",
       "      <td>2025-07-22 22:24:19</td>\n",
       "    </tr>\n",
       "    <tr>\n",
       "      <th>23</th>\n",
       "      <td>733</td>\n",
       "      <td>2025-07-22 22:24:15</td>\n",
       "    </tr>\n",
       "    <tr>\n",
       "      <th>24</th>\n",
       "      <td>5808</td>\n",
       "      <td>2025-07-22 22:24:14</td>\n",
       "    </tr>\n",
       "    <tr>\n",
       "      <th>25</th>\n",
       "      <td>3204</td>\n",
       "      <td>2025-07-22 22:24:12</td>\n",
       "    </tr>\n",
       "    <tr>\n",
       "      <th>26</th>\n",
       "      <td>563</td>\n",
       "      <td>2025-07-22 22:24:11</td>\n",
       "    </tr>\n",
       "    <tr>\n",
       "      <th>27</th>\n",
       "      <td>660</td>\n",
       "      <td>2025-07-22 22:24:10</td>\n",
       "    </tr>\n",
       "    <tr>\n",
       "      <th>28</th>\n",
       "      <td>447</td>\n",
       "      <td>2025-07-22 22:23:56</td>\n",
       "    </tr>\n",
       "    <tr>\n",
       "      <th>29</th>\n",
       "      <td>4756</td>\n",
       "      <td>2025-07-22 22:23:52</td>\n",
       "    </tr>\n",
       "    <tr>\n",
       "      <th>30</th>\n",
       "      <td>56</td>\n",
       "      <td>2025-07-22 22:23:51</td>\n",
       "    </tr>\n",
       "    <tr>\n",
       "      <th>31</th>\n",
       "      <td>1551</td>\n",
       "      <td>2025-07-22 22:23:46</td>\n",
       "    </tr>\n",
       "    <tr>\n",
       "      <th>32</th>\n",
       "      <td>4614</td>\n",
       "      <td>2025-07-22 22:23:44</td>\n",
       "    </tr>\n",
       "    <tr>\n",
       "      <th>33</th>\n",
       "      <td>3398</td>\n",
       "      <td>2025-07-22 22:23:43</td>\n",
       "    </tr>\n",
       "    <tr>\n",
       "      <th>34</th>\n",
       "      <td>3837</td>\n",
       "      <td>2025-07-22 22:23:41</td>\n",
       "    </tr>\n",
       "  </tbody>\n",
       "</table>\n",
       "</div>"
      ],
      "text/plain": [
       "    recipe_id                date\n",
       "0        4006 2025-07-22 22:25:16\n",
       "1        6228 2025-07-22 22:25:15\n",
       "2         219 2025-07-22 22:25:14\n",
       "3        6025 2025-07-22 22:25:13\n",
       "4        1053 2025-07-22 22:25:08\n",
       "5        5978 2025-07-22 22:25:07\n",
       "6         930 2025-07-22 22:25:06\n",
       "7        3193 2025-07-22 22:25:02\n",
       "8         762 2025-07-22 22:25:01\n",
       "9         821 2025-07-22 22:25:00\n",
       "10         53 2025-07-22 22:24:57\n",
       "11       3421 2025-07-22 22:24:56\n",
       "12       3809 2025-07-22 22:24:54\n",
       "13        507 2025-07-22 22:24:46\n",
       "14       6160 2025-07-22 22:24:45\n",
       "15       6266 2025-07-22 22:24:39\n",
       "16        529 2025-07-22 22:24:38\n",
       "17       5579 2025-07-22 22:24:35\n",
       "18       4365 2025-07-22 22:24:32\n",
       "19       6053 2025-07-22 22:24:27\n",
       "20       5914 2025-07-22 22:24:21\n",
       "21       3191 2025-07-22 22:24:20\n",
       "22       6179 2025-07-22 22:24:19\n",
       "23        733 2025-07-22 22:24:15\n",
       "24       5808 2025-07-22 22:24:14\n",
       "25       3204 2025-07-22 22:24:12\n",
       "26        563 2025-07-22 22:24:11\n",
       "27        660 2025-07-22 22:24:10\n",
       "28        447 2025-07-22 22:23:56\n",
       "29       4756 2025-07-22 22:23:52\n",
       "30         56 2025-07-22 22:23:51\n",
       "31       1551 2025-07-22 22:23:46\n",
       "32       4614 2025-07-22 22:23:44\n",
       "33       3398 2025-07-22 22:23:43\n",
       "34       3837 2025-07-22 22:23:41"
      ]
     },
     "execution_count": 9,
     "metadata": {},
     "output_type": "execute_result"
    }
   ],
   "source": [
    "disliked_df = pd.DataFrame().from_dict(user_item[\"disliked_idx\"], orient=\"index\").reset_index().rename(columns={\"index\": \"recipe_id\", 0: \"date\"})\n",
    "disliked_df[\"date\"] = pd.to_datetime(disliked_df[\"date\"])\n",
    "disliked_df[\"recipe_id\"] = disliked_df[\"recipe_id\"].astype(int)\n",
    "disliked_df.sort_values(by=\"date\", ascending=False, inplace=True)\n",
    "disliked_df.reset_index(drop=True, inplace=True)\n",
    "dislike_test = disliked_df.iloc[:-5, :]\n",
    "dislike_test"
   ]
  },
  {
   "cell_type": "code",
   "execution_count": 10,
   "id": "0b544193",
   "metadata": {},
   "outputs": [
    {
     "data": {
      "text/plain": [
       "array([3934, 5892, 3179, 5794, 5301, 5585, 3214, 5575, 5499, 5703])"
      ]
     },
     "execution_count": 10,
     "metadata": {},
     "output_type": "execute_result"
    }
   ],
   "source": [
    "prediction = loaded_model.predict([like_test[\"recipe_id\"].values.tolist(), dislike_test[\"recipe_id\"].values.tolist()])\n",
    "prediction = np.asarray(json.loads(prediction))\n",
    "prediction"
   ]
  },
  {
   "cell_type": "markdown",
   "id": "bf96ba4d",
   "metadata": {},
   "source": [
    "Recall@K (K = 10)"
   ]
  },
  {
   "cell_type": "code",
   "execution_count": 27,
   "id": "7893a5e1",
   "metadata": {},
   "outputs": [
    {
     "data": {
      "text/plain": [
       "0.025"
      ]
     },
     "execution_count": 27,
     "metadata": {},
     "output_type": "execute_result"
    }
   ],
   "source": [
    "np.isin(prediction, liked_df[\"recipe_id\"].values.tolist()).sum()/len(liked_df)"
   ]
  },
  {
   "cell_type": "markdown",
   "id": "9fc32fe5",
   "metadata": {},
   "source": [
    "Precision@K (K = 10)"
   ]
  },
  {
   "cell_type": "code",
   "execution_count": 28,
   "id": "6004d97c",
   "metadata": {},
   "outputs": [
    {
     "data": {
      "text/plain": [
       "0.1"
      ]
     },
     "execution_count": 28,
     "metadata": {},
     "output_type": "execute_result"
    }
   ],
   "source": [
    "np.isin(prediction, liked_df[\"recipe_id\"].values.tolist()).sum()/10"
   ]
  },
  {
   "cell_type": "markdown",
   "id": "43a5a218",
   "metadata": {},
   "source": [
    "### Registering"
   ]
  },
  {
   "cell_type": "code",
   "execution_count": null,
   "id": "92d73c6b",
   "metadata": {},
   "outputs": [
    {
     "name": "stderr",
     "output_type": "stream",
     "text": [
      "Successfully registered model 'word2vec_model'.\n",
      "2025/08/11 17:40:28 INFO mlflow.store.model_registry.abstract_store: Waiting up to 300 seconds for model version to finish creation. Model name: word2vec_model, version 1\n"
     ]
    },
    {
     "name": "stdout",
     "output_type": "stream",
     "text": [
      "🏃 View run amusing-stoat-209 at: http://127.0.0.1:5000/#/experiments/505961469723674826/runs/26a9c02ffea8453cb99e5b595e5f5cfd\n",
      "🧪 View experiment at: http://127.0.0.1:5000/#/experiments/505961469723674826\n"
     ]
    },
    {
     "name": "stderr",
     "output_type": "stream",
     "text": [
      "Created version '1' of model 'word2vec_model'.\n"
     ]
    }
   ],
   "source": [
    "# Register model if validation is successful (RUN THIS TO UPDATE THE STREAMLIT MODEL)\n",
    "with mlflow.start_run():\n",
    "    mlflow.register_model(\n",
    "        model_uri=model_info._model_uri,\n",
    "        name=\"word2vec_model\"\n",
    "    )"
   ]
  },
  {
   "cell_type": "code",
   "execution_count": null,
   "id": "e5e89702",
   "metadata": {},
   "outputs": [
    {
     "data": {
      "text/plain": [
       "'\"[3410, 3325, 2352, 5618, 2516, 6250, 1552, 4605, 4987, 6009]\"'"
      ]
     },
     "metadata": {},
     "output_type": "display_data"
    }
   ],
   "source": [
    "# Testing the API call\n",
    "params = {\"liked_idx\": liked_idx, \"disliked_idx\": disliked_idx}\n",
    "response = requests.get(f\"http://localhost:8000/recommend/\", json=params)\n",
    "response.text"
   ]
  }
 ],
 "metadata": {
  "kernelspec": {
   "display_name": "food-rec",
   "language": "python",
   "name": "python3"
  },
  "language_info": {
   "codemirror_mode": {
    "name": "ipython",
    "version": 3
   },
   "file_extension": ".py",
   "mimetype": "text/x-python",
   "name": "python",
   "nbconvert_exporter": "python",
   "pygments_lexer": "ipython3",
   "version": "3.12.3"
  }
 },
 "nbformat": 4,
 "nbformat_minor": 5
}
