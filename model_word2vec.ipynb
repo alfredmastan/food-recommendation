{
 "cells": [
  {
   "cell_type": "markdown",
   "id": "5a448170",
   "metadata": {},
   "source": [
    "# Word2Vec Model"
   ]
  },
  {
   "cell_type": "code",
   "execution_count": 13,
   "id": "8e1dc6b7",
   "metadata": {},
   "outputs": [],
   "source": [
    "import numpy as np\n",
    "import pandas as pd\n",
    "import re\n",
    "import warnings\n",
    "\n",
    "warnings.filterwarnings(\"ignore\")"
   ]
  },
  {
   "cell_type": "code",
   "execution_count": 87,
   "id": "5392da1e",
   "metadata": {},
   "outputs": [
    {
     "data": {
      "text/plain": [
       "{1, 2, 3}"
      ]
     },
     "execution_count": 87,
     "metadata": {},
     "output_type": "execute_result"
    }
   ],
   "source": [
    "test = set()\n",
    "test.add(1)\n",
    "test.add(2)\n",
    "test.add(3)\n",
    "\n",
    "set(np.array([i for i in test]))"
   ]
  },
  {
   "cell_type": "code",
   "execution_count": 14,
   "id": "f6edb8d3",
   "metadata": {},
   "outputs": [],
   "source": [
    "data = pd.read_pickle(\"processed_cookbook.pkl\")"
   ]
  },
  {
   "cell_type": "code",
   "execution_count": 15,
   "id": "0a4a51ce",
   "metadata": {},
   "outputs": [],
   "source": [
    "from gensim.models import Word2Vec\n",
    "# Skip-gram works better for infrequent words and lower data size\n",
    "# CBOW works better for frequent words and larger data size\n",
    "w2v_model = Word2Vec(data.ingredients, vector_size=100, window=11, sg=0, epochs=1000)"
   ]
  },
  {
   "cell_type": "code",
   "execution_count": 16,
   "id": "d786492b",
   "metadata": {},
   "outputs": [],
   "source": [
    "# w2v_model.save(\"word2vec.model\")\n",
    "w2v_model = Word2Vec.load(\"word2vec.model\")\n"
   ]
  },
  {
   "cell_type": "code",
   "execution_count": 17,
   "id": "66778d90",
   "metadata": {},
   "outputs": [
    {
     "data": {
      "text/plain": [
       "11.0"
      ]
     },
     "execution_count": 62,
     "metadata": {},
     "output_type": "execute_result"
    }
   ],
   "source": [
    "# Choose median length of ingredients as window size\n",
    "ingredient_length = np.array([len(ingredient) for ingredient in data.ingredients])\n",
    "np.ceil(np.median(ingredient_length))"
   ]
  },
  {
   "cell_type": "code",
   "execution_count": 18,
   "id": "57ac485c",
   "metadata": {},
   "outputs": [
    {
     "data": {
      "text/plain": [
       "[('vegetable_oil', 0.6726031303405762),\n",
       " ('neutral_oil', 0.5508599281311035),\n",
       " ('peanut_oil', 0.4571745693683624),\n",
       " ('olive_oil', 0.4171428978443146),\n",
       " ('canola_oil', 0.3822813630104065),\n",
       " ('lowsodium_chicken_stock', 0.30548906326293945),\n",
       " ('chinese_wine', 0.2943076491355896),\n",
       " ('chili_oil', 0.27140793204307556),\n",
       " ('scallion', 0.261827290058136),\n",
       " ('tomato_passata', 0.26169365644454956)]"
      ]
     },
     "execution_count": 63,
     "metadata": {},
     "output_type": "execute_result"
    }
   ],
   "source": [
    "w2v_model.wv.most_similar(\"oil\")"
   ]
  },
  {
   "cell_type": "code",
   "execution_count": null,
   "id": "27b7ad5c",
   "metadata": {},
   "outputs": [],
   "source": [
    "from sklearn.metrics.pairwise import cosine_similarity\n",
    "\n",
    "def get_recipe_vector_mean(ingredients: list, model: Word2Vec) -> list:\n",
    "    \"\"\"\n",
    "    Takes in a list of recipe ingredients, embeds it and calculate the mean\n",
    "    \"\"\"\n",
    "    vector_embedding = [model.wv[ing] for ing in ingredients if ing in model.wv]\n",
    "    return np.mean(vector_embedding, axis=0) if vector_embedding else np.zeros(model.vector_size) * -1\n",
    "    "
   ]
  },
  {
   "cell_type": "code",
   "execution_count": 65,
   "id": "ac85d903",
   "metadata": {},
   "outputs": [
    {
     "data": {
      "text/plain": [
       "array([   0,  189,  232, ..., 1285, 1588, 6148])"
      ]
     },
     "execution_count": 65,
     "metadata": {},
     "output_type": "execute_result"
    }
   ],
   "source": [
    "# recipes_vector_mean = [get_recipe_vector_mean(recipe, w2v_model) for recipe in data.ingredients]\n",
    "# # get_recipe_vector_mean([\"blueberries\", \"salt\", \"oil\", \"egg\", \"flour\", \"apple\"], w2v_model)\n",
    "# target_recipe_mean = get_recipe_vector_mean([\"salmon\", \"cheese\", \"broccoli\",\n",
    "#                                              \"garlid_bread\", \"fries\"], w2v_model)\n",
    "# get_top_n_similarities(target_recipe_mean, recipes_vector_mean, 5)\n",
    "\n",
    "recipes_vector_mean = [get_recipe_vector_mean(recipe, w2v_model) for recipe in data.ingredients]\n",
    "recipes_vector_mean = np.array(recipes_vector_mean)\n",
    "\n",
    "sims = cosine_similarity(recipes_vector_mean[0].reshape(1, -1), recipes_vector_mean)[0]\n",
    "sims.argsort()[::-1]"
   ]
  },
  {
   "cell_type": "code",
   "execution_count": null,
   "id": "81cf717f",
   "metadata": {},
   "outputs": [],
   "source": [
    "recipes_vector_mean = [get_recipe_vector_mean(recipe, w2v_model) for recipe in data.ingredients]\n",
    "recipes_vector_mean = np.array(recipes_vector_mean)\n",
    "\n",
    "class User:\n",
    "    def __init__(self, vector_dim):\n",
    "        self.vec = np.zeros(vector_dim)\n",
    "        self.dislike_step = 0.3\n",
    "        self.like_step = 1\n",
    "        self.exclude_idx = set()\n",
    "\n",
    "    def like(self, recipe_vector_mean):\n",
    "        self.vec += self.like_step * recipe_vector_mean\n",
    "\n",
    "    def dislike(self, recipe_vector_mean):\n",
    "        self.vec -= self.dislike_step * recipe_vector_mean\n",
    "\n",
    "    def recommend(self, n):\n",
    "        if not self.vec.any():\n",
    "            rand_idx = np.random.choice(len(recipes_vector_mean), n, replace=False)\n",
    "            return rand_idx\n",
    "\n",
    "        sims = cosine_similarity(self.vec.reshape(1, -1), recipes_vector_mean)[0]\n",
    "\n",
    "        if self.exclude_idx:\n",
    "            sims[list(self.exclude_idx)] = -1 # Exclude recipes shown\n",
    "\n",
    "        return sims.argsort()[::-1][:n]\n",
    "    \n",
    "test_user = User(w2v_model.vector_size)"
   ]
  },
  {
   "cell_type": "code",
   "execution_count": 74,
   "id": "7d5b6324",
   "metadata": {},
   "outputs": [
    {
     "name": "stdout",
     "output_type": "stream",
     "text": [
      "[2404]\n"
     ]
    },
    {
     "data": {
      "text/plain": [
       "100"
      ]
     },
     "execution_count": 74,
     "metadata": {},
     "output_type": "execute_result"
    }
   ],
   "source": [
    "idx = test_user.recommend(1)\n",
    "print(idx)\n",
    "recipes_vector_mean[0]\n",
    "# print(data.recipe_url.iloc[idx[0]])\n",
    "w2v_model.vector_size"
   ]
  },
  {
   "cell_type": "code",
   "execution_count": 386,
   "id": "976fd03c",
   "metadata": {},
   "outputs": [
    {
     "name": "stdout",
     "output_type": "stream",
     "text": [
      "https://thewoksoflife.com/homemade-chinese-egg-noodles/\n",
      "Liked the recipe!\n",
      "https://thewoksoflife.com/liangpi-noodles/\n",
      "Liked the recipe!\n",
      "https://thewoksoflife.com/nai-wong-bao-custard-buns/\n",
      "Liked the recipe!\n",
      "https://thewoksoflife.com/milk-bread-croissants-recipe/\n",
      "Disliked the recipe!\n",
      "https://thewoksoflife.com/flaky-apple-pie-recipe/\n",
      "Disliked the recipe!\n",
      "https://thewoksoflife.com/hong-kong-egg-tarts/\n",
      "Liked the recipe!\n",
      "https://natashaskitchen.com/sweet-cherry-filled-buns-vatrushka-recipe/\n",
      "Liked the recipe!\n",
      "https://www.recipetineats.com/brioche/\n",
      "Disliked the recipe!\n",
      "https://thewoksoflife.com/peach-squares/\n",
      "Disliked the recipe!\n",
      "https://thewoksoflife.com/lotus-leaf-buns/\n",
      "Liked the recipe!\n",
      "https://thewoksoflife.com/steamed-red-bean-buns/\n",
      "Disliked the recipe!\n",
      "https://thewoksoflife.com/chinese-sausage-buns/\n",
      "Liked the recipe!\n",
      "https://thewoksoflife.com/chinese-pineapple-buns-pork/\n",
      "Disliked the recipe!\n",
      "https://natashaskitchen.com/snickerdoodle-cookies/\n",
      "Disliked the recipe!\n",
      "https://natashaskitchen.com/chocolate-crinkle-cookies/\n",
      "Liked the recipe!\n",
      "https://thewoksoflife.com/pumpkin-tres-leches-cake/\n",
      "Liked the recipe!\n",
      "https://thewoksoflife.com/favorite-carrot-cake-recipe/\n",
      "Liked the recipe!\n",
      "https://thewoksoflife.com/banana-bread/\n",
      "Liked the recipe!\n",
      "https://thewoksoflife.com/clementine-cakes/\n",
      "Liked the recipe!\n",
      "https://thewoksoflife.com/dairy-free-cheesecake/\n",
      "Liked the recipe!\n",
      "https://natashaskitchen.com/easy-pumpkin-cake-recipe/\n",
      "Disliked the recipe!\n",
      "https://natashaskitchen.com/sourdough-chocolate-chip-cookies/\n",
      "Disliked the recipe!\n",
      "https://thewoksoflife.com/chinese-swiss-roll/\n",
      "Disliked the recipe!\n",
      "https://thewoksoflife.com/brussels-cookies-recipe/\n",
      "Disliked the recipe!\n",
      "https://thewoksoflife.com/mango-muffins/\n",
      "Disliked the recipe!\n",
      "https://natashaskitchen.com/overnight-sourdough-pancakes/\n",
      "Disliked the recipe!\n",
      "https://natashaskitchen.com/french-breakfast-muffins-recipe/\n",
      "Disliked the recipe!\n",
      "https://www.loveandlemons.com/peanut-butter-cookies/\n",
      "Liked the recipe!\n",
      "https://www.loveandlemons.com/peanut-butter-blossoms/\n",
      "Liked the recipe!\n",
      "https://www.loveandlemons.com/chocolate-chip-cookies/\n",
      "Liked the recipe!\n",
      "https://natashaskitchen.com/soft-chocolate-chip-cookies-recipe/\n",
      "Disliked the recipe!\n",
      "https://natashaskitchen.com/pumpkin-cookies/\n",
      "Disliked the recipe!\n",
      "https://thewoksoflife.com/chocolate-cake-recipe/\n",
      "Disliked the recipe!\n",
      "https://www.justonecookbook.com/meyer-lemon-pound-cake/\n",
      "Liked the recipe!\n",
      "https://natashaskitchen.com/quick-and-easy-buttermilk-pancakes-recipe/\n",
      "Liked the recipe!\n",
      "https://natashaskitchen.com/apple-pancakes/\n",
      "Liked the recipe!\n",
      "https://www.loveandlemons.com/blueberry-muffins-recipe/\n",
      "Disliked the recipe!\n",
      "https://natashaskitchen.com/donut-holes-ponchiki/\n",
      "Disliked the recipe!\n",
      "https://natashaskitchen.com/cherry-upside-down-cake-recipe/\n",
      "Disliked the recipe!\n",
      "https://thewoksoflife.com/funfetti-ice-cream-sandwiches/\n",
      "Liked the recipe!\n",
      "https://www.justonecookbook.com/blueberry-creme-fraiche-scones/\n",
      "Liked the recipe!\n",
      "https://natashaskitchen.com/easter-egg-sugar-cookies/\n",
      "Liked the recipe!\n",
      "https://natashaskitchen.com/sugar-cookies-recipe/\n",
      "Disliked the recipe!\n",
      "Exiting the recommendation system.\n"
     ]
    }
   ],
   "source": [
    "from time import sleep\n",
    "\n",
    "user_input = 0\n",
    "\n",
    "while True:\n",
    "    \n",
    "    if user_input == \"-1\":\n",
    "        print(\"Exiting the recommendation system.\", flush=True)\n",
    "        break\n",
    "\n",
    "    rec_idx = test_user.recommend(1)\n",
    "    rec_url = data.recipe_url.iloc[rec_idx[0]]\n",
    "\n",
    "    print(rec_url, flush=True)\n",
    "\n",
    "    user_input = input(\"0 for dislike, 1 for like, -1 to quit: \")\n",
    "\n",
    "    if user_input == \"1\":\n",
    "        test_user.like(recipes_vector_mean[rec_idx[0]])\n",
    "        print(\"Liked the recipe!\", flush=True)\n",
    "    else:\n",
    "        test_user.dislike(recipes_vector_mean[rec_idx[0]])\n",
    "        print(\"Disliked the recipe!\", flush=True)\n",
    "\n",
    "    test_user.exclude_idx.add(rec_idx[0])"
   ]
  },
  {
   "cell_type": "code",
   "execution_count": null,
   "id": "87381b69",
   "metadata": {},
   "outputs": [
    {
     "data": {
      "text/plain": [
       "['asdasd', 'asd', 'asd', 'a', 'sd', 'a', 'asdasd', 'asd']"
      ]
     },
     "execution_count": 400,
     "metadata": {},
     "output_type": "execute_result"
    }
   ],
   "source": [
    "# data.iloc[test_user.recommend(100), :]\n",
    "\n",
    "# data.iloc[cosine_similarity(test_user.vec.reshape(1, -1), recipes_vector_mean).argsort()[0][::-1], :]"
   ]
  },
  {
   "cell_type": "code",
   "execution_count": 88,
   "id": "344ee236",
   "metadata": {},
   "outputs": [
    {
     "data": {
      "text/plain": [
       "array([-1.91354714e-02,  6.63986132e-02,  8.90939236e-02, ...,\n",
       "        1.00000000e+02,  1.00000000e+02,  0.00000000e+00])"
      ]
     },
     "execution_count": 88,
     "metadata": {},
     "output_type": "execute_result"
    }
   ],
   "source": [
    "np.hstack([recipes_vector_mean[0], [100, 100, 0]])"
   ]
  },
  {
   "cell_type": "code",
   "execution_count": 5,
   "id": "fd4d9be1",
   "metadata": {},
   "outputs": [
    {
     "data": {
      "text/plain": [
       "array([-0.27168563, -0.16897143,  0.3787686 , -0.09206532,  0.04078965,\n",
       "       -0.06412343,  0.10212671, -0.23964828, -0.08686227, -0.20235255,\n",
       "        0.29980344, -0.255956  , -0.06663971,  0.24358888,  0.19246778,\n",
       "       -0.12094   , -0.0811328 , -0.02435989, -0.1146047 , -0.16485226,\n",
       "       -0.03452671, -0.0789252 ,  0.1704962 ,  0.0194522 ,  0.24522936,\n",
       "       -0.0017973 , -0.24600455, -0.11081199, -0.06806016, -0.0466217 ,\n",
       "       -0.33850163,  0.10324778,  0.00628475, -0.31563273,  0.01918057,\n",
       "        0.22137383, -0.08368203, -0.12495574,  0.12044365, -0.20289102,\n",
       "        0.2751795 , -0.2860985 , -0.09349979,  0.00259076,  0.11370799,\n",
       "       -0.2269685 ,  0.10482226,  0.15076938, -0.14638446, -0.21089286,\n",
       "       -0.21453089, -0.02883867, -0.03782435,  0.11072452,  0.00501031,\n",
       "        0.0309107 ,  0.06699391,  0.10127933,  0.07713623,  0.15280007,\n",
       "        0.12606956,  0.05258124, -0.20845813, -0.24534018, -0.26487112,\n",
       "        0.19250645,  0.10080535, -0.06604837, -0.03239607, -0.13624671,\n",
       "        0.01260134,  0.18533891, -0.00338342,  0.0460441 , -0.06366605,\n",
       "       -0.08189492, -0.01955255, -0.17946728,  0.05476093, -0.335303  ,\n",
       "       -0.16587356,  0.23776254,  0.0769079 ,  0.27025366, -0.0358988 ,\n",
       "       -0.15032557, -0.0193681 ,  0.01514704,  0.01720438,  0.2222421 ,\n",
       "        0.25698185,  0.07561578,  0.22097456, -0.00878794,  0.14319758,\n",
       "       -0.03059266, -0.14048305, -0.04119194,  0.08563764,  0.40738875],\n",
       "      dtype=float32)"
      ]
     },
     "execution_count": 5,
     "metadata": {},
     "output_type": "execute_result"
    }
   ],
   "source": [
    "np.mean([w2v_model.wv[k] for k in [\"salt\", \"water\"]], axis=0)"
   ]
  }
 ],
 "metadata": {
  "kernelspec": {
   "display_name": "food-rec",
   "language": "python",
   "name": "python3"
  },
  "language_info": {
   "codemirror_mode": {
    "name": "ipython",
    "version": 3
   },
   "file_extension": ".py",
   "mimetype": "text/x-python",
   "name": "python",
   "nbconvert_exporter": "python",
   "pygments_lexer": "ipython3",
   "version": "3.12.9"
  }
 },
 "nbformat": 4,
 "nbformat_minor": 5
}
