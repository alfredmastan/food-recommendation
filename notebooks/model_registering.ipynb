{
 "cells": [
  {
   "cell_type": "markdown",
   "id": "fd633618",
   "metadata": {},
   "source": [
    "# Model Registering"
   ]
  },
  {
   "cell_type": "code",
   "execution_count": 404,
   "id": "1e68872d",
   "metadata": {},
   "outputs": [],
   "source": [
    "# Import required libraries\n",
    "import numpy as np\n",
    "import pandas as pd\n",
    "import os\n",
    "import shutil \n",
    "import requests\n",
    "\n",
    "import mlflow\n",
    "import json\n",
    "import yaml\n",
    "\n",
    "import warnings\n",
    "warnings.filterwarnings(\"ignore\")"
   ]
  },
  {
   "cell_type": "markdown",
   "id": "707c3360",
   "metadata": {},
   "source": [
    "## Preparation"
   ]
  },
  {
   "cell_type": "code",
   "execution_count": 405,
   "id": "7535f34a",
   "metadata": {},
   "outputs": [],
   "source": [
    "def load_params():\n",
    "    with open(\"../params.yaml\") as f:\n",
    "        params = yaml.safe_load(f)\n",
    "    return params\n",
    "\n",
    "# Load params\n",
    "params = load_params()\n",
    "\n",
    "# Load recipes data\n",
    "data = pd.read_pickle(params[\"model_pipeline\"][\"recipe_path\"])"
   ]
  },
  {
   "cell_type": "code",
   "execution_count": 411,
   "id": "0b9c9f05",
   "metadata": {},
   "outputs": [
    {
     "data": {
      "text/plain": [
       "'32cc39d3e1e24799886476ad91037e36'"
      ]
     },
     "execution_count": 411,
     "metadata": {},
     "output_type": "execute_result"
    }
   ],
   "source": [
    "# Load validation model metadata\n",
    "with open(\"../validation_metadata.json\", \"r\") as f:\n",
    "    metadata = json.load(f)\n",
    "\n",
    "metadata[\"run_id\"]"
   ]
  },
  {
   "cell_type": "code",
   "execution_count": 395,
   "id": "cdce95af",
   "metadata": {},
   "outputs": [
    {
     "data": {
      "text/plain": [
       "'29f4ae3f26834dfd939536d0b57838a9'"
      ]
     },
     "execution_count": 395,
     "metadata": {},
     "output_type": "execute_result"
    }
   ],
   "source": [
    "runs = mlflow.search_runs(experiment_names=[\"FastText-Model\"], order_by=[\"start_time ASC\", \"metrics.ndcg DESC\", \"metrics.rmse DESC\", \"metrics.f1_10 DESC\"])\n",
    "best_run = runs.iloc[0]\n",
    "best_run[\"run_id\"]\n"
   ]
  },
  {
   "cell_type": "code",
   "execution_count": 396,
   "id": "454665eb",
   "metadata": {},
   "outputs": [
    {
     "data": {
      "application/vnd.microsoft.datawrangler.viewer.v0+json": {
       "columns": [
        {
         "name": "index",
         "rawType": "int64",
         "type": "integer"
        },
        {
         "name": "run_id",
         "rawType": "object",
         "type": "string"
        },
        {
         "name": "experiment_id",
         "rawType": "object",
         "type": "string"
        },
        {
         "name": "status",
         "rawType": "object",
         "type": "string"
        },
        {
         "name": "artifact_uri",
         "rawType": "object",
         "type": "string"
        },
        {
         "name": "start_time",
         "rawType": "datetime64[ns, UTC]",
         "type": "unknown"
        },
        {
         "name": "end_time",
         "rawType": "datetime64[ns, UTC]",
         "type": "unknown"
        },
        {
         "name": "metrics.MAP",
         "rawType": "float64",
         "type": "float"
        },
        {
         "name": "metrics.Precision_10",
         "rawType": "float64",
         "type": "float"
        },
        {
         "name": "metrics.MAE",
         "rawType": "float64",
         "type": "float"
        },
        {
         "name": "metrics.RMSE",
         "rawType": "float64",
         "type": "float"
        },
        {
         "name": "metrics.F1_10",
         "rawType": "float64",
         "type": "float"
        },
        {
         "name": "metrics.NDCG",
         "rawType": "float64",
         "type": "float"
        },
        {
         "name": "metrics.MSE",
         "rawType": "float64",
         "type": "float"
        },
        {
         "name": "metrics.Hit-Rate",
         "rawType": "float64",
         "type": "float"
        },
        {
         "name": "metrics.Recall_10",
         "rawType": "float64",
         "type": "float"
        },
        {
         "name": "metrics.MRR",
         "rawType": "float64",
         "type": "float"
        },
        {
         "name": "params.w_cosine",
         "rawType": "object",
         "type": "string"
        },
        {
         "name": "params.epochs",
         "rawType": "object",
         "type": "string"
        },
        {
         "name": "params.window",
         "rawType": "object",
         "type": "string"
        },
        {
         "name": "params.local_uri",
         "rawType": "object",
         "type": "string"
        },
        {
         "name": "params.vector_size",
         "rawType": "object",
         "type": "string"
        },
        {
         "name": "params.sg",
         "rawType": "object",
         "type": "string"
        },
        {
         "name": "params.w_maxsim",
         "rawType": "object",
         "type": "string"
        },
        {
         "name": "params.w_title",
         "rawType": "object",
         "type": "string"
        },
        {
         "name": "tags.mlflow.user",
         "rawType": "object",
         "type": "string"
        },
        {
         "name": "tags.mlflow.source.type",
         "rawType": "object",
         "type": "string"
        },
        {
         "name": "tags.mlflow.runName",
         "rawType": "object",
         "type": "string"
        },
        {
         "name": "tags.mlflow.source.name",
         "rawType": "object",
         "type": "string"
        }
       ],
       "ref": "c78b6d33-d7a5-4b58-9ad6-9c990dff732f",
       "rows": [
        [
         "0",
         "29f4ae3f26834dfd939536d0b57838a9",
         "300877920446874715",
         "FINISHED",
         "mlflow-artifacts:/300877920446874715/29f4ae3f26834dfd939536d0b57838a9/artifacts",
         "2025-08-31 01:07:49.682000+00:00",
         "2025-08-31 01:08:27.433000+00:00",
         "0.19081783956783954",
         "0.3394571886911364",
         "0.1940248615680723",
         "0.22691767167952398",
         "0.3664164538518096",
         "0.7961161608436464",
         "0.053161452762294795",
         "0.3",
         "0.44860077437530793",
         "0.2166666666666667",
         "0.2",
         "100",
         "5",
         "../mlflow/mlartifacts/300877920446874715/models/m-bd0583be99204cf4ac68f1243bd6c63c/artifacts",
         "100",
         "0",
         "0.7",
         "0.1",
         "alfredmastan",
         "LOCAL",
         "glamorous-hog-637",
         "/opt/anaconda3/envs/food-rec/lib/python3.12/site-packages/ipykernel_launcher.py"
        ],
        [
         "1",
         "32cc39d3e1e24799886476ad91037e36",
         "300877920446874715",
         "FINISHED",
         "mlflow-artifacts:/300877920446874715/32cc39d3e1e24799886476ad91037e36/artifacts",
         "2025-08-31 01:10:14.219000+00:00",
         "2025-08-31 01:11:34.823000+00:00",
         "0.19081783956783954",
         "0.3394571886911364",
         "0.1940248615680723",
         "0.22691767167952398",
         "0.3664164538518096",
         "0.7961161608436464",
         "0.053161452762294795",
         "0.3",
         "0.44860077437530793",
         "0.2166666666666667",
         "0.2",
         "100",
         "5",
         "../mlflow/mlartifacts/300877920446874715/models/m-e0ad5aaf74d942de95a6c3576eb69881/artifacts",
         "100",
         "0",
         "0.7",
         "0.1",
         "alfredmastan",
         "LOCAL",
         "serious-stoat-300",
         "/opt/anaconda3/envs/food-rec/lib/python3.12/site-packages/ipykernel_launcher.py"
        ]
       ],
       "shape": {
        "columns": 28,
        "rows": 2
       }
      },
      "text/html": [
       "<div>\n",
       "<style scoped>\n",
       "    .dataframe tbody tr th:only-of-type {\n",
       "        vertical-align: middle;\n",
       "    }\n",
       "\n",
       "    .dataframe tbody tr th {\n",
       "        vertical-align: top;\n",
       "    }\n",
       "\n",
       "    .dataframe thead th {\n",
       "        text-align: right;\n",
       "    }\n",
       "</style>\n",
       "<table border=\"1\" class=\"dataframe\">\n",
       "  <thead>\n",
       "    <tr style=\"text-align: right;\">\n",
       "      <th></th>\n",
       "      <th>run_id</th>\n",
       "      <th>experiment_id</th>\n",
       "      <th>status</th>\n",
       "      <th>artifact_uri</th>\n",
       "      <th>start_time</th>\n",
       "      <th>end_time</th>\n",
       "      <th>metrics.MAP</th>\n",
       "      <th>metrics.Precision_10</th>\n",
       "      <th>metrics.MAE</th>\n",
       "      <th>metrics.RMSE</th>\n",
       "      <th>...</th>\n",
       "      <th>params.window</th>\n",
       "      <th>params.local_uri</th>\n",
       "      <th>params.vector_size</th>\n",
       "      <th>params.sg</th>\n",
       "      <th>params.w_maxsim</th>\n",
       "      <th>params.w_title</th>\n",
       "      <th>tags.mlflow.user</th>\n",
       "      <th>tags.mlflow.source.type</th>\n",
       "      <th>tags.mlflow.runName</th>\n",
       "      <th>tags.mlflow.source.name</th>\n",
       "    </tr>\n",
       "  </thead>\n",
       "  <tbody>\n",
       "    <tr>\n",
       "      <th>0</th>\n",
       "      <td>29f4ae3f26834dfd939536d0b57838a9</td>\n",
       "      <td>300877920446874715</td>\n",
       "      <td>FINISHED</td>\n",
       "      <td>mlflow-artifacts:/300877920446874715/29f4ae3f2...</td>\n",
       "      <td>2025-08-31 01:07:49.682000+00:00</td>\n",
       "      <td>2025-08-31 01:08:27.433000+00:00</td>\n",
       "      <td>0.190818</td>\n",
       "      <td>0.339457</td>\n",
       "      <td>0.194025</td>\n",
       "      <td>0.226918</td>\n",
       "      <td>...</td>\n",
       "      <td>5</td>\n",
       "      <td>../mlflow/mlartifacts/300877920446874715/model...</td>\n",
       "      <td>100</td>\n",
       "      <td>0</td>\n",
       "      <td>0.7</td>\n",
       "      <td>0.1</td>\n",
       "      <td>alfredmastan</td>\n",
       "      <td>LOCAL</td>\n",
       "      <td>glamorous-hog-637</td>\n",
       "      <td>/opt/anaconda3/envs/food-rec/lib/python3.12/si...</td>\n",
       "    </tr>\n",
       "    <tr>\n",
       "      <th>1</th>\n",
       "      <td>32cc39d3e1e24799886476ad91037e36</td>\n",
       "      <td>300877920446874715</td>\n",
       "      <td>FINISHED</td>\n",
       "      <td>mlflow-artifacts:/300877920446874715/32cc39d3e...</td>\n",
       "      <td>2025-08-31 01:10:14.219000+00:00</td>\n",
       "      <td>2025-08-31 01:11:34.823000+00:00</td>\n",
       "      <td>0.190818</td>\n",
       "      <td>0.339457</td>\n",
       "      <td>0.194025</td>\n",
       "      <td>0.226918</td>\n",
       "      <td>...</td>\n",
       "      <td>5</td>\n",
       "      <td>../mlflow/mlartifacts/300877920446874715/model...</td>\n",
       "      <td>100</td>\n",
       "      <td>0</td>\n",
       "      <td>0.7</td>\n",
       "      <td>0.1</td>\n",
       "      <td>alfredmastan</td>\n",
       "      <td>LOCAL</td>\n",
       "      <td>serious-stoat-300</td>\n",
       "      <td>/opt/anaconda3/envs/food-rec/lib/python3.12/si...</td>\n",
       "    </tr>\n",
       "  </tbody>\n",
       "</table>\n",
       "<p>2 rows × 28 columns</p>\n",
       "</div>"
      ],
      "text/plain": [
       "                             run_id       experiment_id    status  \\\n",
       "0  29f4ae3f26834dfd939536d0b57838a9  300877920446874715  FINISHED   \n",
       "1  32cc39d3e1e24799886476ad91037e36  300877920446874715  FINISHED   \n",
       "\n",
       "                                        artifact_uri  \\\n",
       "0  mlflow-artifacts:/300877920446874715/29f4ae3f2...   \n",
       "1  mlflow-artifacts:/300877920446874715/32cc39d3e...   \n",
       "\n",
       "                        start_time                         end_time  \\\n",
       "0 2025-08-31 01:07:49.682000+00:00 2025-08-31 01:08:27.433000+00:00   \n",
       "1 2025-08-31 01:10:14.219000+00:00 2025-08-31 01:11:34.823000+00:00   \n",
       "\n",
       "   metrics.MAP  metrics.Precision_10  metrics.MAE  metrics.RMSE  ...  \\\n",
       "0     0.190818              0.339457     0.194025      0.226918  ...   \n",
       "1     0.190818              0.339457     0.194025      0.226918  ...   \n",
       "\n",
       "   params.window                                   params.local_uri  \\\n",
       "0              5  ../mlflow/mlartifacts/300877920446874715/model...   \n",
       "1              5  ../mlflow/mlartifacts/300877920446874715/model...   \n",
       "\n",
       "   params.vector_size  params.sg  params.w_maxsim  params.w_title  \\\n",
       "0                 100          0              0.7             0.1   \n",
       "1                 100          0              0.7             0.1   \n",
       "\n",
       "  tags.mlflow.user tags.mlflow.source.type tags.mlflow.runName  \\\n",
       "0     alfredmastan                   LOCAL   glamorous-hog-637   \n",
       "1     alfredmastan                   LOCAL   serious-stoat-300   \n",
       "\n",
       "                             tags.mlflow.source.name  \n",
       "0  /opt/anaconda3/envs/food-rec/lib/python3.12/si...  \n",
       "1  /opt/anaconda3/envs/food-rec/lib/python3.12/si...  \n",
       "\n",
       "[2 rows x 28 columns]"
      ]
     },
     "execution_count": 396,
     "metadata": {},
     "output_type": "execute_result"
    }
   ],
   "source": [
    "runs"
   ]
  },
  {
   "cell_type": "code",
   "execution_count": 398,
   "id": "9c7ec48b",
   "metadata": {},
   "outputs": [
    {
     "data": {
      "text/plain": [
       "'29f4ae3f26834dfd939536d0b57838a9'"
      ]
     },
     "execution_count": 398,
     "metadata": {},
     "output_type": "execute_result"
    }
   ],
   "source": [
    "with open(\"../registered_metadata.json\", \"r\") as f:\n",
    "    registered_metadata = json.load(f)\n",
    "registered_metadata[\"run_id\"]"
   ]
  },
  {
   "cell_type": "markdown",
   "id": "62deb1f3",
   "metadata": {},
   "source": [
    "## Retrieve and Register Best Model"
   ]
  },
  {
   "cell_type": "code",
   "execution_count": null,
   "id": "d72aac84",
   "metadata": {},
   "outputs": [
    {
     "name": "stdout",
     "output_type": "stream",
     "text": [
      "==================== Current registered model is the best! ====================\n"
     ]
    }
   ],
   "source": [
    "mlflow.set_tracking_uri(\"http://127.0.0.1:8080\")\n",
    "\n",
    "# Get the highest performance and oldest run\n",
    "runs = mlflow.search_runs(experiment_names=[\"FastText-Model\"], order_by=[\"start_time ASC\", \"metrics.ndcg DESC\", \"metrics.rmse DESC\", \"metrics.f1_10 DESC\"])\n",
    "best_run = runs.iloc[0]\n",
    "\n",
    "def main():\n",
    "    # Check if any registered model exists\n",
    "    if mlflow.search_registered_models():\n",
    "        # Get current registered model metadata\n",
    "        with open(\"../registered_metadata.json\", \"r\") as f:\n",
    "            registered_metadata = json.load(f)\n",
    "        \n",
    "        if best_run[\"run_id\"] == registered_metadata[\"run_id\"]:\n",
    "            print(f\"{'='*20} Current registered model is the best! {'='*20}\")\n",
    "            return\n",
    "\n",
    "    # Load validation model metadata\n",
    "    with open(\"../validation_metadata.json\", \"r\") as f:\n",
    "        metadata = json.load(f)\n",
    "    \n",
    "    # Save registered model metadata\n",
    "    with open(\"../registered_metadata.json\", \"w\") as f:\n",
    "        f.write(json.dumps(metadata, indent=4))\n",
    "        print(\"SAVED\")\n",
    "    \n",
    "    # Register best model to MLFlow\n",
    "    with mlflow.start_run(run_id=best_run.run_id):\n",
    "        mlflow.register_model(\n",
    "            model_uri=metadata[\"server_uri\"],\n",
    "            name=\"fasttext_model\"\n",
    "        )\n",
    "\n",
    "    print(f\"{'='*20} New best model registered! {'='*20}\")\n",
    "\n",
    "if __name__ == \"__main__\":\n",
    "    main()"
   ]
  },
  {
   "cell_type": "markdown",
   "id": "7e651641",
   "metadata": {},
   "source": [
    "### API Call Test (Run Server Beforehand)"
   ]
  },
  {
   "cell_type": "code",
   "execution_count": 400,
   "id": "00341b0c",
   "metadata": {},
   "outputs": [],
   "source": [
    "# params = {\"query\": [\"rice\", \"beef\", \"meat\"]}\n",
    "# response = requests.post(f\"http://localhost:8000/recommend/\", params=params)\n",
    "# np.asarray(json.loads(response.json()))"
   ]
  },
  {
   "cell_type": "markdown",
   "id": "8387f666",
   "metadata": {},
   "source": [
    "### Delete Old Runs and Artifacts (Based on Performance)"
   ]
  },
  {
   "cell_type": "code",
   "execution_count": null,
   "id": "b98c3277",
   "metadata": {},
   "outputs": [
    {
     "data": {
      "application/vnd.microsoft.datawrangler.viewer.v0+json": {
       "columns": [
        {
         "name": "index",
         "rawType": "int64",
         "type": "integer"
        },
        {
         "name": "run_id",
         "rawType": "object",
         "type": "string"
        },
        {
         "name": "experiment_id",
         "rawType": "object",
         "type": "string"
        },
        {
         "name": "status",
         "rawType": "object",
         "type": "string"
        },
        {
         "name": "artifact_uri",
         "rawType": "object",
         "type": "string"
        },
        {
         "name": "start_time",
         "rawType": "datetime64[ns, UTC]",
         "type": "unknown"
        },
        {
         "name": "end_time",
         "rawType": "datetime64[ns, UTC]",
         "type": "unknown"
        },
        {
         "name": "metrics.MAP",
         "rawType": "float64",
         "type": "float"
        },
        {
         "name": "metrics.Precision_10",
         "rawType": "float64",
         "type": "float"
        },
        {
         "name": "metrics.MAE",
         "rawType": "float64",
         "type": "float"
        },
        {
         "name": "metrics.RMSE",
         "rawType": "float64",
         "type": "float"
        },
        {
         "name": "metrics.F1_10",
         "rawType": "float64",
         "type": "float"
        },
        {
         "name": "metrics.NDCG",
         "rawType": "float64",
         "type": "float"
        },
        {
         "name": "metrics.MSE",
         "rawType": "float64",
         "type": "float"
        },
        {
         "name": "metrics.Hit-Rate",
         "rawType": "float64",
         "type": "float"
        },
        {
         "name": "metrics.Recall_10",
         "rawType": "float64",
         "type": "float"
        },
        {
         "name": "metrics.MRR",
         "rawType": "float64",
         "type": "float"
        },
        {
         "name": "params.w_cosine",
         "rawType": "object",
         "type": "string"
        },
        {
         "name": "params.epochs",
         "rawType": "object",
         "type": "string"
        },
        {
         "name": "params.window",
         "rawType": "object",
         "type": "string"
        },
        {
         "name": "params.local_uri",
         "rawType": "object",
         "type": "string"
        },
        {
         "name": "params.vector_size",
         "rawType": "object",
         "type": "string"
        },
        {
         "name": "params.sg",
         "rawType": "object",
         "type": "string"
        },
        {
         "name": "params.w_maxsim",
         "rawType": "object",
         "type": "string"
        },
        {
         "name": "params.w_title",
         "rawType": "object",
         "type": "string"
        },
        {
         "name": "tags.mlflow.user",
         "rawType": "object",
         "type": "string"
        },
        {
         "name": "tags.mlflow.runName",
         "rawType": "object",
         "type": "string"
        },
        {
         "name": "tags.mlflow.source.name",
         "rawType": "object",
         "type": "string"
        },
        {
         "name": "tags.mlflow.source.git.commit",
         "rawType": "object",
         "type": "string"
        },
        {
         "name": "tags.mlflow.source.type",
         "rawType": "object",
         "type": "string"
        }
       ],
       "ref": "e87206ad-2460-48b9-aaf9-43e6ff294aa6",
       "rows": [
        [
         "1",
         "0e70656d046543ac94cb337e888cef9b",
         "977490736678194877",
         "FINISHED",
         "mlflow-artifacts:/977490736678194877/0e70656d046543ac94cb337e888cef9b/artifacts",
         "2025-09-01 21:07:27.757000+00:00",
         "2025-09-01 21:07:50.663000+00:00",
         "0.37317460317460316",
         "0.39109509906890016",
         "0.21543658324939133",
         "0.245743968184234",
         "0.4104362973164945",
         "0.8027983071293219",
         "0.061285435009212255",
         "0.4",
         "0.46031166764981546",
         "0.4083333333333333",
         "0.2",
         "100",
         "5",
         "mlflow/mlartifacts/977490736678194877/models/m-6671c1d033f54bf19bac4229a40ed597/artifacts",
         "100",
         "0",
         "0.7",
         "0.1",
         "alfredmastan",
         "orderly-hound-550",
         "src/model_training.py",
         "3e53f58337769df908968702c8d386a4620a6a6a",
         "LOCAL"
        ],
        [
         "0",
         "2175514552dd426aa8effe61424df1f4",
         "977490736678194877",
         "FINISHED",
         "mlflow-artifacts:/977490736678194877/2175514552dd426aa8effe61424df1f4/artifacts",
         "2025-09-01 21:14:47.155000+00:00",
         "2025-09-01 21:15:11.273000+00:00",
         "0.371984126984127",
         "0.39088695519988537",
         "0.21826297794050106",
         "0.24849773765039815",
         "0.41203718654993127",
         "0.8027983071293219",
         "0.06269832388048417",
         "0.4",
         "0.4630195887662912",
         "0.40714285714285714",
         "0.2",
         "100",
         "5",
         "mlflow/mlartifacts/977490736678194877/models/m-0fce45b2fe184befa52ba1c15b095370/artifacts",
         "100",
         "0",
         "0.7",
         "0.1",
         "alfredmastan",
         "secretive-fowl-352",
         "src/model_training.py",
         "3e53f58337769df908968702c8d386a4620a6a6a",
         "LOCAL"
        ],
        [
         "2",
         "86e788289c9a4f0bb16a5660b8f2c27a",
         "977490736678194877",
         "FINISHED",
         "mlflow-artifacts:/977490736678194877/86e788289c9a4f0bb16a5660b8f2c27a/artifacts",
         "2025-09-01 01:19:58.694000+00:00",
         "2025-09-01 21:24:10.774000+00:00",
         "0.19401463841384792",
         "0.349738734607696",
         "0.19197831950528305",
         "0.22491552518824945",
         "0.37937443712517405",
         "0.7961161608436464",
         "0.05223540781023996",
         "0.3",
         "0.4623724613028891",
         "0.2166666666666667",
         "0.2",
         "100",
         "5",
         "mlflow/mlartifacts/977490736678194877/models/m-4edd176ed61d4511b45e5be794c4f880/artifacts",
         "100",
         "0",
         "0.7",
         "0.1",
         "alfredmastan",
         "bright-ape-669",
         "src/model_training.py",
         "81a1cccec9a1da8dd0bbf0aa265db835bbbcb077",
         "LOCAL"
        ]
       ],
       "shape": {
        "columns": 29,
        "rows": 3
       }
      },
      "text/html": [
       "<div>\n",
       "<style scoped>\n",
       "    .dataframe tbody tr th:only-of-type {\n",
       "        vertical-align: middle;\n",
       "    }\n",
       "\n",
       "    .dataframe tbody tr th {\n",
       "        vertical-align: top;\n",
       "    }\n",
       "\n",
       "    .dataframe thead th {\n",
       "        text-align: right;\n",
       "    }\n",
       "</style>\n",
       "<table border=\"1\" class=\"dataframe\">\n",
       "  <thead>\n",
       "    <tr style=\"text-align: right;\">\n",
       "      <th></th>\n",
       "      <th>run_id</th>\n",
       "      <th>experiment_id</th>\n",
       "      <th>status</th>\n",
       "      <th>artifact_uri</th>\n",
       "      <th>start_time</th>\n",
       "      <th>end_time</th>\n",
       "      <th>metrics.MAP</th>\n",
       "      <th>metrics.Precision_10</th>\n",
       "      <th>metrics.MAE</th>\n",
       "      <th>metrics.RMSE</th>\n",
       "      <th>...</th>\n",
       "      <th>params.local_uri</th>\n",
       "      <th>params.vector_size</th>\n",
       "      <th>params.sg</th>\n",
       "      <th>params.w_maxsim</th>\n",
       "      <th>params.w_title</th>\n",
       "      <th>tags.mlflow.user</th>\n",
       "      <th>tags.mlflow.runName</th>\n",
       "      <th>tags.mlflow.source.name</th>\n",
       "      <th>tags.mlflow.source.git.commit</th>\n",
       "      <th>tags.mlflow.source.type</th>\n",
       "    </tr>\n",
       "  </thead>\n",
       "  <tbody>\n",
       "    <tr>\n",
       "      <th>1</th>\n",
       "      <td>0e70656d046543ac94cb337e888cef9b</td>\n",
       "      <td>977490736678194877</td>\n",
       "      <td>FINISHED</td>\n",
       "      <td>mlflow-artifacts:/977490736678194877/0e70656d0...</td>\n",
       "      <td>2025-09-01 21:07:27.757000+00:00</td>\n",
       "      <td>2025-09-01 21:07:50.663000+00:00</td>\n",
       "      <td>0.373175</td>\n",
       "      <td>0.391095</td>\n",
       "      <td>0.215437</td>\n",
       "      <td>0.245744</td>\n",
       "      <td>...</td>\n",
       "      <td>mlflow/mlartifacts/977490736678194877/models/m...</td>\n",
       "      <td>100</td>\n",
       "      <td>0</td>\n",
       "      <td>0.7</td>\n",
       "      <td>0.1</td>\n",
       "      <td>alfredmastan</td>\n",
       "      <td>orderly-hound-550</td>\n",
       "      <td>src/model_training.py</td>\n",
       "      <td>3e53f58337769df908968702c8d386a4620a6a6a</td>\n",
       "      <td>LOCAL</td>\n",
       "    </tr>\n",
       "    <tr>\n",
       "      <th>0</th>\n",
       "      <td>2175514552dd426aa8effe61424df1f4</td>\n",
       "      <td>977490736678194877</td>\n",
       "      <td>FINISHED</td>\n",
       "      <td>mlflow-artifacts:/977490736678194877/217551455...</td>\n",
       "      <td>2025-09-01 21:14:47.155000+00:00</td>\n",
       "      <td>2025-09-01 21:15:11.273000+00:00</td>\n",
       "      <td>0.371984</td>\n",
       "      <td>0.390887</td>\n",
       "      <td>0.218263</td>\n",
       "      <td>0.248498</td>\n",
       "      <td>...</td>\n",
       "      <td>mlflow/mlartifacts/977490736678194877/models/m...</td>\n",
       "      <td>100</td>\n",
       "      <td>0</td>\n",
       "      <td>0.7</td>\n",
       "      <td>0.1</td>\n",
       "      <td>alfredmastan</td>\n",
       "      <td>secretive-fowl-352</td>\n",
       "      <td>src/model_training.py</td>\n",
       "      <td>3e53f58337769df908968702c8d386a4620a6a6a</td>\n",
       "      <td>LOCAL</td>\n",
       "    </tr>\n",
       "    <tr>\n",
       "      <th>2</th>\n",
       "      <td>86e788289c9a4f0bb16a5660b8f2c27a</td>\n",
       "      <td>977490736678194877</td>\n",
       "      <td>FINISHED</td>\n",
       "      <td>mlflow-artifacts:/977490736678194877/86e788289...</td>\n",
       "      <td>2025-09-01 01:19:58.694000+00:00</td>\n",
       "      <td>2025-09-01 21:24:10.774000+00:00</td>\n",
       "      <td>0.194015</td>\n",
       "      <td>0.349739</td>\n",
       "      <td>0.191978</td>\n",
       "      <td>0.224916</td>\n",
       "      <td>...</td>\n",
       "      <td>mlflow/mlartifacts/977490736678194877/models/m...</td>\n",
       "      <td>100</td>\n",
       "      <td>0</td>\n",
       "      <td>0.7</td>\n",
       "      <td>0.1</td>\n",
       "      <td>alfredmastan</td>\n",
       "      <td>bright-ape-669</td>\n",
       "      <td>src/model_training.py</td>\n",
       "      <td>81a1cccec9a1da8dd0bbf0aa265db835bbbcb077</td>\n",
       "      <td>LOCAL</td>\n",
       "    </tr>\n",
       "  </tbody>\n",
       "</table>\n",
       "<p>3 rows × 29 columns</p>\n",
       "</div>"
      ],
      "text/plain": [
       "                             run_id       experiment_id    status  \\\n",
       "1  0e70656d046543ac94cb337e888cef9b  977490736678194877  FINISHED   \n",
       "0  2175514552dd426aa8effe61424df1f4  977490736678194877  FINISHED   \n",
       "2  86e788289c9a4f0bb16a5660b8f2c27a  977490736678194877  FINISHED   \n",
       "\n",
       "                                        artifact_uri  \\\n",
       "1  mlflow-artifacts:/977490736678194877/0e70656d0...   \n",
       "0  mlflow-artifacts:/977490736678194877/217551455...   \n",
       "2  mlflow-artifacts:/977490736678194877/86e788289...   \n",
       "\n",
       "                        start_time                         end_time  \\\n",
       "1 2025-09-01 21:07:27.757000+00:00 2025-09-01 21:07:50.663000+00:00   \n",
       "0 2025-09-01 21:14:47.155000+00:00 2025-09-01 21:15:11.273000+00:00   \n",
       "2 2025-09-01 01:19:58.694000+00:00 2025-09-01 21:24:10.774000+00:00   \n",
       "\n",
       "   metrics.MAP  metrics.Precision_10  metrics.MAE  metrics.RMSE  ...  \\\n",
       "1     0.373175              0.391095     0.215437      0.245744  ...   \n",
       "0     0.371984              0.390887     0.218263      0.248498  ...   \n",
       "2     0.194015              0.349739     0.191978      0.224916  ...   \n",
       "\n",
       "                                    params.local_uri  params.vector_size  \\\n",
       "1  mlflow/mlartifacts/977490736678194877/models/m...                 100   \n",
       "0  mlflow/mlartifacts/977490736678194877/models/m...                 100   \n",
       "2  mlflow/mlartifacts/977490736678194877/models/m...                 100   \n",
       "\n",
       "   params.sg  params.w_maxsim  params.w_title  tags.mlflow.user  \\\n",
       "1          0              0.7             0.1      alfredmastan   \n",
       "0          0              0.7             0.1      alfredmastan   \n",
       "2          0              0.7             0.1      alfredmastan   \n",
       "\n",
       "  tags.mlflow.runName tags.mlflow.source.name  \\\n",
       "1   orderly-hound-550   src/model_training.py   \n",
       "0  secretive-fowl-352   src/model_training.py   \n",
       "2      bright-ape-669   src/model_training.py   \n",
       "\n",
       "              tags.mlflow.source.git.commit tags.mlflow.source.type  \n",
       "1  3e53f58337769df908968702c8d386a4620a6a6a                   LOCAL  \n",
       "0  3e53f58337769df908968702c8d386a4620a6a6a                   LOCAL  \n",
       "2  81a1cccec9a1da8dd0bbf0aa265db835bbbcb077                   LOCAL  \n",
       "\n",
       "[3 rows x 29 columns]"
      ]
     },
     "execution_count": 443,
     "metadata": {},
     "output_type": "execute_result"
    }
   ],
   "source": [
    "# Get the highest performance and oldest run\n",
    "runs = mlflow.search_runs(experiment_names=[\"FastText-Model\"])\n",
    "sorted_runs = runs.sort_values(by=[\"start_time\", \"metrics.RMSE\", \"metrics.MSE\", \"metrics.MAE\"], ascending=True)\n",
    "sorted_runs = sorted_runs.sort_values(by=[\"metrics.Hit-Rate\", \"metrics.MAP\", \"metrics.MRR\", \"metrics.NDCG\",  \"metrics.F1_10\"], ascending=False)\n",
    "sorted_runs"
   ]
  },
  {
   "cell_type": "code",
   "execution_count": 440,
   "id": "0446e32c",
   "metadata": {},
   "outputs": [
    {
     "data": {
      "application/vnd.microsoft.datawrangler.viewer.v0+json": {
       "columns": [
        {
         "name": "index",
         "rawType": "int64",
         "type": "integer"
        },
        {
         "name": "end_time",
         "rawType": "datetime64[ns, America/Los_Angeles]",
         "type": "unknown"
        }
       ],
       "ref": "97c90ea4-5bd8-4483-8207-46a52bb157f6",
       "rows": [
        [
         "0",
         "2025-09-01 14:24:10.774000-07:00"
        ],
        [
         "1",
         "2025-09-01 14:07:50.663000-07:00"
        ],
        [
         "2",
         "2025-09-01 14:15:11.273000-07:00"
        ]
       ],
       "shape": {
        "columns": 1,
        "rows": 3
       }
      },
      "text/plain": [
       "0   2025-09-01 14:24:10.774000-07:00\n",
       "1   2025-09-01 14:07:50.663000-07:00\n",
       "2   2025-09-01 14:15:11.273000-07:00\n",
       "Name: end_time, dtype: datetime64[ns, America/Los_Angeles]"
      ]
     },
     "execution_count": 440,
     "metadata": {},
     "output_type": "execute_result"
    }
   ],
   "source": [
    "runs.end_time.dt.tz_convert('America/Los_Angeles')"
   ]
  },
  {
   "cell_type": "code",
   "execution_count": 442,
   "id": "8a64fde2",
   "metadata": {},
   "outputs": [
    {
     "data": {
      "application/vnd.microsoft.datawrangler.viewer.v0+json": {
       "columns": [
        {
         "name": "index",
         "rawType": "int64",
         "type": "integer"
        },
        {
         "name": "run_id",
         "rawType": "object",
         "type": "string"
        },
        {
         "name": "experiment_id",
         "rawType": "object",
         "type": "unknown"
        },
        {
         "name": "status",
         "rawType": "object",
         "type": "unknown"
        },
        {
         "name": "artifact_uri",
         "rawType": "object",
         "type": "unknown"
        },
        {
         "name": "start_time",
         "rawType": "datetime64[ns, UTC]",
         "type": "unknown"
        },
        {
         "name": "end_time",
         "rawType": "datetime64[ns, UTC]",
         "type": "unknown"
        },
        {
         "name": "metrics.MAP",
         "rawType": "float64",
         "type": "float"
        },
        {
         "name": "metrics.Precision_10",
         "rawType": "float64",
         "type": "float"
        },
        {
         "name": "metrics.MAE",
         "rawType": "float64",
         "type": "float"
        },
        {
         "name": "metrics.RMSE",
         "rawType": "float64",
         "type": "float"
        },
        {
         "name": "metrics.F1_10",
         "rawType": "float64",
         "type": "float"
        },
        {
         "name": "metrics.NDCG",
         "rawType": "float64",
         "type": "float"
        },
        {
         "name": "metrics.MSE",
         "rawType": "float64",
         "type": "float"
        },
        {
         "name": "metrics.Hit-Rate",
         "rawType": "float64",
         "type": "float"
        },
        {
         "name": "metrics.Recall_10",
         "rawType": "float64",
         "type": "float"
        },
        {
         "name": "metrics.MRR",
         "rawType": "float64",
         "type": "float"
        },
        {
         "name": "params.w_cosine",
         "rawType": "object",
         "type": "unknown"
        },
        {
         "name": "params.epochs",
         "rawType": "object",
         "type": "unknown"
        },
        {
         "name": "params.window",
         "rawType": "object",
         "type": "unknown"
        },
        {
         "name": "params.local_uri",
         "rawType": "object",
         "type": "unknown"
        },
        {
         "name": "params.vector_size",
         "rawType": "object",
         "type": "unknown"
        },
        {
         "name": "params.sg",
         "rawType": "object",
         "type": "unknown"
        },
        {
         "name": "params.w_maxsim",
         "rawType": "object",
         "type": "unknown"
        },
        {
         "name": "params.w_title",
         "rawType": "object",
         "type": "unknown"
        },
        {
         "name": "tags.mlflow.user",
         "rawType": "object",
         "type": "unknown"
        },
        {
         "name": "tags.mlflow.runName",
         "rawType": "object",
         "type": "unknown"
        },
        {
         "name": "tags.mlflow.source.name",
         "rawType": "object",
         "type": "unknown"
        },
        {
         "name": "tags.mlflow.source.git.commit",
         "rawType": "object",
         "type": "unknown"
        },
        {
         "name": "tags.mlflow.source.type",
         "rawType": "object",
         "type": "unknown"
        }
       ],
       "ref": "e6b0b56b-9211-482a-b882-04fd27e54f48",
       "rows": [
        [
         "3",
         "b994241c8a714f9695b876f12abc18d1",
         null,
         null,
         null,
         null,
         null,
         "0.3742710944026733",
         "0.3914480100937988",
         "0.20520676635658272",
         "0.2354140258218776",
         "0.41228315187951176",
         "0.8027983071293219",
         "0.0562445525510019",
         "0.4",
         "0.4644712668715929",
         "0.4083333333333333",
         null,
         null,
         null,
         null,
         null,
         null,
         null,
         null,
         null,
         null,
         null,
         null,
         null
        ],
        [
         "0",
         "2175514552dd426aa8effe61424df1f4",
         "977490736678194877",
         "FINISHED",
         "mlflow-artifacts:/977490736678194877/2175514552dd426aa8effe61424df1f4/artifacts",
         "2025-09-01 21:14:47.155000+00:00",
         "2025-09-01 21:15:11.273000+00:00",
         "0.371984126984127",
         "0.39088695519988537",
         "0.21826297794050106",
         "0.24849773765039815",
         "0.41203718654993127",
         "0.8027983071293219",
         "0.06269832388048417",
         "0.4",
         "0.4630195887662912",
         "0.40714285714285714",
         "0.2",
         "100",
         "5",
         "mlflow/mlartifacts/977490736678194877/models/m-0fce45b2fe184befa52ba1c15b095370/artifacts",
         "100",
         "0",
         "0.7",
         "0.1",
         "alfredmastan",
         "secretive-fowl-352",
         "src/model_training.py",
         "3e53f58337769df908968702c8d386a4620a6a6a",
         "LOCAL"
        ],
        [
         "1",
         "0e70656d046543ac94cb337e888cef9b",
         "977490736678194877",
         "FINISHED",
         "mlflow-artifacts:/977490736678194877/0e70656d046543ac94cb337e888cef9b/artifacts",
         "2025-09-01 21:07:27.757000+00:00",
         "2025-09-01 21:07:50.663000+00:00",
         "0.37317460317460316",
         "0.39109509906890016",
         "0.21543658324939133",
         "0.245743968184234",
         "0.4104362973164945",
         "0.8027983071293219",
         "0.061285435009212255",
         "0.4",
         "0.46031166764981546",
         "0.4083333333333333",
         "0.2",
         "100",
         "5",
         "mlflow/mlartifacts/977490736678194877/models/m-6671c1d033f54bf19bac4229a40ed597/artifacts",
         "100",
         "0",
         "0.7",
         "0.1",
         "alfredmastan",
         "orderly-hound-550",
         "src/model_training.py",
         "3e53f58337769df908968702c8d386a4620a6a6a",
         "LOCAL"
        ],
        [
         "2",
         "86e788289c9a4f0bb16a5660b8f2c27a",
         "977490736678194877",
         "FINISHED",
         "mlflow-artifacts:/977490736678194877/86e788289c9a4f0bb16a5660b8f2c27a/artifacts",
         "2025-09-01 01:19:58.694000+00:00",
         "2025-09-01 21:24:10.774000+00:00",
         "0.19401463841384792",
         "0.349738734607696",
         "0.19197831950528305",
         "0.22491552518824945",
         "0.37937443712517405",
         "0.7961161608436464",
         "0.05223540781023996",
         "0.3",
         "0.4623724613028891",
         "0.2166666666666667",
         "0.2",
         "100",
         "5",
         "mlflow/mlartifacts/977490736678194877/models/m-4edd176ed61d4511b45e5be794c4f880/artifacts",
         "100",
         "0",
         "0.7",
         "0.1",
         "alfredmastan",
         "bright-ape-669",
         "src/model_training.py",
         "81a1cccec9a1da8dd0bbf0aa265db835bbbcb077",
         "LOCAL"
        ]
       ],
       "shape": {
        "columns": 29,
        "rows": 4
       }
      },
      "text/html": [
       "<div>\n",
       "<style scoped>\n",
       "    .dataframe tbody tr th:only-of-type {\n",
       "        vertical-align: middle;\n",
       "    }\n",
       "\n",
       "    .dataframe tbody tr th {\n",
       "        vertical-align: top;\n",
       "    }\n",
       "\n",
       "    .dataframe thead th {\n",
       "        text-align: right;\n",
       "    }\n",
       "</style>\n",
       "<table border=\"1\" class=\"dataframe\">\n",
       "  <thead>\n",
       "    <tr style=\"text-align: right;\">\n",
       "      <th></th>\n",
       "      <th>run_id</th>\n",
       "      <th>experiment_id</th>\n",
       "      <th>status</th>\n",
       "      <th>artifact_uri</th>\n",
       "      <th>start_time</th>\n",
       "      <th>end_time</th>\n",
       "      <th>metrics.MAP</th>\n",
       "      <th>metrics.Precision_10</th>\n",
       "      <th>metrics.MAE</th>\n",
       "      <th>metrics.RMSE</th>\n",
       "      <th>...</th>\n",
       "      <th>params.local_uri</th>\n",
       "      <th>params.vector_size</th>\n",
       "      <th>params.sg</th>\n",
       "      <th>params.w_maxsim</th>\n",
       "      <th>params.w_title</th>\n",
       "      <th>tags.mlflow.user</th>\n",
       "      <th>tags.mlflow.runName</th>\n",
       "      <th>tags.mlflow.source.name</th>\n",
       "      <th>tags.mlflow.source.git.commit</th>\n",
       "      <th>tags.mlflow.source.type</th>\n",
       "    </tr>\n",
       "  </thead>\n",
       "  <tbody>\n",
       "    <tr>\n",
       "      <th>3</th>\n",
       "      <td>b994241c8a714f9695b876f12abc18d1</td>\n",
       "      <td>NaN</td>\n",
       "      <td>NaN</td>\n",
       "      <td>NaN</td>\n",
       "      <td>NaT</td>\n",
       "      <td>NaT</td>\n",
       "      <td>0.374271</td>\n",
       "      <td>0.391448</td>\n",
       "      <td>0.205207</td>\n",
       "      <td>0.235414</td>\n",
       "      <td>...</td>\n",
       "      <td>NaN</td>\n",
       "      <td>NaN</td>\n",
       "      <td>NaN</td>\n",
       "      <td>NaN</td>\n",
       "      <td>NaN</td>\n",
       "      <td>NaN</td>\n",
       "      <td>NaN</td>\n",
       "      <td>NaN</td>\n",
       "      <td>NaN</td>\n",
       "      <td>NaN</td>\n",
       "    </tr>\n",
       "    <tr>\n",
       "      <th>0</th>\n",
       "      <td>2175514552dd426aa8effe61424df1f4</td>\n",
       "      <td>977490736678194877</td>\n",
       "      <td>FINISHED</td>\n",
       "      <td>mlflow-artifacts:/977490736678194877/217551455...</td>\n",
       "      <td>2025-09-01 21:14:47.155000+00:00</td>\n",
       "      <td>2025-09-01 21:15:11.273000+00:00</td>\n",
       "      <td>0.371984</td>\n",
       "      <td>0.390887</td>\n",
       "      <td>0.218263</td>\n",
       "      <td>0.248498</td>\n",
       "      <td>...</td>\n",
       "      <td>mlflow/mlartifacts/977490736678194877/models/m...</td>\n",
       "      <td>100</td>\n",
       "      <td>0</td>\n",
       "      <td>0.7</td>\n",
       "      <td>0.1</td>\n",
       "      <td>alfredmastan</td>\n",
       "      <td>secretive-fowl-352</td>\n",
       "      <td>src/model_training.py</td>\n",
       "      <td>3e53f58337769df908968702c8d386a4620a6a6a</td>\n",
       "      <td>LOCAL</td>\n",
       "    </tr>\n",
       "    <tr>\n",
       "      <th>1</th>\n",
       "      <td>0e70656d046543ac94cb337e888cef9b</td>\n",
       "      <td>977490736678194877</td>\n",
       "      <td>FINISHED</td>\n",
       "      <td>mlflow-artifacts:/977490736678194877/0e70656d0...</td>\n",
       "      <td>2025-09-01 21:07:27.757000+00:00</td>\n",
       "      <td>2025-09-01 21:07:50.663000+00:00</td>\n",
       "      <td>0.373175</td>\n",
       "      <td>0.391095</td>\n",
       "      <td>0.215437</td>\n",
       "      <td>0.245744</td>\n",
       "      <td>...</td>\n",
       "      <td>mlflow/mlartifacts/977490736678194877/models/m...</td>\n",
       "      <td>100</td>\n",
       "      <td>0</td>\n",
       "      <td>0.7</td>\n",
       "      <td>0.1</td>\n",
       "      <td>alfredmastan</td>\n",
       "      <td>orderly-hound-550</td>\n",
       "      <td>src/model_training.py</td>\n",
       "      <td>3e53f58337769df908968702c8d386a4620a6a6a</td>\n",
       "      <td>LOCAL</td>\n",
       "    </tr>\n",
       "    <tr>\n",
       "      <th>2</th>\n",
       "      <td>86e788289c9a4f0bb16a5660b8f2c27a</td>\n",
       "      <td>977490736678194877</td>\n",
       "      <td>FINISHED</td>\n",
       "      <td>mlflow-artifacts:/977490736678194877/86e788289...</td>\n",
       "      <td>2025-09-01 01:19:58.694000+00:00</td>\n",
       "      <td>2025-09-01 21:24:10.774000+00:00</td>\n",
       "      <td>0.194015</td>\n",
       "      <td>0.349739</td>\n",
       "      <td>0.191978</td>\n",
       "      <td>0.224916</td>\n",
       "      <td>...</td>\n",
       "      <td>mlflow/mlartifacts/977490736678194877/models/m...</td>\n",
       "      <td>100</td>\n",
       "      <td>0</td>\n",
       "      <td>0.7</td>\n",
       "      <td>0.1</td>\n",
       "      <td>alfredmastan</td>\n",
       "      <td>bright-ape-669</td>\n",
       "      <td>src/model_training.py</td>\n",
       "      <td>81a1cccec9a1da8dd0bbf0aa265db835bbbcb077</td>\n",
       "      <td>LOCAL</td>\n",
       "    </tr>\n",
       "  </tbody>\n",
       "</table>\n",
       "<p>4 rows × 29 columns</p>\n",
       "</div>"
      ],
      "text/plain": [
       "                             run_id       experiment_id    status  \\\n",
       "3  b994241c8a714f9695b876f12abc18d1                 NaN       NaN   \n",
       "0  2175514552dd426aa8effe61424df1f4  977490736678194877  FINISHED   \n",
       "1  0e70656d046543ac94cb337e888cef9b  977490736678194877  FINISHED   \n",
       "2  86e788289c9a4f0bb16a5660b8f2c27a  977490736678194877  FINISHED   \n",
       "\n",
       "                                        artifact_uri  \\\n",
       "3                                                NaN   \n",
       "0  mlflow-artifacts:/977490736678194877/217551455...   \n",
       "1  mlflow-artifacts:/977490736678194877/0e70656d0...   \n",
       "2  mlflow-artifacts:/977490736678194877/86e788289...   \n",
       "\n",
       "                        start_time                         end_time  \\\n",
       "3                              NaT                              NaT   \n",
       "0 2025-09-01 21:14:47.155000+00:00 2025-09-01 21:15:11.273000+00:00   \n",
       "1 2025-09-01 21:07:27.757000+00:00 2025-09-01 21:07:50.663000+00:00   \n",
       "2 2025-09-01 01:19:58.694000+00:00 2025-09-01 21:24:10.774000+00:00   \n",
       "\n",
       "   metrics.MAP  metrics.Precision_10  metrics.MAE  metrics.RMSE  ...  \\\n",
       "3     0.374271              0.391448     0.205207      0.235414  ...   \n",
       "0     0.371984              0.390887     0.218263      0.248498  ...   \n",
       "1     0.373175              0.391095     0.215437      0.245744  ...   \n",
       "2     0.194015              0.349739     0.191978      0.224916  ...   \n",
       "\n",
       "                                    params.local_uri  params.vector_size  \\\n",
       "3                                                NaN                 NaN   \n",
       "0  mlflow/mlartifacts/977490736678194877/models/m...                 100   \n",
       "1  mlflow/mlartifacts/977490736678194877/models/m...                 100   \n",
       "2  mlflow/mlartifacts/977490736678194877/models/m...                 100   \n",
       "\n",
       "   params.sg  params.w_maxsim  params.w_title  tags.mlflow.user  \\\n",
       "3        NaN              NaN             NaN               NaN   \n",
       "0          0              0.7             0.1      alfredmastan   \n",
       "1          0              0.7             0.1      alfredmastan   \n",
       "2          0              0.7             0.1      alfredmastan   \n",
       "\n",
       "  tags.mlflow.runName tags.mlflow.source.name  \\\n",
       "3                 NaN                     NaN   \n",
       "0  secretive-fowl-352   src/model_training.py   \n",
       "1   orderly-hound-550   src/model_training.py   \n",
       "2      bright-ape-669   src/model_training.py   \n",
       "\n",
       "              tags.mlflow.source.git.commit tags.mlflow.source.type  \n",
       "3                                       NaN                     NaN  \n",
       "0  3e53f58337769df908968702c8d386a4620a6a6a                   LOCAL  \n",
       "1  3e53f58337769df908968702c8d386a4620a6a6a                   LOCAL  \n",
       "2  81a1cccec9a1da8dd0bbf0aa265db835bbbcb077                   LOCAL  \n",
       "\n",
       "[4 rows x 29 columns]"
      ]
     },
     "execution_count": 442,
     "metadata": {},
     "output_type": "execute_result"
    }
   ],
   "source": [
    "\n",
    "test = pd.DataFrame({\n",
    "    \"run_id\": \"b994241c8a714f9695b876f12abc18d1\",\n",
    "    \"metrics.RMSE\": 0.2354140258218776,\n",
    "    \"metrics.MSE\": 0.0562445525510019,\n",
    "    \"metrics.MAE\": 0.20520676635658272,\n",
    "    \"metrics.Precision_10\": 0.3914480100937988,\n",
    "    \"metrics.Recall_10\": 0.4644712668715929,\n",
    "    \"metrics.F1_10\": 0.41228315187951176,\n",
    "    \"metrics.NDCG\": 0.8027983071293219,\n",
    "    \"metrics.MAP\": 0.3742710944026733,\n",
    "    \"metrics.MRR\": 0.4083333333333333,\n",
    "    \"metrics.Hit-Rate\": 0.4\n",
    "}, index=[0])\n",
    "runs = mlflow.search_runs(experiment_names=[\"FastText-Model\"])\n",
    "test_pd = pd.concat([runs, test], ignore_index=True).sort_values(by=[\"start_time\", \"metrics.RMSE\"], ascending=True)\n",
    "test_pd.sort_values(by=[\"metrics.NDCG\",  \"metrics.F1_10\"], ascending=False)"
   ]
  },
  {
   "cell_type": "code",
   "execution_count": 415,
   "id": "28c3a3d0",
   "metadata": {},
   "outputs": [
    {
     "data": {
      "application/vnd.microsoft.datawrangler.viewer.v0+json": {
       "columns": [
        {
         "name": "index",
         "rawType": "int64",
         "type": "integer"
        },
        {
         "name": "run_id",
         "rawType": "object",
         "type": "string"
        },
        {
         "name": "experiment_id",
         "rawType": "object",
         "type": "string"
        },
        {
         "name": "status",
         "rawType": "object",
         "type": "string"
        },
        {
         "name": "artifact_uri",
         "rawType": "object",
         "type": "string"
        },
        {
         "name": "start_time",
         "rawType": "datetime64[ns, UTC]",
         "type": "unknown"
        },
        {
         "name": "end_time",
         "rawType": "datetime64[ns, UTC]",
         "type": "unknown"
        },
        {
         "name": "metrics.MAP",
         "rawType": "float64",
         "type": "float"
        },
        {
         "name": "metrics.Precision_10",
         "rawType": "float64",
         "type": "float"
        },
        {
         "name": "metrics.MAE",
         "rawType": "float64",
         "type": "float"
        },
        {
         "name": "metrics.RMSE",
         "rawType": "float64",
         "type": "float"
        },
        {
         "name": "metrics.F1_10",
         "rawType": "float64",
         "type": "float"
        },
        {
         "name": "metrics.NDCG",
         "rawType": "float64",
         "type": "float"
        },
        {
         "name": "metrics.MSE",
         "rawType": "float64",
         "type": "float"
        },
        {
         "name": "metrics.Hit-Rate",
         "rawType": "float64",
         "type": "float"
        },
        {
         "name": "metrics.Recall_10",
         "rawType": "float64",
         "type": "float"
        },
        {
         "name": "metrics.MRR",
         "rawType": "float64",
         "type": "float"
        },
        {
         "name": "params.w_cosine",
         "rawType": "object",
         "type": "string"
        },
        {
         "name": "params.epochs",
         "rawType": "object",
         "type": "string"
        },
        {
         "name": "params.window",
         "rawType": "object",
         "type": "string"
        },
        {
         "name": "params.local_uri",
         "rawType": "object",
         "type": "string"
        },
        {
         "name": "params.vector_size",
         "rawType": "object",
         "type": "string"
        },
        {
         "name": "params.sg",
         "rawType": "object",
         "type": "string"
        },
        {
         "name": "params.w_maxsim",
         "rawType": "object",
         "type": "string"
        },
        {
         "name": "params.w_title",
         "rawType": "object",
         "type": "string"
        },
        {
         "name": "tags.mlflow.user",
         "rawType": "object",
         "type": "string"
        },
        {
         "name": "tags.mlflow.runName",
         "rawType": "object",
         "type": "string"
        },
        {
         "name": "tags.mlflow.source.name",
         "rawType": "object",
         "type": "string"
        },
        {
         "name": "tags.mlflow.source.git.commit",
         "rawType": "object",
         "type": "string"
        },
        {
         "name": "tags.mlflow.source.type",
         "rawType": "object",
         "type": "string"
        }
       ],
       "ref": "aeb4a83c-b177-4c01-bbbc-3990c71944e7",
       "rows": [],
       "shape": {
        "columns": 29,
        "rows": 0
       }
      },
      "text/html": [
       "<div>\n",
       "<style scoped>\n",
       "    .dataframe tbody tr th:only-of-type {\n",
       "        vertical-align: middle;\n",
       "    }\n",
       "\n",
       "    .dataframe tbody tr th {\n",
       "        vertical-align: top;\n",
       "    }\n",
       "\n",
       "    .dataframe thead th {\n",
       "        text-align: right;\n",
       "    }\n",
       "</style>\n",
       "<table border=\"1\" class=\"dataframe\">\n",
       "  <thead>\n",
       "    <tr style=\"text-align: right;\">\n",
       "      <th></th>\n",
       "      <th>run_id</th>\n",
       "      <th>experiment_id</th>\n",
       "      <th>status</th>\n",
       "      <th>artifact_uri</th>\n",
       "      <th>start_time</th>\n",
       "      <th>end_time</th>\n",
       "      <th>metrics.MAP</th>\n",
       "      <th>metrics.Precision_10</th>\n",
       "      <th>metrics.MAE</th>\n",
       "      <th>metrics.RMSE</th>\n",
       "      <th>...</th>\n",
       "      <th>params.local_uri</th>\n",
       "      <th>params.vector_size</th>\n",
       "      <th>params.sg</th>\n",
       "      <th>params.w_maxsim</th>\n",
       "      <th>params.w_title</th>\n",
       "      <th>tags.mlflow.user</th>\n",
       "      <th>tags.mlflow.runName</th>\n",
       "      <th>tags.mlflow.source.name</th>\n",
       "      <th>tags.mlflow.source.git.commit</th>\n",
       "      <th>tags.mlflow.source.type</th>\n",
       "    </tr>\n",
       "  </thead>\n",
       "  <tbody>\n",
       "  </tbody>\n",
       "</table>\n",
       "<p>0 rows × 29 columns</p>\n",
       "</div>"
      ],
      "text/plain": [
       "Empty DataFrame\n",
       "Columns: [run_id, experiment_id, status, artifact_uri, start_time, end_time, metrics.MAP, metrics.Precision_10, metrics.MAE, metrics.RMSE, metrics.F1_10, metrics.NDCG, metrics.MSE, metrics.Hit-Rate, metrics.Recall_10, metrics.MRR, params.w_cosine, params.epochs, params.window, params.local_uri, params.vector_size, params.sg, params.w_maxsim, params.w_title, tags.mlflow.user, tags.mlflow.runName, tags.mlflow.source.name, tags.mlflow.source.git.commit, tags.mlflow.source.type]\n",
       "Index: []\n",
       "\n",
       "[0 rows x 29 columns]"
      ]
     },
     "execution_count": 415,
     "metadata": {},
     "output_type": "execute_result"
    }
   ],
   "source": [
    "runs.iloc[params[\"model_register\"][\"max_runs\"]:]"
   ]
  },
  {
   "cell_type": "code",
   "execution_count": null,
   "id": "ce33965e",
   "metadata": {},
   "outputs": [],
   "source": [
    "deprecate_runs = sorted_runs.iloc[params[\"model_register\"][\"max_runs\"]:]\n",
    "\n",
    "for index, run in deprecate_runs.iterrows():\n",
    "    # Delete run from MLFlow\n",
    "    id = run[\"run_id\"]\n",
    "    mlflow.delete_run(id)\n",
    "\n",
    "    # Delete run from local file system\n",
    "    run_path = os.path.join(\"../mlflow/mlruns\", run[\"experiment_id\"], run[\"run_id\"])\n",
    "    if os.path.exists(run_path):\n",
    "        print(f\"Deleting local run directory: {run_path}\")\n",
    "        shutil.rmtree(run_path)\n",
    "\n",
    "    # Delete model artifact from local file system\n",
    "    model_artifact_path = os.path.join(*run[\"params.local_uri\"].split(\"/\")[:-1])\n",
    "    if os.path.exists(model_artifact_path):\n",
    "        print(f\"Deleting local model artifacts: {model_artifact_path}\")\n",
    "        shutil.rmtree(model_artifact_path)\n",
    "\n",
    "    # Delete model artifact from local file system\n",
    "    artifact_path = os.path.join(\"mlflow/mlartifacts\", run[\"experiment_id\"], run[\"run_id\"])\n",
    "    if os.path.exists(artifact_path):\n",
    "        print(f\"Deleting local artifacts: {artifact_path}\")\n",
    "        shutil.rmtree(artifact_path)"
   ]
  },
  {
   "cell_type": "code",
   "execution_count": null,
   "id": "aff24230",
   "metadata": {},
   "outputs": [
    {
     "data": {
      "text/plain": [
       "True"
      ]
     },
     "execution_count": 458,
     "metadata": {},
     "output_type": "execute_result"
    }
   ],
   "source": [
    "os.path.join(*sorted_runs.iloc[0][\"params.local_uri\"].split(\"/\")[:-1])\n",
    "os.path.exists()"
   ]
  },
  {
   "cell_type": "code",
   "execution_count": 459,
   "id": "d0833410",
   "metadata": {},
   "outputs": [
    {
     "data": {
      "application/vnd.microsoft.datawrangler.viewer.v0+json": {
       "columns": [
        {
         "name": "index",
         "rawType": "int64",
         "type": "integer"
        },
        {
         "name": "run_id",
         "rawType": "object",
         "type": "string"
        },
        {
         "name": "experiment_id",
         "rawType": "object",
         "type": "string"
        },
        {
         "name": "status",
         "rawType": "object",
         "type": "string"
        },
        {
         "name": "artifact_uri",
         "rawType": "object",
         "type": "string"
        },
        {
         "name": "start_time",
         "rawType": "datetime64[ns, UTC]",
         "type": "unknown"
        },
        {
         "name": "end_time",
         "rawType": "datetime64[ns, UTC]",
         "type": "unknown"
        },
        {
         "name": "metrics.MAP",
         "rawType": "float64",
         "type": "float"
        },
        {
         "name": "metrics.Precision_10",
         "rawType": "float64",
         "type": "float"
        },
        {
         "name": "metrics.MAE",
         "rawType": "float64",
         "type": "float"
        },
        {
         "name": "metrics.RMSE",
         "rawType": "float64",
         "type": "float"
        },
        {
         "name": "metrics.F1_10",
         "rawType": "float64",
         "type": "float"
        },
        {
         "name": "metrics.NDCG",
         "rawType": "float64",
         "type": "float"
        },
        {
         "name": "metrics.MSE",
         "rawType": "float64",
         "type": "float"
        },
        {
         "name": "metrics.Hit-Rate",
         "rawType": "float64",
         "type": "float"
        },
        {
         "name": "metrics.Recall_10",
         "rawType": "float64",
         "type": "float"
        },
        {
         "name": "metrics.MRR",
         "rawType": "float64",
         "type": "float"
        },
        {
         "name": "params.w_cosine",
         "rawType": "object",
         "type": "string"
        },
        {
         "name": "params.epochs",
         "rawType": "object",
         "type": "string"
        },
        {
         "name": "params.window",
         "rawType": "object",
         "type": "string"
        },
        {
         "name": "params.local_uri",
         "rawType": "object",
         "type": "string"
        },
        {
         "name": "params.vector_size",
         "rawType": "object",
         "type": "string"
        },
        {
         "name": "params.sg",
         "rawType": "object",
         "type": "string"
        },
        {
         "name": "params.w_maxsim",
         "rawType": "object",
         "type": "string"
        },
        {
         "name": "params.w_title",
         "rawType": "object",
         "type": "string"
        },
        {
         "name": "tags.mlflow.user",
         "rawType": "object",
         "type": "string"
        },
        {
         "name": "tags.mlflow.runName",
         "rawType": "object",
         "type": "string"
        },
        {
         "name": "tags.mlflow.source.name",
         "rawType": "object",
         "type": "string"
        },
        {
         "name": "tags.mlflow.source.git.commit",
         "rawType": "object",
         "type": "string"
        },
        {
         "name": "tags.mlflow.source.type",
         "rawType": "object",
         "type": "string"
        }
       ],
       "ref": "cbc20c8f-80f6-4639-9328-a8e0ddc94958",
       "rows": [
        [
         "2",
         "86e788289c9a4f0bb16a5660b8f2c27a",
         "977490736678194877",
         "FINISHED",
         "mlflow-artifacts:/977490736678194877/86e788289c9a4f0bb16a5660b8f2c27a/artifacts",
         "2025-09-01 01:19:58.694000+00:00",
         "2025-09-01 21:24:10.774000+00:00",
         "0.19401463841384792",
         "0.349738734607696",
         "0.19197831950528305",
         "0.22491552518824945",
         "0.37937443712517405",
         "0.7961161608436464",
         "0.05223540781023996",
         "0.3",
         "0.4623724613028891",
         "0.2166666666666667",
         "0.2",
         "100",
         "5",
         "mlflow/mlartifacts/977490736678194877/models/m-4edd176ed61d4511b45e5be794c4f880/artifacts",
         "100",
         "0",
         "0.7",
         "0.1",
         "alfredmastan",
         "bright-ape-669",
         "src/model_training.py",
         "81a1cccec9a1da8dd0bbf0aa265db835bbbcb077",
         "LOCAL"
        ],
        [
         "1",
         "0e70656d046543ac94cb337e888cef9b",
         "977490736678194877",
         "FINISHED",
         "mlflow-artifacts:/977490736678194877/0e70656d046543ac94cb337e888cef9b/artifacts",
         "2025-09-01 21:07:27.757000+00:00",
         "2025-09-01 21:07:50.663000+00:00",
         "0.37317460317460316",
         "0.39109509906890016",
         "0.21543658324939133",
         "0.245743968184234",
         "0.4104362973164945",
         "0.8027983071293219",
         "0.061285435009212255",
         "0.4",
         "0.46031166764981546",
         "0.4083333333333333",
         "0.2",
         "100",
         "5",
         "mlflow/mlartifacts/977490736678194877/models/m-6671c1d033f54bf19bac4229a40ed597/artifacts",
         "100",
         "0",
         "0.7",
         "0.1",
         "alfredmastan",
         "orderly-hound-550",
         "src/model_training.py",
         "3e53f58337769df908968702c8d386a4620a6a6a",
         "LOCAL"
        ],
        [
         "0",
         "2175514552dd426aa8effe61424df1f4",
         "977490736678194877",
         "FINISHED",
         "mlflow-artifacts:/977490736678194877/2175514552dd426aa8effe61424df1f4/artifacts",
         "2025-09-01 21:14:47.155000+00:00",
         "2025-09-01 21:15:11.273000+00:00",
         "0.371984126984127",
         "0.39088695519988537",
         "0.21826297794050106",
         "0.24849773765039815",
         "0.41203718654993127",
         "0.8027983071293219",
         "0.06269832388048417",
         "0.4",
         "0.4630195887662912",
         "0.40714285714285714",
         "0.2",
         "100",
         "5",
         "mlflow/mlartifacts/977490736678194877/models/m-0fce45b2fe184befa52ba1c15b095370/artifacts",
         "100",
         "0",
         "0.7",
         "0.1",
         "alfredmastan",
         "secretive-fowl-352",
         "src/model_training.py",
         "3e53f58337769df908968702c8d386a4620a6a6a",
         "LOCAL"
        ]
       ],
       "shape": {
        "columns": 29,
        "rows": 3
       }
      },
      "text/html": [
       "<div>\n",
       "<style scoped>\n",
       "    .dataframe tbody tr th:only-of-type {\n",
       "        vertical-align: middle;\n",
       "    }\n",
       "\n",
       "    .dataframe tbody tr th {\n",
       "        vertical-align: top;\n",
       "    }\n",
       "\n",
       "    .dataframe thead th {\n",
       "        text-align: right;\n",
       "    }\n",
       "</style>\n",
       "<table border=\"1\" class=\"dataframe\">\n",
       "  <thead>\n",
       "    <tr style=\"text-align: right;\">\n",
       "      <th></th>\n",
       "      <th>run_id</th>\n",
       "      <th>experiment_id</th>\n",
       "      <th>status</th>\n",
       "      <th>artifact_uri</th>\n",
       "      <th>start_time</th>\n",
       "      <th>end_time</th>\n",
       "      <th>metrics.MAP</th>\n",
       "      <th>metrics.Precision_10</th>\n",
       "      <th>metrics.MAE</th>\n",
       "      <th>metrics.RMSE</th>\n",
       "      <th>...</th>\n",
       "      <th>params.local_uri</th>\n",
       "      <th>params.vector_size</th>\n",
       "      <th>params.sg</th>\n",
       "      <th>params.w_maxsim</th>\n",
       "      <th>params.w_title</th>\n",
       "      <th>tags.mlflow.user</th>\n",
       "      <th>tags.mlflow.runName</th>\n",
       "      <th>tags.mlflow.source.name</th>\n",
       "      <th>tags.mlflow.source.git.commit</th>\n",
       "      <th>tags.mlflow.source.type</th>\n",
       "    </tr>\n",
       "  </thead>\n",
       "  <tbody>\n",
       "    <tr>\n",
       "      <th>2</th>\n",
       "      <td>86e788289c9a4f0bb16a5660b8f2c27a</td>\n",
       "      <td>977490736678194877</td>\n",
       "      <td>FINISHED</td>\n",
       "      <td>mlflow-artifacts:/977490736678194877/86e788289...</td>\n",
       "      <td>2025-09-01 01:19:58.694000+00:00</td>\n",
       "      <td>2025-09-01 21:24:10.774000+00:00</td>\n",
       "      <td>0.194015</td>\n",
       "      <td>0.349739</td>\n",
       "      <td>0.191978</td>\n",
       "      <td>0.224916</td>\n",
       "      <td>...</td>\n",
       "      <td>mlflow/mlartifacts/977490736678194877/models/m...</td>\n",
       "      <td>100</td>\n",
       "      <td>0</td>\n",
       "      <td>0.7</td>\n",
       "      <td>0.1</td>\n",
       "      <td>alfredmastan</td>\n",
       "      <td>bright-ape-669</td>\n",
       "      <td>src/model_training.py</td>\n",
       "      <td>81a1cccec9a1da8dd0bbf0aa265db835bbbcb077</td>\n",
       "      <td>LOCAL</td>\n",
       "    </tr>\n",
       "    <tr>\n",
       "      <th>1</th>\n",
       "      <td>0e70656d046543ac94cb337e888cef9b</td>\n",
       "      <td>977490736678194877</td>\n",
       "      <td>FINISHED</td>\n",
       "      <td>mlflow-artifacts:/977490736678194877/0e70656d0...</td>\n",
       "      <td>2025-09-01 21:07:27.757000+00:00</td>\n",
       "      <td>2025-09-01 21:07:50.663000+00:00</td>\n",
       "      <td>0.373175</td>\n",
       "      <td>0.391095</td>\n",
       "      <td>0.215437</td>\n",
       "      <td>0.245744</td>\n",
       "      <td>...</td>\n",
       "      <td>mlflow/mlartifacts/977490736678194877/models/m...</td>\n",
       "      <td>100</td>\n",
       "      <td>0</td>\n",
       "      <td>0.7</td>\n",
       "      <td>0.1</td>\n",
       "      <td>alfredmastan</td>\n",
       "      <td>orderly-hound-550</td>\n",
       "      <td>src/model_training.py</td>\n",
       "      <td>3e53f58337769df908968702c8d386a4620a6a6a</td>\n",
       "      <td>LOCAL</td>\n",
       "    </tr>\n",
       "    <tr>\n",
       "      <th>0</th>\n",
       "      <td>2175514552dd426aa8effe61424df1f4</td>\n",
       "      <td>977490736678194877</td>\n",
       "      <td>FINISHED</td>\n",
       "      <td>mlflow-artifacts:/977490736678194877/217551455...</td>\n",
       "      <td>2025-09-01 21:14:47.155000+00:00</td>\n",
       "      <td>2025-09-01 21:15:11.273000+00:00</td>\n",
       "      <td>0.371984</td>\n",
       "      <td>0.390887</td>\n",
       "      <td>0.218263</td>\n",
       "      <td>0.248498</td>\n",
       "      <td>...</td>\n",
       "      <td>mlflow/mlartifacts/977490736678194877/models/m...</td>\n",
       "      <td>100</td>\n",
       "      <td>0</td>\n",
       "      <td>0.7</td>\n",
       "      <td>0.1</td>\n",
       "      <td>alfredmastan</td>\n",
       "      <td>secretive-fowl-352</td>\n",
       "      <td>src/model_training.py</td>\n",
       "      <td>3e53f58337769df908968702c8d386a4620a6a6a</td>\n",
       "      <td>LOCAL</td>\n",
       "    </tr>\n",
       "  </tbody>\n",
       "</table>\n",
       "<p>3 rows × 29 columns</p>\n",
       "</div>"
      ],
      "text/plain": [
       "                             run_id       experiment_id    status  \\\n",
       "2  86e788289c9a4f0bb16a5660b8f2c27a  977490736678194877  FINISHED   \n",
       "1  0e70656d046543ac94cb337e888cef9b  977490736678194877  FINISHED   \n",
       "0  2175514552dd426aa8effe61424df1f4  977490736678194877  FINISHED   \n",
       "\n",
       "                                        artifact_uri  \\\n",
       "2  mlflow-artifacts:/977490736678194877/86e788289...   \n",
       "1  mlflow-artifacts:/977490736678194877/0e70656d0...   \n",
       "0  mlflow-artifacts:/977490736678194877/217551455...   \n",
       "\n",
       "                        start_time                         end_time  \\\n",
       "2 2025-09-01 01:19:58.694000+00:00 2025-09-01 21:24:10.774000+00:00   \n",
       "1 2025-09-01 21:07:27.757000+00:00 2025-09-01 21:07:50.663000+00:00   \n",
       "0 2025-09-01 21:14:47.155000+00:00 2025-09-01 21:15:11.273000+00:00   \n",
       "\n",
       "   metrics.MAP  metrics.Precision_10  metrics.MAE  metrics.RMSE  ...  \\\n",
       "2     0.194015              0.349739     0.191978      0.224916  ...   \n",
       "1     0.373175              0.391095     0.215437      0.245744  ...   \n",
       "0     0.371984              0.390887     0.218263      0.248498  ...   \n",
       "\n",
       "                                    params.local_uri  params.vector_size  \\\n",
       "2  mlflow/mlartifacts/977490736678194877/models/m...                 100   \n",
       "1  mlflow/mlartifacts/977490736678194877/models/m...                 100   \n",
       "0  mlflow/mlartifacts/977490736678194877/models/m...                 100   \n",
       "\n",
       "   params.sg  params.w_maxsim  params.w_title  tags.mlflow.user  \\\n",
       "2          0              0.7             0.1      alfredmastan   \n",
       "1          0              0.7             0.1      alfredmastan   \n",
       "0          0              0.7             0.1      alfredmastan   \n",
       "\n",
       "  tags.mlflow.runName tags.mlflow.source.name  \\\n",
       "2      bright-ape-669   src/model_training.py   \n",
       "1   orderly-hound-550   src/model_training.py   \n",
       "0  secretive-fowl-352   src/model_training.py   \n",
       "\n",
       "              tags.mlflow.source.git.commit tags.mlflow.source.type  \n",
       "2  81a1cccec9a1da8dd0bbf0aa265db835bbbcb077                   LOCAL  \n",
       "1  3e53f58337769df908968702c8d386a4620a6a6a                   LOCAL  \n",
       "0  3e53f58337769df908968702c8d386a4620a6a6a                   LOCAL  \n",
       "\n",
       "[3 rows x 29 columns]"
      ]
     },
     "execution_count": 459,
     "metadata": {},
     "output_type": "execute_result"
    }
   ],
   "source": [
    "sorted_runs"
   ]
  },
  {
   "cell_type": "code",
   "execution_count": null,
   "id": "fb0cdf97",
   "metadata": {},
   "outputs": [],
   "source": []
  }
 ],
 "metadata": {
  "kernelspec": {
   "display_name": "food-rec",
   "language": "python",
   "name": "python3"
  },
  "language_info": {
   "codemirror_mode": {
    "name": "ipython",
    "version": 3
   },
   "file_extension": ".py",
   "mimetype": "text/x-python",
   "name": "python",
   "nbconvert_exporter": "python",
   "pygments_lexer": "ipython3",
   "version": "3.12.3"
  }
 },
 "nbformat": 4,
 "nbformat_minor": 5
}
