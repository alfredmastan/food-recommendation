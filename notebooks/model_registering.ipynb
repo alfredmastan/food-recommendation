{
 "cells": [
  {
   "cell_type": "markdown",
   "id": "fd633618",
   "metadata": {},
   "source": [
    "# Model Registering"
   ]
  },
  {
   "cell_type": "code",
   "execution_count": 404,
   "id": "1e68872d",
   "metadata": {},
   "outputs": [],
   "source": [
    "# Import required libraries\n",
    "import numpy as np\n",
    "import pandas as pd\n",
    "import os\n",
    "import shutil \n",
    "import requests\n",
    "\n",
    "import mlflow\n",
    "import json\n",
    "import yaml\n",
    "\n",
    "import warnings\n",
    "warnings.filterwarnings(\"ignore\")"
   ]
  },
  {
   "cell_type": "markdown",
   "id": "707c3360",
   "metadata": {},
   "source": [
    "## Preparation"
   ]
  },
  {
   "cell_type": "code",
   "execution_count": 405,
   "id": "7535f34a",
   "metadata": {},
   "outputs": [],
   "source": [
    "def load_params():\n",
    "    with open(\"../params.yaml\") as f:\n",
    "        params = yaml.safe_load(f)\n",
    "    return params\n",
    "\n",
    "# Load params\n",
    "params = load_params()\n",
    "\n",
    "# Load recipes data\n",
    "data = pd.read_pickle(params[\"model_pipeline\"][\"recipe_path\"])"
   ]
  },
  {
   "cell_type": "code",
   "execution_count": 411,
   "id": "0b9c9f05",
   "metadata": {},
   "outputs": [
    {
     "data": {
      "text/plain": [
       "'32cc39d3e1e24799886476ad91037e36'"
      ]
     },
     "execution_count": 411,
     "metadata": {},
     "output_type": "execute_result"
    }
   ],
   "source": [
    "# Load validation model metadata\n",
    "with open(\"../validation_metadata.json\", \"r\") as f:\n",
    "    metadata = json.load(f)\n",
    "\n",
    "metadata[\"run_id\"]"
   ]
  },
  {
   "cell_type": "code",
   "execution_count": 395,
   "id": "cdce95af",
   "metadata": {},
   "outputs": [
    {
     "data": {
      "text/plain": [
       "'29f4ae3f26834dfd939536d0b57838a9'"
      ]
     },
     "execution_count": 395,
     "metadata": {},
     "output_type": "execute_result"
    }
   ],
   "source": [
    "runs = mlflow.search_runs(experiment_names=[\"FastText-Model\"], order_by=[\"start_time ASC\", \"metrics.ndcg DESC\", \"metrics.rmse DESC\", \"metrics.f1_10 DESC\"])\n",
    "best_run = runs.iloc[0]\n",
    "best_run[\"run_id\"]\n"
   ]
  },
  {
   "cell_type": "code",
   "execution_count": 396,
   "id": "454665eb",
   "metadata": {},
   "outputs": [
    {
     "data": {
      "application/vnd.microsoft.datawrangler.viewer.v0+json": {
       "columns": [
        {
         "name": "index",
         "rawType": "int64",
         "type": "integer"
        },
        {
         "name": "run_id",
         "rawType": "object",
         "type": "string"
        },
        {
         "name": "experiment_id",
         "rawType": "object",
         "type": "string"
        },
        {
         "name": "status",
         "rawType": "object",
         "type": "string"
        },
        {
         "name": "artifact_uri",
         "rawType": "object",
         "type": "string"
        },
        {
         "name": "start_time",
         "rawType": "datetime64[ns, UTC]",
         "type": "unknown"
        },
        {
         "name": "end_time",
         "rawType": "datetime64[ns, UTC]",
         "type": "unknown"
        },
        {
         "name": "metrics.MAP",
         "rawType": "float64",
         "type": "float"
        },
        {
         "name": "metrics.Precision_10",
         "rawType": "float64",
         "type": "float"
        },
        {
         "name": "metrics.MAE",
         "rawType": "float64",
         "type": "float"
        },
        {
         "name": "metrics.RMSE",
         "rawType": "float64",
         "type": "float"
        },
        {
         "name": "metrics.F1_10",
         "rawType": "float64",
         "type": "float"
        },
        {
         "name": "metrics.NDCG",
         "rawType": "float64",
         "type": "float"
        },
        {
         "name": "metrics.MSE",
         "rawType": "float64",
         "type": "float"
        },
        {
         "name": "metrics.Hit-Rate",
         "rawType": "float64",
         "type": "float"
        },
        {
         "name": "metrics.Recall_10",
         "rawType": "float64",
         "type": "float"
        },
        {
         "name": "metrics.MRR",
         "rawType": "float64",
         "type": "float"
        },
        {
         "name": "params.w_cosine",
         "rawType": "object",
         "type": "string"
        },
        {
         "name": "params.epochs",
         "rawType": "object",
         "type": "string"
        },
        {
         "name": "params.window",
         "rawType": "object",
         "type": "string"
        },
        {
         "name": "params.local_uri",
         "rawType": "object",
         "type": "string"
        },
        {
         "name": "params.vector_size",
         "rawType": "object",
         "type": "string"
        },
        {
         "name": "params.sg",
         "rawType": "object",
         "type": "string"
        },
        {
         "name": "params.w_maxsim",
         "rawType": "object",
         "type": "string"
        },
        {
         "name": "params.w_title",
         "rawType": "object",
         "type": "string"
        },
        {
         "name": "tags.mlflow.user",
         "rawType": "object",
         "type": "string"
        },
        {
         "name": "tags.mlflow.source.type",
         "rawType": "object",
         "type": "string"
        },
        {
         "name": "tags.mlflow.runName",
         "rawType": "object",
         "type": "string"
        },
        {
         "name": "tags.mlflow.source.name",
         "rawType": "object",
         "type": "string"
        }
       ],
       "ref": "c78b6d33-d7a5-4b58-9ad6-9c990dff732f",
       "rows": [
        [
         "0",
         "29f4ae3f26834dfd939536d0b57838a9",
         "300877920446874715",
         "FINISHED",
         "mlflow-artifacts:/300877920446874715/29f4ae3f26834dfd939536d0b57838a9/artifacts",
         "2025-08-31 01:07:49.682000+00:00",
         "2025-08-31 01:08:27.433000+00:00",
         "0.19081783956783954",
         "0.3394571886911364",
         "0.1940248615680723",
         "0.22691767167952398",
         "0.3664164538518096",
         "0.7961161608436464",
         "0.053161452762294795",
         "0.3",
         "0.44860077437530793",
         "0.2166666666666667",
         "0.2",
         "100",
         "5",
         "../mlflow/mlartifacts/300877920446874715/models/m-bd0583be99204cf4ac68f1243bd6c63c/artifacts",
         "100",
         "0",
         "0.7",
         "0.1",
         "alfredmastan",
         "LOCAL",
         "glamorous-hog-637",
         "/opt/anaconda3/envs/food-rec/lib/python3.12/site-packages/ipykernel_launcher.py"
        ],
        [
         "1",
         "32cc39d3e1e24799886476ad91037e36",
         "300877920446874715",
         "FINISHED",
         "mlflow-artifacts:/300877920446874715/32cc39d3e1e24799886476ad91037e36/artifacts",
         "2025-08-31 01:10:14.219000+00:00",
         "2025-08-31 01:11:34.823000+00:00",
         "0.19081783956783954",
         "0.3394571886911364",
         "0.1940248615680723",
         "0.22691767167952398",
         "0.3664164538518096",
         "0.7961161608436464",
         "0.053161452762294795",
         "0.3",
         "0.44860077437530793",
         "0.2166666666666667",
         "0.2",
         "100",
         "5",
         "../mlflow/mlartifacts/300877920446874715/models/m-e0ad5aaf74d942de95a6c3576eb69881/artifacts",
         "100",
         "0",
         "0.7",
         "0.1",
         "alfredmastan",
         "LOCAL",
         "serious-stoat-300",
         "/opt/anaconda3/envs/food-rec/lib/python3.12/site-packages/ipykernel_launcher.py"
        ]
       ],
       "shape": {
        "columns": 28,
        "rows": 2
       }
      },
      "text/html": [
       "<div>\n",
       "<style scoped>\n",
       "    .dataframe tbody tr th:only-of-type {\n",
       "        vertical-align: middle;\n",
       "    }\n",
       "\n",
       "    .dataframe tbody tr th {\n",
       "        vertical-align: top;\n",
       "    }\n",
       "\n",
       "    .dataframe thead th {\n",
       "        text-align: right;\n",
       "    }\n",
       "</style>\n",
       "<table border=\"1\" class=\"dataframe\">\n",
       "  <thead>\n",
       "    <tr style=\"text-align: right;\">\n",
       "      <th></th>\n",
       "      <th>run_id</th>\n",
       "      <th>experiment_id</th>\n",
       "      <th>status</th>\n",
       "      <th>artifact_uri</th>\n",
       "      <th>start_time</th>\n",
       "      <th>end_time</th>\n",
       "      <th>metrics.MAP</th>\n",
       "      <th>metrics.Precision_10</th>\n",
       "      <th>metrics.MAE</th>\n",
       "      <th>metrics.RMSE</th>\n",
       "      <th>...</th>\n",
       "      <th>params.window</th>\n",
       "      <th>params.local_uri</th>\n",
       "      <th>params.vector_size</th>\n",
       "      <th>params.sg</th>\n",
       "      <th>params.w_maxsim</th>\n",
       "      <th>params.w_title</th>\n",
       "      <th>tags.mlflow.user</th>\n",
       "      <th>tags.mlflow.source.type</th>\n",
       "      <th>tags.mlflow.runName</th>\n",
       "      <th>tags.mlflow.source.name</th>\n",
       "    </tr>\n",
       "  </thead>\n",
       "  <tbody>\n",
       "    <tr>\n",
       "      <th>0</th>\n",
       "      <td>29f4ae3f26834dfd939536d0b57838a9</td>\n",
       "      <td>300877920446874715</td>\n",
       "      <td>FINISHED</td>\n",
       "      <td>mlflow-artifacts:/300877920446874715/29f4ae3f2...</td>\n",
       "      <td>2025-08-31 01:07:49.682000+00:00</td>\n",
       "      <td>2025-08-31 01:08:27.433000+00:00</td>\n",
       "      <td>0.190818</td>\n",
       "      <td>0.339457</td>\n",
       "      <td>0.194025</td>\n",
       "      <td>0.226918</td>\n",
       "      <td>...</td>\n",
       "      <td>5</td>\n",
       "      <td>../mlflow/mlartifacts/300877920446874715/model...</td>\n",
       "      <td>100</td>\n",
       "      <td>0</td>\n",
       "      <td>0.7</td>\n",
       "      <td>0.1</td>\n",
       "      <td>alfredmastan</td>\n",
       "      <td>LOCAL</td>\n",
       "      <td>glamorous-hog-637</td>\n",
       "      <td>/opt/anaconda3/envs/food-rec/lib/python3.12/si...</td>\n",
       "    </tr>\n",
       "    <tr>\n",
       "      <th>1</th>\n",
       "      <td>32cc39d3e1e24799886476ad91037e36</td>\n",
       "      <td>300877920446874715</td>\n",
       "      <td>FINISHED</td>\n",
       "      <td>mlflow-artifacts:/300877920446874715/32cc39d3e...</td>\n",
       "      <td>2025-08-31 01:10:14.219000+00:00</td>\n",
       "      <td>2025-08-31 01:11:34.823000+00:00</td>\n",
       "      <td>0.190818</td>\n",
       "      <td>0.339457</td>\n",
       "      <td>0.194025</td>\n",
       "      <td>0.226918</td>\n",
       "      <td>...</td>\n",
       "      <td>5</td>\n",
       "      <td>../mlflow/mlartifacts/300877920446874715/model...</td>\n",
       "      <td>100</td>\n",
       "      <td>0</td>\n",
       "      <td>0.7</td>\n",
       "      <td>0.1</td>\n",
       "      <td>alfredmastan</td>\n",
       "      <td>LOCAL</td>\n",
       "      <td>serious-stoat-300</td>\n",
       "      <td>/opt/anaconda3/envs/food-rec/lib/python3.12/si...</td>\n",
       "    </tr>\n",
       "  </tbody>\n",
       "</table>\n",
       "<p>2 rows × 28 columns</p>\n",
       "</div>"
      ],
      "text/plain": [
       "                             run_id       experiment_id    status  \\\n",
       "0  29f4ae3f26834dfd939536d0b57838a9  300877920446874715  FINISHED   \n",
       "1  32cc39d3e1e24799886476ad91037e36  300877920446874715  FINISHED   \n",
       "\n",
       "                                        artifact_uri  \\\n",
       "0  mlflow-artifacts:/300877920446874715/29f4ae3f2...   \n",
       "1  mlflow-artifacts:/300877920446874715/32cc39d3e...   \n",
       "\n",
       "                        start_time                         end_time  \\\n",
       "0 2025-08-31 01:07:49.682000+00:00 2025-08-31 01:08:27.433000+00:00   \n",
       "1 2025-08-31 01:10:14.219000+00:00 2025-08-31 01:11:34.823000+00:00   \n",
       "\n",
       "   metrics.MAP  metrics.Precision_10  metrics.MAE  metrics.RMSE  ...  \\\n",
       "0     0.190818              0.339457     0.194025      0.226918  ...   \n",
       "1     0.190818              0.339457     0.194025      0.226918  ...   \n",
       "\n",
       "   params.window                                   params.local_uri  \\\n",
       "0              5  ../mlflow/mlartifacts/300877920446874715/model...   \n",
       "1              5  ../mlflow/mlartifacts/300877920446874715/model...   \n",
       "\n",
       "   params.vector_size  params.sg  params.w_maxsim  params.w_title  \\\n",
       "0                 100          0              0.7             0.1   \n",
       "1                 100          0              0.7             0.1   \n",
       "\n",
       "  tags.mlflow.user tags.mlflow.source.type tags.mlflow.runName  \\\n",
       "0     alfredmastan                   LOCAL   glamorous-hog-637   \n",
       "1     alfredmastan                   LOCAL   serious-stoat-300   \n",
       "\n",
       "                             tags.mlflow.source.name  \n",
       "0  /opt/anaconda3/envs/food-rec/lib/python3.12/si...  \n",
       "1  /opt/anaconda3/envs/food-rec/lib/python3.12/si...  \n",
       "\n",
       "[2 rows x 28 columns]"
      ]
     },
     "execution_count": 396,
     "metadata": {},
     "output_type": "execute_result"
    }
   ],
   "source": [
    "runs"
   ]
  },
  {
   "cell_type": "code",
   "execution_count": 398,
   "id": "9c7ec48b",
   "metadata": {},
   "outputs": [
    {
     "data": {
      "text/plain": [
       "'29f4ae3f26834dfd939536d0b57838a9'"
      ]
     },
     "execution_count": 398,
     "metadata": {},
     "output_type": "execute_result"
    }
   ],
   "source": [
    "with open(\"../registered_metadata.json\", \"r\") as f:\n",
    "    registered_metadata = json.load(f)\n",
    "registered_metadata[\"run_id\"]"
   ]
  },
  {
   "cell_type": "markdown",
   "id": "62deb1f3",
   "metadata": {},
   "source": [
    "## Retrieve and Register Best Model"
   ]
  },
  {
   "cell_type": "code",
   "execution_count": null,
   "id": "d72aac84",
   "metadata": {},
   "outputs": [
    {
     "name": "stdout",
     "output_type": "stream",
     "text": [
      "==================== Current registered model is the best! ====================\n"
     ]
    }
   ],
   "source": [
    "mlflow.set_tracking_uri(\"http://127.0.0.1:8080\")\n",
    "\n",
    "# Get the highest performance and oldest run\n",
    "runs = mlflow.search_runs(experiment_names=[\"FastText-Model\"], order_by=[\"start_time ASC\", \"metrics.ndcg DESC\", \"metrics.rmse DESC\", \"metrics.f1_10 DESC\"])\n",
    "best_run = runs.iloc[0]\n",
    "\n",
    "def main():\n",
    "    # Check if any registered model exists\n",
    "    if mlflow.search_registered_models():\n",
    "        # Get current registered model metadata\n",
    "        with open(\"../registered_metadata.json\", \"r\") as f:\n",
    "            registered_metadata = json.load(f)\n",
    "        \n",
    "        if best_run[\"run_id\"] == registered_metadata[\"run_id\"]:\n",
    "            print(f\"{'='*20} Current registered model is the best! {'='*20}\")\n",
    "            return\n",
    "\n",
    "    # Load validation model metadata\n",
    "    with open(\"../validation_metadata.json\", \"r\") as f:\n",
    "        metadata = json.load(f)\n",
    "    \n",
    "    # Save registered model metadata\n",
    "    with open(\"../registered_metadata.json\", \"w\") as f:\n",
    "        f.write(json.dumps(metadata, indent=4))\n",
    "        print(\"SAVED\")\n",
    "    \n",
    "    # Register best model to MLFlow\n",
    "    with mlflow.start_run(run_id=best_run.run_id):\n",
    "        mlflow.register_model(\n",
    "            model_uri=metadata[\"server_uri\"],\n",
    "            name=\"fasttext_model\"\n",
    "        )\n",
    "\n",
    "    print(f\"{'='*20} New best model registered! {'='*20}\")\n",
    "\n",
    "if __name__ == \"__main__\":\n",
    "    main()"
   ]
  },
  {
   "cell_type": "markdown",
   "id": "7e651641",
   "metadata": {},
   "source": [
    "### API Call Test (Run Server Beforehand)"
   ]
  },
  {
   "cell_type": "code",
   "execution_count": 400,
   "id": "00341b0c",
   "metadata": {},
   "outputs": [],
   "source": [
    "# params = {\"query\": [\"rice\", \"beef\", \"meat\"]}\n",
    "# response = requests.post(f\"http://localhost:8000/recommend/\", params=params)\n",
    "# np.asarray(json.loads(response.json()))"
   ]
  },
  {
   "cell_type": "markdown",
   "id": "8387f666",
   "metadata": {},
   "source": [
    "### Delete Old Runs and Artifacts (Based on Performance)"
   ]
  },
  {
   "cell_type": "code",
   "execution_count": 401,
   "id": "b98c3277",
   "metadata": {},
   "outputs": [
    {
     "data": {
      "application/vnd.microsoft.datawrangler.viewer.v0+json": {
       "columns": [
        {
         "name": "index",
         "rawType": "int64",
         "type": "integer"
        },
        {
         "name": "run_id",
         "rawType": "object",
         "type": "string"
        },
        {
         "name": "experiment_id",
         "rawType": "object",
         "type": "string"
        },
        {
         "name": "status",
         "rawType": "object",
         "type": "string"
        },
        {
         "name": "artifact_uri",
         "rawType": "object",
         "type": "string"
        },
        {
         "name": "start_time",
         "rawType": "datetime64[ns, UTC]",
         "type": "unknown"
        },
        {
         "name": "end_time",
         "rawType": "datetime64[ns, UTC]",
         "type": "unknown"
        },
        {
         "name": "metrics.MAP",
         "rawType": "float64",
         "type": "float"
        },
        {
         "name": "metrics.Precision_10",
         "rawType": "float64",
         "type": "float"
        },
        {
         "name": "metrics.MAE",
         "rawType": "float64",
         "type": "float"
        },
        {
         "name": "metrics.RMSE",
         "rawType": "float64",
         "type": "float"
        },
        {
         "name": "metrics.F1_10",
         "rawType": "float64",
         "type": "float"
        },
        {
         "name": "metrics.NDCG",
         "rawType": "float64",
         "type": "float"
        },
        {
         "name": "metrics.MSE",
         "rawType": "float64",
         "type": "float"
        },
        {
         "name": "metrics.Hit-Rate",
         "rawType": "float64",
         "type": "float"
        },
        {
         "name": "metrics.Recall_10",
         "rawType": "float64",
         "type": "float"
        },
        {
         "name": "metrics.MRR",
         "rawType": "float64",
         "type": "float"
        },
        {
         "name": "params.w_cosine",
         "rawType": "object",
         "type": "string"
        },
        {
         "name": "params.epochs",
         "rawType": "object",
         "type": "string"
        },
        {
         "name": "params.window",
         "rawType": "object",
         "type": "string"
        },
        {
         "name": "params.local_uri",
         "rawType": "object",
         "type": "string"
        },
        {
         "name": "params.vector_size",
         "rawType": "object",
         "type": "string"
        },
        {
         "name": "params.sg",
         "rawType": "object",
         "type": "string"
        },
        {
         "name": "params.w_maxsim",
         "rawType": "object",
         "type": "string"
        },
        {
         "name": "params.w_title",
         "rawType": "object",
         "type": "string"
        },
        {
         "name": "tags.mlflow.user",
         "rawType": "object",
         "type": "string"
        },
        {
         "name": "tags.mlflow.source.type",
         "rawType": "object",
         "type": "string"
        },
        {
         "name": "tags.mlflow.runName",
         "rawType": "object",
         "type": "string"
        },
        {
         "name": "tags.mlflow.source.name",
         "rawType": "object",
         "type": "string"
        }
       ],
       "ref": "a0690fae-7ebb-4917-9e19-e2e65f2e102b",
       "rows": [
        [
         "0",
         "29f4ae3f26834dfd939536d0b57838a9",
         "300877920446874715",
         "FINISHED",
         "mlflow-artifacts:/300877920446874715/29f4ae3f26834dfd939536d0b57838a9/artifacts",
         "2025-08-31 01:07:49.682000+00:00",
         "2025-08-31 01:08:27.433000+00:00",
         "0.19081783956783954",
         "0.3394571886911364",
         "0.1940248615680723",
         "0.22691767167952398",
         "0.3664164538518096",
         "0.7961161608436464",
         "0.053161452762294795",
         "0.3",
         "0.44860077437530793",
         "0.2166666666666667",
         "0.2",
         "100",
         "5",
         "../mlflow/mlartifacts/300877920446874715/models/m-bd0583be99204cf4ac68f1243bd6c63c/artifacts",
         "100",
         "0",
         "0.7",
         "0.1",
         "alfredmastan",
         "LOCAL",
         "glamorous-hog-637",
         "/opt/anaconda3/envs/food-rec/lib/python3.12/site-packages/ipykernel_launcher.py"
        ],
        [
         "1",
         "32cc39d3e1e24799886476ad91037e36",
         "300877920446874715",
         "FINISHED",
         "mlflow-artifacts:/300877920446874715/32cc39d3e1e24799886476ad91037e36/artifacts",
         "2025-08-31 01:10:14.219000+00:00",
         "2025-08-31 01:11:34.823000+00:00",
         "0.19081783956783954",
         "0.3394571886911364",
         "0.1940248615680723",
         "0.22691767167952398",
         "0.3664164538518096",
         "0.7961161608436464",
         "0.053161452762294795",
         "0.3",
         "0.44860077437530793",
         "0.2166666666666667",
         "0.2",
         "100",
         "5",
         "../mlflow/mlartifacts/300877920446874715/models/m-e0ad5aaf74d942de95a6c3576eb69881/artifacts",
         "100",
         "0",
         "0.7",
         "0.1",
         "alfredmastan",
         "LOCAL",
         "serious-stoat-300",
         "/opt/anaconda3/envs/food-rec/lib/python3.12/site-packages/ipykernel_launcher.py"
        ]
       ],
       "shape": {
        "columns": 28,
        "rows": 2
       }
      },
      "text/html": [
       "<div>\n",
       "<style scoped>\n",
       "    .dataframe tbody tr th:only-of-type {\n",
       "        vertical-align: middle;\n",
       "    }\n",
       "\n",
       "    .dataframe tbody tr th {\n",
       "        vertical-align: top;\n",
       "    }\n",
       "\n",
       "    .dataframe thead th {\n",
       "        text-align: right;\n",
       "    }\n",
       "</style>\n",
       "<table border=\"1\" class=\"dataframe\">\n",
       "  <thead>\n",
       "    <tr style=\"text-align: right;\">\n",
       "      <th></th>\n",
       "      <th>run_id</th>\n",
       "      <th>experiment_id</th>\n",
       "      <th>status</th>\n",
       "      <th>artifact_uri</th>\n",
       "      <th>start_time</th>\n",
       "      <th>end_time</th>\n",
       "      <th>metrics.MAP</th>\n",
       "      <th>metrics.Precision_10</th>\n",
       "      <th>metrics.MAE</th>\n",
       "      <th>metrics.RMSE</th>\n",
       "      <th>...</th>\n",
       "      <th>params.window</th>\n",
       "      <th>params.local_uri</th>\n",
       "      <th>params.vector_size</th>\n",
       "      <th>params.sg</th>\n",
       "      <th>params.w_maxsim</th>\n",
       "      <th>params.w_title</th>\n",
       "      <th>tags.mlflow.user</th>\n",
       "      <th>tags.mlflow.source.type</th>\n",
       "      <th>tags.mlflow.runName</th>\n",
       "      <th>tags.mlflow.source.name</th>\n",
       "    </tr>\n",
       "  </thead>\n",
       "  <tbody>\n",
       "    <tr>\n",
       "      <th>0</th>\n",
       "      <td>29f4ae3f26834dfd939536d0b57838a9</td>\n",
       "      <td>300877920446874715</td>\n",
       "      <td>FINISHED</td>\n",
       "      <td>mlflow-artifacts:/300877920446874715/29f4ae3f2...</td>\n",
       "      <td>2025-08-31 01:07:49.682000+00:00</td>\n",
       "      <td>2025-08-31 01:08:27.433000+00:00</td>\n",
       "      <td>0.190818</td>\n",
       "      <td>0.339457</td>\n",
       "      <td>0.194025</td>\n",
       "      <td>0.226918</td>\n",
       "      <td>...</td>\n",
       "      <td>5</td>\n",
       "      <td>../mlflow/mlartifacts/300877920446874715/model...</td>\n",
       "      <td>100</td>\n",
       "      <td>0</td>\n",
       "      <td>0.7</td>\n",
       "      <td>0.1</td>\n",
       "      <td>alfredmastan</td>\n",
       "      <td>LOCAL</td>\n",
       "      <td>glamorous-hog-637</td>\n",
       "      <td>/opt/anaconda3/envs/food-rec/lib/python3.12/si...</td>\n",
       "    </tr>\n",
       "    <tr>\n",
       "      <th>1</th>\n",
       "      <td>32cc39d3e1e24799886476ad91037e36</td>\n",
       "      <td>300877920446874715</td>\n",
       "      <td>FINISHED</td>\n",
       "      <td>mlflow-artifacts:/300877920446874715/32cc39d3e...</td>\n",
       "      <td>2025-08-31 01:10:14.219000+00:00</td>\n",
       "      <td>2025-08-31 01:11:34.823000+00:00</td>\n",
       "      <td>0.190818</td>\n",
       "      <td>0.339457</td>\n",
       "      <td>0.194025</td>\n",
       "      <td>0.226918</td>\n",
       "      <td>...</td>\n",
       "      <td>5</td>\n",
       "      <td>../mlflow/mlartifacts/300877920446874715/model...</td>\n",
       "      <td>100</td>\n",
       "      <td>0</td>\n",
       "      <td>0.7</td>\n",
       "      <td>0.1</td>\n",
       "      <td>alfredmastan</td>\n",
       "      <td>LOCAL</td>\n",
       "      <td>serious-stoat-300</td>\n",
       "      <td>/opt/anaconda3/envs/food-rec/lib/python3.12/si...</td>\n",
       "    </tr>\n",
       "  </tbody>\n",
       "</table>\n",
       "<p>2 rows × 28 columns</p>\n",
       "</div>"
      ],
      "text/plain": [
       "                             run_id       experiment_id    status  \\\n",
       "0  29f4ae3f26834dfd939536d0b57838a9  300877920446874715  FINISHED   \n",
       "1  32cc39d3e1e24799886476ad91037e36  300877920446874715  FINISHED   \n",
       "\n",
       "                                        artifact_uri  \\\n",
       "0  mlflow-artifacts:/300877920446874715/29f4ae3f2...   \n",
       "1  mlflow-artifacts:/300877920446874715/32cc39d3e...   \n",
       "\n",
       "                        start_time                         end_time  \\\n",
       "0 2025-08-31 01:07:49.682000+00:00 2025-08-31 01:08:27.433000+00:00   \n",
       "1 2025-08-31 01:10:14.219000+00:00 2025-08-31 01:11:34.823000+00:00   \n",
       "\n",
       "   metrics.MAP  metrics.Precision_10  metrics.MAE  metrics.RMSE  ...  \\\n",
       "0     0.190818              0.339457     0.194025      0.226918  ...   \n",
       "1     0.190818              0.339457     0.194025      0.226918  ...   \n",
       "\n",
       "   params.window                                   params.local_uri  \\\n",
       "0              5  ../mlflow/mlartifacts/300877920446874715/model...   \n",
       "1              5  ../mlflow/mlartifacts/300877920446874715/model...   \n",
       "\n",
       "   params.vector_size  params.sg  params.w_maxsim  params.w_title  \\\n",
       "0                 100          0              0.7             0.1   \n",
       "1                 100          0              0.7             0.1   \n",
       "\n",
       "  tags.mlflow.user tags.mlflow.source.type tags.mlflow.runName  \\\n",
       "0     alfredmastan                   LOCAL   glamorous-hog-637   \n",
       "1     alfredmastan                   LOCAL   serious-stoat-300   \n",
       "\n",
       "                             tags.mlflow.source.name  \n",
       "0  /opt/anaconda3/envs/food-rec/lib/python3.12/si...  \n",
       "1  /opt/anaconda3/envs/food-rec/lib/python3.12/si...  \n",
       "\n",
       "[2 rows x 28 columns]"
      ]
     },
     "execution_count": 401,
     "metadata": {},
     "output_type": "execute_result"
    }
   ],
   "source": [
    "runs"
   ]
  },
  {
   "cell_type": "code",
   "execution_count": null,
   "id": "ce33965e",
   "metadata": {},
   "outputs": [],
   "source": [
    "deprecate_runs = runs.iloc[params[\"model_register\"][\"max_runs\"]:]\n",
    "\n",
    "for index, run in deprecate_runs.iterrows():\n",
    "    # Delete run from MLFlow\n",
    "    id = run[\"run_id\"]\n",
    "    mlflow.delete_run(id)\n",
    "\n",
    "    # Delete run from local file system\n",
    "    run_path = os.path.join(\"../mlflow/mlruns\", run[\"experiment_id\"], run[\"run_id\"])\n",
    "    if os.path.exists(run_path):\n",
    "        print(f\"Deleting local run directory: {run_path}\")\n",
    "        shutil.rmtree(run_path)\n",
    "\n",
    "    # Delete artifact from local file system\n",
    "    artifact_path = os.path.join(*run[\"params.local_uri\"].split(\"/\")[:-1]) \n",
    "    \n",
    "    if os.path.exists(artifact_path):\n",
    "        print(f\"Deleting local model artifacts: {artifact_path}\")\n",
    "        shutil.rmtree(artifact_path)"
   ]
  }
 ],
 "metadata": {
  "kernelspec": {
   "display_name": "food-rec",
   "language": "python",
   "name": "python3"
  },
  "language_info": {
   "codemirror_mode": {
    "name": "ipython",
    "version": 3
   },
   "file_extension": ".py",
   "mimetype": "text/x-python",
   "name": "python",
   "nbconvert_exporter": "python",
   "pygments_lexer": "ipython3",
   "version": "3.12.3"
  }
 },
 "nbformat": 4,
 "nbformat_minor": 5
}
