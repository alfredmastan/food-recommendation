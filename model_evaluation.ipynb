{
 "cells": [
  {
   "cell_type": "markdown",
   "id": "fd633618",
   "metadata": {},
   "source": [
    "# Model Validation"
   ]
  },
  {
   "cell_type": "code",
   "execution_count": 1,
   "id": "1e68872d",
   "metadata": {},
   "outputs": [],
   "source": [
    "# Import required libraries\n",
    "import numpy as np\n",
    "import pandas as pd\n",
    "import re\n",
    "\n",
    "from gensim.models import Word2Vec\n",
    "from sklearn.metrics.pairwise import cosine_similarity\n",
    "import mlflow\n",
    "\n",
    "import json\n",
    "import requests\n",
    "import boto3\n",
    "\n",
    "import streamlit as st\n",
    "\n",
    "import warnings\n",
    "warnings.filterwarnings(\"ignore\")"
   ]
  },
  {
   "cell_type": "markdown",
   "id": "707c3360",
   "metadata": {},
   "source": [
    "### Logging"
   ]
  },
  {
   "cell_type": "code",
   "execution_count": 55,
   "id": "9116ac87",
   "metadata": {},
   "outputs": [
    {
     "name": "stderr",
     "output_type": "stream",
     "text": [
      "2025/07/19 19:51:22 INFO mlflow.tracking.fluent: Experiment with name 'word2vec_experiment' does not exist. Creating a new experiment.\n"
     ]
    },
    {
     "name": "stdout",
     "output_type": "stream",
     "text": [
      "🏃 View run bright-goose-311 at: http://127.0.0.1:5000/#/experiments/505961469723674826/runs/1253ef6b216948a6b7bec142fea2a953\n",
      "🧪 View experiment at: http://127.0.0.1:5000/#/experiments/505961469723674826\n"
     ]
    }
   ],
   "source": [
    "model_path = \"word2vec.model\"\n",
    "recipe_path = \"processed_cookbook.pkl\"\n",
    "\n",
    "mlflow.set_tracking_uri(\"http://127.0.0.1:5000\")\n",
    "mlflow.set_experiment(\"word2vec_experiment\")\n",
    "\n",
    "with mlflow.start_run():\n",
    "    # mlflow.log_params(params)\n",
    "\n",
    "    model_info = mlflow.pyfunc.log_model(\n",
    "        name=\"word2vec_model\",\n",
    "        python_model=\"./models/word2vec.py\",\n",
    "        pip_requirements=[\"gensim==4.3.3\",\n",
    "                          \"json\"] # json version?        \n",
    "    )\n",
    "    \n",
    "    # Validation \n",
    "    "
   ]
  },
  {
   "cell_type": "code",
   "execution_count": 49,
   "id": "8280a246",
   "metadata": {},
   "outputs": [
    {
     "name": "stderr",
     "output_type": "stream",
     "text": [
      "Downloading artifacts: 100%|██████████| 5/5 [00:00<00:00, 244.30it/s]\n"
     ]
    }
   ],
   "source": [
    "model = mlflow.pyfunc.load_model(model_info._model_uri)"
   ]
  },
  {
   "cell_type": "code",
   "execution_count": null,
   "id": "29c0f924",
   "metadata": {},
   "outputs": [
    {
     "name": "stderr",
     "output_type": "stream",
     "text": [
      "Downloading artifacts: 100%|██████████| 7/7 [00:00<00:00, 39.70it/s]\n"
     ]
    }
   ],
   "source": [
    "def connect_database():\n",
    "    \"\"\"Connect to the DynamoDB database.\"\"\"\n",
    "    dynamodb = boto3.resource(\"dynamodb\",\n",
    "                            aws_access_key_id=st.secrets.s3.AWS_ACCESS_KEY_ID,\n",
    "                            aws_secret_access_key=st.secrets.s3.AWS_SECRET_ACCESS_KEY,\n",
    "                            region_name=st.secrets.s3.AWS_DEFAULT_REGION)\n",
    "    table = dynamodb.Table(st.secrets.s3.DB_NAME)\n",
    "    return table\n",
    "\n",
    "table = connect_database()\n",
    "\n",
    "user_id = 110833230122006731136\n",
    "user_item = table.get_item(Key={\"user_id\": int(user_id)})[\"Item\"]\n",
    "\n",
    "liked_idx = list(map(int, user_item[\"liked_idx\"].keys()))\n",
    "disliked_idx = list(map(int, user_item[\"disliked_idx\"].keys()))\n",
    "\n",
    "loaded_model = mlflow.pyfunc.load_model(model_uri=model_info.model_uri)\n",
    "predicted = loaded_model.predict([liked_idx, disliked_idx])"
   ]
  },
  {
   "cell_type": "code",
   "execution_count": null,
   "id": "40eb962f",
   "metadata": {},
   "outputs": [
    {
     "data": {
      "text/plain": [
       "array([2576, 5757, 4283, 6044, 4242, 4181, 3195, 3736, 4375, 6086])"
      ]
     },
     "metadata": {},
     "output_type": "display_data"
    }
   ],
   "source": [
    "np.asarray(json.loads(predicted))"
   ]
  }
 ],
 "metadata": {
  "kernelspec": {
   "display_name": "food-rec",
   "language": "python",
   "name": "python3"
  },
  "language_info": {
   "codemirror_mode": {
    "name": "ipython",
    "version": 3
   },
   "file_extension": ".py",
   "mimetype": "text/x-python",
   "name": "python",
   "nbconvert_exporter": "python",
   "pygments_lexer": "ipython3",
   "version": "3.12.3"
  }
 },
 "nbformat": 4,
 "nbformat_minor": 5
}
