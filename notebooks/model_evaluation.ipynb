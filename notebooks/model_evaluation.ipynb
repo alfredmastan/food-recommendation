{
 "cells": [
  {
   "cell_type": "markdown",
   "id": "fd633618",
   "metadata": {},
   "source": [
    "# Model Evaluation"
   ]
  },
  {
   "cell_type": "code",
   "execution_count": 3,
   "id": "1e68872d",
   "metadata": {},
   "outputs": [],
   "source": [
    "# Import required libraries\n",
    "import numpy as np\n",
    "import pandas as pd\n",
    "# from models.embedding_model import EmbeddingModel\n",
    "\n",
    "# from sklearn.metrics.pairwise import cosine_similarity\n",
    "import mlflow\n",
    "\n",
    "import json\n",
    "import requests\n",
    "import boto3\n",
    "\n",
    "import streamlit as st\n",
    "\n",
    "import warnings\n",
    "warnings.filterwarnings(\"ignore\")"
   ]
  },
  {
   "cell_type": "markdown",
   "id": "707c3360",
   "metadata": {},
   "source": [
    "### Logging"
   ]
  },
  {
   "cell_type": "code",
   "execution_count": 3,
   "id": "3c3eeadb",
   "metadata": {},
   "outputs": [],
   "source": [
    "def connect_database():\n",
    "    \"\"\"Connect to the DynamoDB database.\"\"\"\n",
    "    dynamodb = boto3.resource(\"dynamodb\",\n",
    "                            aws_access_key_id=st.secrets.s3.AWS_ACCESS_KEY_ID,\n",
    "                            aws_secret_access_key=st.secrets.s3.AWS_SECRET_ACCESS_KEY,\n",
    "                            region_name=st.secrets.s3.AWS_DEFAULT_REGION)\n",
    "    table = dynamodb.Table(st.secrets.s3.DB_NAME)\n",
    "    return table\n",
    "\n",
    "table = connect_database()\n",
    "\n",
    "user_id = 110833230122006731136 \n",
    "user_item = table.get_item(Key={\"user_id\": int(user_id)})[\"Item\"]\n",
    "\n",
    "liked_idx = list(map(int, user_item[\"liked_idx\"].keys()))\n",
    "disliked_idx = list(map(int, user_item[\"disliked_idx\"].keys()))"
   ]
  },
  {
   "cell_type": "code",
   "execution_count": null,
   "id": "9116ac87",
   "metadata": {},
   "outputs": [
    {
     "name": "stderr",
     "output_type": "stream",
     "text": [
      "Downloading artifacts: 100%|██████████| 1/1 [00:00<00:00, 3214.03it/s] \n",
      "Downloading artifacts: 100%|██████████| 1/1 [00:00<00:00, 1027.76it/s]\n",
      "Downloading artifacts: 100%|██████████| 7/7 [00:00<00:00, 40.84it/s]   \n"
     ]
    },
    {
     "name": "stdout",
     "output_type": "stream",
     "text": [
      "🏃 View run angry-chimp-486 at: http://127.0.0.1:5000/#/experiments/484303514770949339/runs/08f0ee683da94d4f8cc444a0d6cdf5b0\n",
      "🧪 View experiment at: http://127.0.0.1:5000/#/experiments/484303514770949339\n"
     ]
    }
   ],
   "source": [
    "fasttext_path = \"fasttext.model\" \n",
    "word2vec_path = \"word2vec.model\" \n",
    "recipe_path = \"processed_cookbook.pkl\"\n",
    "\n",
    "mlflow.set_tracking_uri(\"http://127.0.0.1:8080\")\n",
    "mlflow.set_experiment(\"model_validation\")\n",
    "\n",
    "n_recs = 30\n",
    "\n",
    "with mlflow.start_run():\n",
    "    # mlflow.log_params(params)\n",
    "    \n",
    "    # Log model\n",
    "    model_info = mlflow.pyfunc.log_model(\n",
    "        name=\"word2vec_model_search\",\n",
    "        python_model=EmbeddingModel(n_recs=n_recs, like_step=0.8, dislike_step=1.0, model=\"FastText\"), # \"./models/EmbeddingModel.py\" \n",
    "        artifacts={\"fasttext_path\": fasttext_path, \n",
    "                   \"word2vec_path\": word2vec_path,\n",
    "                   \"recipe_path\": recipe_path},\n",
    "        pip_requirements=[\"gensim==4.3.3\"]\n",
    "    )\n",
    "    \n",
    "    # Load model for validation \n",
    "    loaded_model = mlflow.pyfunc.load_model(model_uri=model_info.model_uri)\n",
    "\n",
    "    # # Grab data for validation\n",
    "    # liked_df = pd.DataFrame().from_dict(user_item[\"liked_idx\"], orient=\"index\").reset_index().rename(columns={\"index\": \"recipe_id\", 0: \"date\"})\n",
    "    # liked_df[\"date\"] = pd.to_datetime(liked_df[\"date\"])\n",
    "    # liked_df[\"recipe_id\"] = liked_df[\"recipe_id\"].astype(int)\n",
    "    # liked_df.sort_values(by=\"date\", ascending=False, inplace=True)\n",
    "    # liked_df.reset_index(drop=True, inplace=True)\n",
    "    # like_test = liked_df.iloc[:-5, :]\n",
    "    \n",
    "    # disliked_df = pd.DataFrame().from_dict(user_item[\"disliked_idx\"], orient=\"index\").reset_index().rename(columns={\"index\": \"recipe_id\", 0: \"date\"})\n",
    "    # disliked_df[\"date\"] = pd.to_datetime(disliked_df[\"date\"])\n",
    "    # disliked_df[\"recipe_id\"] = disliked_df[\"recipe_id\"].astype(int)\n",
    "    # disliked_df.sort_values(by=\"date\", ascending=False, inplace=True)\n",
    "    # disliked_df.reset_index(drop=True, inplace=True)\n",
    "    # dislike_test = disliked_df.iloc[:-5, :]\n",
    "    \n",
    "    # prediction = loaded_model.predict([like_test[\"recipe_id\"].values.tolist(), dislike_test[\"recipe_id\"].values.tolist()])\n",
    "    # prediction = np.asarray(json.loads(prediction))\n",
    "    # print(\"Prediction: \", prediction)\n",
    "\n",
    "    # precision_k = np.isin(prediction, liked_df[\"recipe_id\"].values.tolist()).sum()/n_recs\n",
    "    # mlflow.log_metric(\"precision_k\", precision_k)\n",
    "    # print(f\"Precision@{n_recs} = \", precision_k)\n",
    "\n",
    "    # recall_k = np.isin(prediction, liked_df[\"recipe_id\"].values.tolist()).sum()/len(liked_df)\n",
    "    # mlflow.log_metric(\"recall_k\", recall_k)\n",
    "    # print(f\"Recall@{n_recs} = \", recall_k)\n",
    "\n"
   ]
  },
  {
   "cell_type": "markdown",
   "id": "4a827a70",
   "metadata": {},
   "source": [
    "<!-- ### Validation -->"
   ]
  },
  {
   "cell_type": "code",
   "execution_count": 3,
   "id": "8280a246",
   "metadata": {},
   "outputs": [
    {
     "name": "stderr",
     "output_type": "stream",
     "text": [
      "Downloading artifacts: 100%|██████████| 7/7 [00:00<00:00, 35.71it/s]   \n"
     ]
    }
   ],
   "source": [
    "model = mlflow.pyfunc.load_model(model_info._model_uri)"
   ]
  },
  {
   "cell_type": "code",
   "execution_count": 4,
   "id": "69e05301",
   "metadata": {},
   "outputs": [
    {
     "data": {
      "text/plain": [
       "'[6042, 223, 232, 336, 5624, 5058, 5522, 6111, 5102, 4576, 6254, 5024, 4833, 3720, 4120, 4249, 4814, 4928, 6252, 3609, 4670, 6157, 5931, 518, 4461, 4430, 6027, 572, 4711, 5094]'"
      ]
     },
     "execution_count": 4,
     "metadata": {},
     "output_type": "execute_result"
    }
   ],
   "source": [
    "text = \"honey, salt, pepper, chicken, beef, fish\"\n",
    "query = [ingredient.strip() for ingredient in text.split(\",\")]\n",
    "model.predict(query)"
   ]
  },
  {
   "cell_type": "code",
   "execution_count": 31,
   "id": "29c0f924",
   "metadata": {},
   "outputs": [
    {
     "name": "stderr",
     "output_type": "stream",
     "text": [
      "Downloading artifacts: 100%|██████████| 7/7 [00:00<00:00, 89.99it/s] \n"
     ]
    }
   ],
   "source": [
    "def connect_database():\n",
    "    \"\"\"Connect to the DynamoDB database.\"\"\"\n",
    "    dynamodb = boto3.resource(\"dynamodb\",\n",
    "                            aws_access_key_id=st.secrets.s3.AWS_ACCESS_KEY_ID,\n",
    "                            aws_secret_access_key=st.secrets.s3.AWS_SECRET_ACCESS_KEY,\n",
    "                            region_name=st.secrets.s3.AWS_DEFAULT_REGION)\n",
    "    table = dynamodb.Table(st.secrets.s3.DB_NAME)\n",
    "    return table\n",
    "\n",
    "table = connect_database()\n",
    "\n",
    "user_id = 110833230122006731136 # alfredmastann@gmail.com test user\n",
    "user_item = table.get_item(Key={\"user_id\": int(user_id)})[\"Item\"]\n",
    "\n",
    "liked_idx = list(map(int, user_item[\"liked_idx\"].keys()))\n",
    "disliked_idx = list(map(int, user_item[\"disliked_idx\"].keys()))\n",
    "\n",
    "loaded_model = mlflow.pyfunc.load_model(model_uri=model_info.model_uri)\n",
    "predicted = loaded_model.predict([liked_idx, disliked_idx])"
   ]
  },
  {
   "cell_type": "code",
   "execution_count": null,
   "id": "a4e2a3c6",
   "metadata": {},
   "outputs": [
    {
     "data": {
      "application/vnd.microsoft.datawrangler.viewer.v0+json": {
       "columns": [
        {
         "name": "index",
         "rawType": "int64",
         "type": "integer"
        },
        {
         "name": "recipe_id",
         "rawType": "int64",
         "type": "integer"
        },
        {
         "name": "date",
         "rawType": "datetime64[ns]",
         "type": "datetime"
        }
       ],
       "ref": "665aa903-8fcb-4a04-8a9a-29bacb128289",
       "rows": [
        [
         "0",
         "1955",
         "2025-08-11 17:47:31"
        ],
        [
         "1",
         "4381",
         "2025-08-11 17:47:25"
        ],
        [
         "2",
         "4102",
         "2025-07-22 22:25:17"
        ],
        [
         "3",
         "5601",
         "2025-07-22 22:25:12"
        ],
        [
         "4",
         "995",
         "2025-07-22 22:25:09"
        ],
        [
         "5",
         "6081",
         "2025-07-22 22:25:05"
        ],
        [
         "6",
         "3220",
         "2025-07-22 22:25:03"
        ],
        [
         "7",
         "4005",
         "2025-07-22 22:24:59"
        ],
        [
         "8",
         "1076",
         "2025-07-22 22:24:55"
        ],
        [
         "9",
         "149",
         "2025-07-22 22:24:50"
        ],
        [
         "10",
         "5816",
         "2025-07-22 22:24:49"
        ],
        [
         "11",
         "4701",
         "2025-07-22 22:24:47"
        ],
        [
         "12",
         "6079",
         "2025-07-22 22:24:44"
        ],
        [
         "13",
         "617",
         "2025-07-22 22:24:43"
        ],
        [
         "14",
         "3194",
         "2025-07-22 22:24:42"
        ],
        [
         "15",
         "4485",
         "2025-07-22 22:24:41"
        ],
        [
         "16",
         "5506",
         "2025-07-22 22:24:37"
        ],
        [
         "17",
         "6173",
         "2025-07-22 22:24:33"
        ],
        [
         "18",
         "5993",
         "2025-07-22 22:24:31"
        ],
        [
         "19",
         "4216",
         "2025-07-22 22:24:30"
        ],
        [
         "20",
         "6129",
         "2025-07-22 22:24:29"
        ],
        [
         "21",
         "3406",
         "2025-07-22 22:24:28"
        ],
        [
         "22",
         "5593",
         "2025-07-22 22:24:22"
        ],
        [
         "23",
         "6212",
         "2025-07-22 22:24:17"
        ],
        [
         "24",
         "4817",
         "2025-07-22 22:24:16"
        ],
        [
         "25",
         "6163",
         "2025-07-22 22:24:07"
        ],
        [
         "26",
         "5778",
         "2025-07-22 22:24:06"
        ],
        [
         "27",
         "93",
         "2025-07-22 22:24:03"
        ],
        [
         "28",
         "6153",
         "2025-07-22 22:24:01"
        ],
        [
         "29",
         "5485",
         "2025-07-22 22:24:00"
        ],
        [
         "30",
         "6092",
         "2025-07-22 22:23:59"
        ],
        [
         "31",
         "683",
         "2025-07-22 22:23:58"
        ],
        [
         "32",
         "5791",
         "2025-07-22 22:23:57"
        ],
        [
         "33",
         "3148",
         "2025-07-22 22:23:50"
        ],
        [
         "34",
         "5437",
         "2025-07-22 22:23:48"
        ],
        [
         "35",
         "4226",
         "2025-07-22 22:23:45"
        ],
        [
         "36",
         "5508",
         "2025-07-22 22:23:40"
        ]
       ],
       "shape": {
        "columns": 2,
        "rows": 37
       }
      },
      "text/html": [
       "<div>\n",
       "<style scoped>\n",
       "    .dataframe tbody tr th:only-of-type {\n",
       "        vertical-align: middle;\n",
       "    }\n",
       "\n",
       "    .dataframe tbody tr th {\n",
       "        vertical-align: top;\n",
       "    }\n",
       "\n",
       "    .dataframe thead th {\n",
       "        text-align: right;\n",
       "    }\n",
       "</style>\n",
       "<table border=\"1\" class=\"dataframe\">\n",
       "  <thead>\n",
       "    <tr style=\"text-align: right;\">\n",
       "      <th></th>\n",
       "      <th>recipe_id</th>\n",
       "      <th>date</th>\n",
       "    </tr>\n",
       "  </thead>\n",
       "  <tbody>\n",
       "    <tr>\n",
       "      <th>0</th>\n",
       "      <td>1955</td>\n",
       "      <td>2025-08-11 17:47:31</td>\n",
       "    </tr>\n",
       "    <tr>\n",
       "      <th>1</th>\n",
       "      <td>4381</td>\n",
       "      <td>2025-08-11 17:47:25</td>\n",
       "    </tr>\n",
       "    <tr>\n",
       "      <th>2</th>\n",
       "      <td>4102</td>\n",
       "      <td>2025-07-22 22:25:17</td>\n",
       "    </tr>\n",
       "    <tr>\n",
       "      <th>3</th>\n",
       "      <td>5601</td>\n",
       "      <td>2025-07-22 22:25:12</td>\n",
       "    </tr>\n",
       "    <tr>\n",
       "      <th>4</th>\n",
       "      <td>995</td>\n",
       "      <td>2025-07-22 22:25:09</td>\n",
       "    </tr>\n",
       "    <tr>\n",
       "      <th>5</th>\n",
       "      <td>6081</td>\n",
       "      <td>2025-07-22 22:25:05</td>\n",
       "    </tr>\n",
       "    <tr>\n",
       "      <th>6</th>\n",
       "      <td>3220</td>\n",
       "      <td>2025-07-22 22:25:03</td>\n",
       "    </tr>\n",
       "    <tr>\n",
       "      <th>7</th>\n",
       "      <td>4005</td>\n",
       "      <td>2025-07-22 22:24:59</td>\n",
       "    </tr>\n",
       "    <tr>\n",
       "      <th>8</th>\n",
       "      <td>1076</td>\n",
       "      <td>2025-07-22 22:24:55</td>\n",
       "    </tr>\n",
       "    <tr>\n",
       "      <th>9</th>\n",
       "      <td>149</td>\n",
       "      <td>2025-07-22 22:24:50</td>\n",
       "    </tr>\n",
       "    <tr>\n",
       "      <th>10</th>\n",
       "      <td>5816</td>\n",
       "      <td>2025-07-22 22:24:49</td>\n",
       "    </tr>\n",
       "    <tr>\n",
       "      <th>11</th>\n",
       "      <td>4701</td>\n",
       "      <td>2025-07-22 22:24:47</td>\n",
       "    </tr>\n",
       "    <tr>\n",
       "      <th>12</th>\n",
       "      <td>6079</td>\n",
       "      <td>2025-07-22 22:24:44</td>\n",
       "    </tr>\n",
       "    <tr>\n",
       "      <th>13</th>\n",
       "      <td>617</td>\n",
       "      <td>2025-07-22 22:24:43</td>\n",
       "    </tr>\n",
       "    <tr>\n",
       "      <th>14</th>\n",
       "      <td>3194</td>\n",
       "      <td>2025-07-22 22:24:42</td>\n",
       "    </tr>\n",
       "    <tr>\n",
       "      <th>15</th>\n",
       "      <td>4485</td>\n",
       "      <td>2025-07-22 22:24:41</td>\n",
       "    </tr>\n",
       "    <tr>\n",
       "      <th>16</th>\n",
       "      <td>5506</td>\n",
       "      <td>2025-07-22 22:24:37</td>\n",
       "    </tr>\n",
       "    <tr>\n",
       "      <th>17</th>\n",
       "      <td>6173</td>\n",
       "      <td>2025-07-22 22:24:33</td>\n",
       "    </tr>\n",
       "    <tr>\n",
       "      <th>18</th>\n",
       "      <td>5993</td>\n",
       "      <td>2025-07-22 22:24:31</td>\n",
       "    </tr>\n",
       "    <tr>\n",
       "      <th>19</th>\n",
       "      <td>4216</td>\n",
       "      <td>2025-07-22 22:24:30</td>\n",
       "    </tr>\n",
       "    <tr>\n",
       "      <th>20</th>\n",
       "      <td>6129</td>\n",
       "      <td>2025-07-22 22:24:29</td>\n",
       "    </tr>\n",
       "    <tr>\n",
       "      <th>21</th>\n",
       "      <td>3406</td>\n",
       "      <td>2025-07-22 22:24:28</td>\n",
       "    </tr>\n",
       "    <tr>\n",
       "      <th>22</th>\n",
       "      <td>5593</td>\n",
       "      <td>2025-07-22 22:24:22</td>\n",
       "    </tr>\n",
       "    <tr>\n",
       "      <th>23</th>\n",
       "      <td>6212</td>\n",
       "      <td>2025-07-22 22:24:17</td>\n",
       "    </tr>\n",
       "    <tr>\n",
       "      <th>24</th>\n",
       "      <td>4817</td>\n",
       "      <td>2025-07-22 22:24:16</td>\n",
       "    </tr>\n",
       "    <tr>\n",
       "      <th>25</th>\n",
       "      <td>6163</td>\n",
       "      <td>2025-07-22 22:24:07</td>\n",
       "    </tr>\n",
       "    <tr>\n",
       "      <th>26</th>\n",
       "      <td>5778</td>\n",
       "      <td>2025-07-22 22:24:06</td>\n",
       "    </tr>\n",
       "    <tr>\n",
       "      <th>27</th>\n",
       "      <td>93</td>\n",
       "      <td>2025-07-22 22:24:03</td>\n",
       "    </tr>\n",
       "    <tr>\n",
       "      <th>28</th>\n",
       "      <td>6153</td>\n",
       "      <td>2025-07-22 22:24:01</td>\n",
       "    </tr>\n",
       "    <tr>\n",
       "      <th>29</th>\n",
       "      <td>5485</td>\n",
       "      <td>2025-07-22 22:24:00</td>\n",
       "    </tr>\n",
       "    <tr>\n",
       "      <th>30</th>\n",
       "      <td>6092</td>\n",
       "      <td>2025-07-22 22:23:59</td>\n",
       "    </tr>\n",
       "    <tr>\n",
       "      <th>31</th>\n",
       "      <td>683</td>\n",
       "      <td>2025-07-22 22:23:58</td>\n",
       "    </tr>\n",
       "    <tr>\n",
       "      <th>32</th>\n",
       "      <td>5791</td>\n",
       "      <td>2025-07-22 22:23:57</td>\n",
       "    </tr>\n",
       "    <tr>\n",
       "      <th>33</th>\n",
       "      <td>3148</td>\n",
       "      <td>2025-07-22 22:23:50</td>\n",
       "    </tr>\n",
       "    <tr>\n",
       "      <th>34</th>\n",
       "      <td>5437</td>\n",
       "      <td>2025-07-22 22:23:48</td>\n",
       "    </tr>\n",
       "    <tr>\n",
       "      <th>35</th>\n",
       "      <td>4226</td>\n",
       "      <td>2025-07-22 22:23:45</td>\n",
       "    </tr>\n",
       "    <tr>\n",
       "      <th>36</th>\n",
       "      <td>5508</td>\n",
       "      <td>2025-07-22 22:23:40</td>\n",
       "    </tr>\n",
       "  </tbody>\n",
       "</table>\n",
       "</div>"
      ],
      "text/plain": [
       "    recipe_id                date\n",
       "0        1955 2025-08-11 17:47:31\n",
       "1        4381 2025-08-11 17:47:25\n",
       "2        4102 2025-07-22 22:25:17\n",
       "3        5601 2025-07-22 22:25:12\n",
       "4         995 2025-07-22 22:25:09\n",
       "5        6081 2025-07-22 22:25:05\n",
       "6        3220 2025-07-22 22:25:03\n",
       "7        4005 2025-07-22 22:24:59\n",
       "8        1076 2025-07-22 22:24:55\n",
       "9         149 2025-07-22 22:24:50\n",
       "10       5816 2025-07-22 22:24:49\n",
       "11       4701 2025-07-22 22:24:47\n",
       "12       6079 2025-07-22 22:24:44\n",
       "13        617 2025-07-22 22:24:43\n",
       "14       3194 2025-07-22 22:24:42\n",
       "15       4485 2025-07-22 22:24:41\n",
       "16       5506 2025-07-22 22:24:37\n",
       "17       6173 2025-07-22 22:24:33\n",
       "18       5993 2025-07-22 22:24:31\n",
       "19       4216 2025-07-22 22:24:30\n",
       "20       6129 2025-07-22 22:24:29\n",
       "21       3406 2025-07-22 22:24:28\n",
       "22       5593 2025-07-22 22:24:22\n",
       "23       6212 2025-07-22 22:24:17\n",
       "24       4817 2025-07-22 22:24:16\n",
       "25       6163 2025-07-22 22:24:07\n",
       "26       5778 2025-07-22 22:24:06\n",
       "27         93 2025-07-22 22:24:03\n",
       "28       6153 2025-07-22 22:24:01\n",
       "29       5485 2025-07-22 22:24:00\n",
       "30       6092 2025-07-22 22:23:59\n",
       "31        683 2025-07-22 22:23:58\n",
       "32       5791 2025-07-22 22:23:57\n",
       "33       3148 2025-07-22 22:23:50\n",
       "34       5437 2025-07-22 22:23:48\n",
       "35       4226 2025-07-22 22:23:45\n",
       "36       5508 2025-07-22 22:23:40"
      ]
     },
     "execution_count": 34,
     "metadata": {},
     "output_type": "execute_result"
    }
   ],
   "source": [
    "liked_df = pd.DataFrame().from_dict(user_item[\"liked_idx\"], orient=\"index\").reset_index().rename(columns={\"index\": \"recipe_id\", 0: \"date\"})\n",
    "liked_df[\"date\"] = pd.to_datetime(liked_df[\"date\"])\n",
    "liked_df[\"recipe_id\"] = liked_df[\"recipe_id\"].astype(int)\n",
    "liked_df.sort_values(by=\"date\", ascending=False, inplace=True)\n",
    "liked_df.reset_index(drop=True, inplace=True)\n",
    "like_test = liked_df.iloc[:-5, :]\n",
    "like_test"
   ]
  },
  {
   "cell_type": "code",
   "execution_count": 35,
   "id": "029e2660",
   "metadata": {},
   "outputs": [
    {
     "data": {
      "application/vnd.microsoft.datawrangler.viewer.v0+json": {
       "columns": [
        {
         "name": "index",
         "rawType": "int64",
         "type": "integer"
        },
        {
         "name": "recipe_id",
         "rawType": "int64",
         "type": "integer"
        },
        {
         "name": "date",
         "rawType": "datetime64[ns]",
         "type": "datetime"
        }
       ],
       "ref": "990fc231-ac95-406a-9955-023b8b233c77",
       "rows": [
        [
         "0",
         "3934",
         "2025-08-11 17:47:27"
        ],
        [
         "1",
         "4006",
         "2025-07-22 22:25:16"
        ],
        [
         "2",
         "6228",
         "2025-07-22 22:25:15"
        ],
        [
         "3",
         "219",
         "2025-07-22 22:25:14"
        ],
        [
         "4",
         "6025",
         "2025-07-22 22:25:13"
        ],
        [
         "5",
         "1053",
         "2025-07-22 22:25:08"
        ],
        [
         "6",
         "5978",
         "2025-07-22 22:25:07"
        ],
        [
         "7",
         "930",
         "2025-07-22 22:25:06"
        ],
        [
         "8",
         "3193",
         "2025-07-22 22:25:02"
        ],
        [
         "9",
         "762",
         "2025-07-22 22:25:01"
        ],
        [
         "10",
         "821",
         "2025-07-22 22:25:00"
        ],
        [
         "11",
         "53",
         "2025-07-22 22:24:57"
        ],
        [
         "12",
         "3421",
         "2025-07-22 22:24:56"
        ],
        [
         "13",
         "3809",
         "2025-07-22 22:24:54"
        ],
        [
         "14",
         "507",
         "2025-07-22 22:24:46"
        ],
        [
         "15",
         "6160",
         "2025-07-22 22:24:45"
        ],
        [
         "16",
         "6266",
         "2025-07-22 22:24:39"
        ],
        [
         "17",
         "529",
         "2025-07-22 22:24:38"
        ],
        [
         "18",
         "5579",
         "2025-07-22 22:24:35"
        ],
        [
         "19",
         "4365",
         "2025-07-22 22:24:32"
        ],
        [
         "20",
         "6053",
         "2025-07-22 22:24:27"
        ],
        [
         "21",
         "5914",
         "2025-07-22 22:24:21"
        ],
        [
         "22",
         "3191",
         "2025-07-22 22:24:20"
        ],
        [
         "23",
         "6179",
         "2025-07-22 22:24:19"
        ],
        [
         "24",
         "733",
         "2025-07-22 22:24:15"
        ],
        [
         "25",
         "5808",
         "2025-07-22 22:24:14"
        ],
        [
         "26",
         "3204",
         "2025-07-22 22:24:12"
        ],
        [
         "27",
         "563",
         "2025-07-22 22:24:11"
        ],
        [
         "28",
         "660",
         "2025-07-22 22:24:10"
        ],
        [
         "29",
         "447",
         "2025-07-22 22:23:56"
        ],
        [
         "30",
         "4756",
         "2025-07-22 22:23:52"
        ],
        [
         "31",
         "56",
         "2025-07-22 22:23:51"
        ],
        [
         "32",
         "1551",
         "2025-07-22 22:23:46"
        ],
        [
         "33",
         "4614",
         "2025-07-22 22:23:44"
        ],
        [
         "34",
         "3398",
         "2025-07-22 22:23:43"
        ],
        [
         "35",
         "3837",
         "2025-07-22 22:23:41"
        ]
       ],
       "shape": {
        "columns": 2,
        "rows": 36
       }
      },
      "text/html": [
       "<div>\n",
       "<style scoped>\n",
       "    .dataframe tbody tr th:only-of-type {\n",
       "        vertical-align: middle;\n",
       "    }\n",
       "\n",
       "    .dataframe tbody tr th {\n",
       "        vertical-align: top;\n",
       "    }\n",
       "\n",
       "    .dataframe thead th {\n",
       "        text-align: right;\n",
       "    }\n",
       "</style>\n",
       "<table border=\"1\" class=\"dataframe\">\n",
       "  <thead>\n",
       "    <tr style=\"text-align: right;\">\n",
       "      <th></th>\n",
       "      <th>recipe_id</th>\n",
       "      <th>date</th>\n",
       "    </tr>\n",
       "  </thead>\n",
       "  <tbody>\n",
       "    <tr>\n",
       "      <th>0</th>\n",
       "      <td>3934</td>\n",
       "      <td>2025-08-11 17:47:27</td>\n",
       "    </tr>\n",
       "    <tr>\n",
       "      <th>1</th>\n",
       "      <td>4006</td>\n",
       "      <td>2025-07-22 22:25:16</td>\n",
       "    </tr>\n",
       "    <tr>\n",
       "      <th>2</th>\n",
       "      <td>6228</td>\n",
       "      <td>2025-07-22 22:25:15</td>\n",
       "    </tr>\n",
       "    <tr>\n",
       "      <th>3</th>\n",
       "      <td>219</td>\n",
       "      <td>2025-07-22 22:25:14</td>\n",
       "    </tr>\n",
       "    <tr>\n",
       "      <th>4</th>\n",
       "      <td>6025</td>\n",
       "      <td>2025-07-22 22:25:13</td>\n",
       "    </tr>\n",
       "    <tr>\n",
       "      <th>5</th>\n",
       "      <td>1053</td>\n",
       "      <td>2025-07-22 22:25:08</td>\n",
       "    </tr>\n",
       "    <tr>\n",
       "      <th>6</th>\n",
       "      <td>5978</td>\n",
       "      <td>2025-07-22 22:25:07</td>\n",
       "    </tr>\n",
       "    <tr>\n",
       "      <th>7</th>\n",
       "      <td>930</td>\n",
       "      <td>2025-07-22 22:25:06</td>\n",
       "    </tr>\n",
       "    <tr>\n",
       "      <th>8</th>\n",
       "      <td>3193</td>\n",
       "      <td>2025-07-22 22:25:02</td>\n",
       "    </tr>\n",
       "    <tr>\n",
       "      <th>9</th>\n",
       "      <td>762</td>\n",
       "      <td>2025-07-22 22:25:01</td>\n",
       "    </tr>\n",
       "    <tr>\n",
       "      <th>10</th>\n",
       "      <td>821</td>\n",
       "      <td>2025-07-22 22:25:00</td>\n",
       "    </tr>\n",
       "    <tr>\n",
       "      <th>11</th>\n",
       "      <td>53</td>\n",
       "      <td>2025-07-22 22:24:57</td>\n",
       "    </tr>\n",
       "    <tr>\n",
       "      <th>12</th>\n",
       "      <td>3421</td>\n",
       "      <td>2025-07-22 22:24:56</td>\n",
       "    </tr>\n",
       "    <tr>\n",
       "      <th>13</th>\n",
       "      <td>3809</td>\n",
       "      <td>2025-07-22 22:24:54</td>\n",
       "    </tr>\n",
       "    <tr>\n",
       "      <th>14</th>\n",
       "      <td>507</td>\n",
       "      <td>2025-07-22 22:24:46</td>\n",
       "    </tr>\n",
       "    <tr>\n",
       "      <th>15</th>\n",
       "      <td>6160</td>\n",
       "      <td>2025-07-22 22:24:45</td>\n",
       "    </tr>\n",
       "    <tr>\n",
       "      <th>16</th>\n",
       "      <td>6266</td>\n",
       "      <td>2025-07-22 22:24:39</td>\n",
       "    </tr>\n",
       "    <tr>\n",
       "      <th>17</th>\n",
       "      <td>529</td>\n",
       "      <td>2025-07-22 22:24:38</td>\n",
       "    </tr>\n",
       "    <tr>\n",
       "      <th>18</th>\n",
       "      <td>5579</td>\n",
       "      <td>2025-07-22 22:24:35</td>\n",
       "    </tr>\n",
       "    <tr>\n",
       "      <th>19</th>\n",
       "      <td>4365</td>\n",
       "      <td>2025-07-22 22:24:32</td>\n",
       "    </tr>\n",
       "    <tr>\n",
       "      <th>20</th>\n",
       "      <td>6053</td>\n",
       "      <td>2025-07-22 22:24:27</td>\n",
       "    </tr>\n",
       "    <tr>\n",
       "      <th>21</th>\n",
       "      <td>5914</td>\n",
       "      <td>2025-07-22 22:24:21</td>\n",
       "    </tr>\n",
       "    <tr>\n",
       "      <th>22</th>\n",
       "      <td>3191</td>\n",
       "      <td>2025-07-22 22:24:20</td>\n",
       "    </tr>\n",
       "    <tr>\n",
       "      <th>23</th>\n",
       "      <td>6179</td>\n",
       "      <td>2025-07-22 22:24:19</td>\n",
       "    </tr>\n",
       "    <tr>\n",
       "      <th>24</th>\n",
       "      <td>733</td>\n",
       "      <td>2025-07-22 22:24:15</td>\n",
       "    </tr>\n",
       "    <tr>\n",
       "      <th>25</th>\n",
       "      <td>5808</td>\n",
       "      <td>2025-07-22 22:24:14</td>\n",
       "    </tr>\n",
       "    <tr>\n",
       "      <th>26</th>\n",
       "      <td>3204</td>\n",
       "      <td>2025-07-22 22:24:12</td>\n",
       "    </tr>\n",
       "    <tr>\n",
       "      <th>27</th>\n",
       "      <td>563</td>\n",
       "      <td>2025-07-22 22:24:11</td>\n",
       "    </tr>\n",
       "    <tr>\n",
       "      <th>28</th>\n",
       "      <td>660</td>\n",
       "      <td>2025-07-22 22:24:10</td>\n",
       "    </tr>\n",
       "    <tr>\n",
       "      <th>29</th>\n",
       "      <td>447</td>\n",
       "      <td>2025-07-22 22:23:56</td>\n",
       "    </tr>\n",
       "    <tr>\n",
       "      <th>30</th>\n",
       "      <td>4756</td>\n",
       "      <td>2025-07-22 22:23:52</td>\n",
       "    </tr>\n",
       "    <tr>\n",
       "      <th>31</th>\n",
       "      <td>56</td>\n",
       "      <td>2025-07-22 22:23:51</td>\n",
       "    </tr>\n",
       "    <tr>\n",
       "      <th>32</th>\n",
       "      <td>1551</td>\n",
       "      <td>2025-07-22 22:23:46</td>\n",
       "    </tr>\n",
       "    <tr>\n",
       "      <th>33</th>\n",
       "      <td>4614</td>\n",
       "      <td>2025-07-22 22:23:44</td>\n",
       "    </tr>\n",
       "    <tr>\n",
       "      <th>34</th>\n",
       "      <td>3398</td>\n",
       "      <td>2025-07-22 22:23:43</td>\n",
       "    </tr>\n",
       "    <tr>\n",
       "      <th>35</th>\n",
       "      <td>3837</td>\n",
       "      <td>2025-07-22 22:23:41</td>\n",
       "    </tr>\n",
       "  </tbody>\n",
       "</table>\n",
       "</div>"
      ],
      "text/plain": [
       "    recipe_id                date\n",
       "0        3934 2025-08-11 17:47:27\n",
       "1        4006 2025-07-22 22:25:16\n",
       "2        6228 2025-07-22 22:25:15\n",
       "3         219 2025-07-22 22:25:14\n",
       "4        6025 2025-07-22 22:25:13\n",
       "5        1053 2025-07-22 22:25:08\n",
       "6        5978 2025-07-22 22:25:07\n",
       "7         930 2025-07-22 22:25:06\n",
       "8        3193 2025-07-22 22:25:02\n",
       "9         762 2025-07-22 22:25:01\n",
       "10        821 2025-07-22 22:25:00\n",
       "11         53 2025-07-22 22:24:57\n",
       "12       3421 2025-07-22 22:24:56\n",
       "13       3809 2025-07-22 22:24:54\n",
       "14        507 2025-07-22 22:24:46\n",
       "15       6160 2025-07-22 22:24:45\n",
       "16       6266 2025-07-22 22:24:39\n",
       "17        529 2025-07-22 22:24:38\n",
       "18       5579 2025-07-22 22:24:35\n",
       "19       4365 2025-07-22 22:24:32\n",
       "20       6053 2025-07-22 22:24:27\n",
       "21       5914 2025-07-22 22:24:21\n",
       "22       3191 2025-07-22 22:24:20\n",
       "23       6179 2025-07-22 22:24:19\n",
       "24        733 2025-07-22 22:24:15\n",
       "25       5808 2025-07-22 22:24:14\n",
       "26       3204 2025-07-22 22:24:12\n",
       "27        563 2025-07-22 22:24:11\n",
       "28        660 2025-07-22 22:24:10\n",
       "29        447 2025-07-22 22:23:56\n",
       "30       4756 2025-07-22 22:23:52\n",
       "31         56 2025-07-22 22:23:51\n",
       "32       1551 2025-07-22 22:23:46\n",
       "33       4614 2025-07-22 22:23:44\n",
       "34       3398 2025-07-22 22:23:43\n",
       "35       3837 2025-07-22 22:23:41"
      ]
     },
     "execution_count": 35,
     "metadata": {},
     "output_type": "execute_result"
    }
   ],
   "source": [
    "disliked_df = pd.DataFrame().from_dict(user_item[\"disliked_idx\"], orient=\"index\").reset_index().rename(columns={\"index\": \"recipe_id\", 0: \"date\"})\n",
    "disliked_df[\"date\"] = pd.to_datetime(disliked_df[\"date\"])\n",
    "disliked_df[\"recipe_id\"] = disliked_df[\"recipe_id\"].astype(int)\n",
    "disliked_df.sort_values(by=\"date\", ascending=False, inplace=True)\n",
    "disliked_df.reset_index(drop=True, inplace=True)\n",
    "dislike_test = disliked_df.iloc[:-5, :]\n",
    "dislike_test"
   ]
  },
  {
   "cell_type": "code",
   "execution_count": 12,
   "id": "0b544193",
   "metadata": {},
   "outputs": [
    {
     "data": {
      "text/plain": [
       "array([4930, 3895, 3411, 5562, 5703, 3169, 3126, 3179, 5794, 5595, 3627,\n",
       "       6131, 5585,  583,   90, 5301, 3400, 3149, 1496, 4241,  569, 3214,\n",
       "       5892, 5499, 5685, 3830, 3211,  735, 5575,  756])"
      ]
     },
     "execution_count": 12,
     "metadata": {},
     "output_type": "execute_result"
    }
   ],
   "source": [
    "prediction = loaded_model.predict([like_test[\"recipe_id\"].values.tolist(), dislike_test[\"recipe_id\"].values.tolist()])\n",
    "prediction = np.asarray(json.loads(prediction))\n",
    "prediction"
   ]
  },
  {
   "cell_type": "markdown",
   "id": "bf96ba4d",
   "metadata": {},
   "source": [
    "Recall@K (K = 10)"
   ]
  },
  {
   "cell_type": "code",
   "execution_count": 8,
   "id": "7893a5e1",
   "metadata": {},
   "outputs": [
    {
     "data": {
      "text/plain": [
       "0.023809523809523808"
      ]
     },
     "execution_count": 8,
     "metadata": {},
     "output_type": "execute_result"
    }
   ],
   "source": [
    "recall_k = np.isin(prediction, liked_df[\"recipe_id\"].values.tolist()).sum()/len(liked_df)\n",
    "recall_k"
   ]
  },
  {
   "cell_type": "markdown",
   "id": "9fc32fe5",
   "metadata": {},
   "source": [
    "Precision@K (K = 10)"
   ]
  },
  {
   "cell_type": "code",
   "execution_count": 9,
   "id": "6004d97c",
   "metadata": {},
   "outputs": [
    {
     "data": {
      "text/plain": [
       "0.1"
      ]
     },
     "execution_count": 9,
     "metadata": {},
     "output_type": "execute_result"
    }
   ],
   "source": [
    "precision_k = np.isin(prediction, liked_df[\"recipe_id\"].values.tolist()).sum()/10\n",
    "precision_k"
   ]
  },
  {
   "cell_type": "markdown",
   "id": "43a5a218",
   "metadata": {},
   "source": [
    "### Registering"
   ]
  },
  {
   "cell_type": "code",
   "execution_count": 5,
   "id": "92d73c6b",
   "metadata": {},
   "outputs": [
    {
     "name": "stderr",
     "output_type": "stream",
     "text": [
      "Registered model 'word2vec_model' already exists. Creating a new version of this model...\n",
      "2025/08/17 16:07:33 INFO mlflow.store.model_registry.abstract_store: Waiting up to 300 seconds for model version to finish creation. Model name: word2vec_model, version 12\n"
     ]
    },
    {
     "name": "stdout",
     "output_type": "stream",
     "text": [
      "🏃 View run charming-cub-981 at: http://127.0.0.1:5000/#/experiments/484303514770949339/runs/9a87b537f6314c6db73922d31945c24f\n",
      "🧪 View experiment at: http://127.0.0.1:5000/#/experiments/484303514770949339\n"
     ]
    },
    {
     "name": "stderr",
     "output_type": "stream",
     "text": [
      "Created version '12' of model 'word2vec_model'.\n"
     ]
    }
   ],
   "source": [
    "# Register model if validation is successful (RUN THIS TO UPDATE THE STREAMLIT MODEL)\n",
    "with mlflow.start_run():\n",
    "    mlflow.register_model(\n",
    "        model_uri=model_info._model_uri,\n",
    "        name=\"word2vec_model\"\n",
    "    )"
   ]
  },
  {
   "cell_type": "markdown",
   "id": "c9bb8f7a",
   "metadata": {},
   "source": [
    "### API Call Tests"
   ]
  },
  {
   "cell_type": "code",
   "execution_count": 14,
   "id": "85055d7b",
   "metadata": {},
   "outputs": [
    {
     "data": {
      "text/plain": [
       "'\"[5297, 4557, 157, 161, 33, 4726, 5797, 274, 13, 618, 140, 14, 896, 251, 45, 40, 5068, 6047, 6073, 55, 206, 4709, 637, 231, 3863, 412, 5598, 3571, 5957, 307]\"'"
      ]
     },
     "execution_count": 14,
     "metadata": {},
     "output_type": "execute_result"
    }
   ],
   "source": [
    "params = {\"query\": [\"rice\", \"beef\", \"meat\"]}\n",
    "response = requests.post(f\"http://localhost:8000/recommend/\", params=params)\n",
    "response.text"
   ]
  },
  {
   "cell_type": "code",
   "execution_count": null,
   "id": "5827969a",
   "metadata": {},
   "outputs": [],
   "source": []
  }
 ],
 "metadata": {
  "kernelspec": {
   "display_name": "food-rec",
   "language": "python",
   "name": "python3"
  },
  "language_info": {
   "codemirror_mode": {
    "name": "ipython",
    "version": 3
   },
   "file_extension": ".py",
   "mimetype": "text/x-python",
   "name": "python",
   "nbconvert_exporter": "python",
   "pygments_lexer": "ipython3",
   "version": "3.12.3"
  }
 },
 "nbformat": 4,
 "nbformat_minor": 5
}
